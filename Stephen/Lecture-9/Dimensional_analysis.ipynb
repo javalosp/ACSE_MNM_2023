{
 "cells": [
  {
   "cell_type": "code",
   "execution_count": 6,
   "metadata": {},
   "outputs": [
    {
     "name": "stdout",
     "output_type": "stream",
     "text": [
      "Populating the interactive namespace from numpy and matplotlib\n"
     ]
    }
   ],
   "source": [
    "%pylab inline"
   ]
  },
  {
   "cell_type": "code",
   "execution_count": 7,
   "metadata": {},
   "outputs": [
    {
     "name": "stdout",
     "output_type": "stream",
     "text": [
      "[-1. -0. -0.]\n",
      "[1. 0. 0.]\n",
      "[ 0.33333333 -0.33333333 -0.33333333]\n",
      "[0. 1. 0.]\n",
      "[ 0.66666667 -0.66666667  0.33333333]\n",
      "[0. 0. 1.]\n"
     ]
    }
   ],
   "source": [
    "A1 = array([[1.,1.,0.],[-3.,-1.,1],[0.,-1.,-2]])\n",
    "\n",
    "invA1=linalg.inv(A1)\n",
    "\n",
    "A2 = array([[1.,0.,0.],[-3.,1.,1.],[0.,-1.,0.]])\n",
    "\n",
    "AinvA = matmul(invA1,A2)\n",
    "\n",
    "\n",
    "x2_1 = array([1.,0.,0.])\n",
    "x2_2 = array([0.,1.,0.])\n",
    "x2_3 = array([0.,0.,1.])\n",
    "\n",
    "\n",
    "x1_1 = -matmul(AinvA,x2_1)\n",
    "x1_2 = -matmul(AinvA,x2_2)\n",
    "x1_3 = -matmul(AinvA,x2_3)\n",
    "\n",
    "\n",
    "print(x1_1)\n",
    "print(x2_1)\n",
    "\n",
    "print(x1_2)\n",
    "print(x2_2)\n",
    "\n",
    "print(x1_3)\n",
    "print(x2_3)"
   ]
  },
  {
   "cell_type": "code",
   "execution_count": null,
   "metadata": {},
   "outputs": [],
   "source": []
  }
 ],
 "metadata": {
  "kernelspec": {
   "display_name": "Python 3",
   "language": "python",
   "name": "python3"
  },
  "language_info": {
   "codemirror_mode": {
    "name": "ipython",
    "version": 3
   },
   "file_extension": ".py",
   "mimetype": "text/x-python",
   "name": "python",
   "nbconvert_exporter": "python",
   "pygments_lexer": "ipython3",
   "version": "3.7.10"
  }
 },
 "nbformat": 4,
 "nbformat_minor": 2
}
