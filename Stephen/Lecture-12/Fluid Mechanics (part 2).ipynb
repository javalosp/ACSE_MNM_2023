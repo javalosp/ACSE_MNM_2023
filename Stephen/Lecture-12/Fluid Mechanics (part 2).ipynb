{
 "cells": [
  {
   "cell_type": "code",
   "execution_count": null,
   "metadata": {},
   "outputs": [],
   "source": [
    "%%html\n",
    "<style>\n",
    "div.optional {\n",
    "    display: block;\n",
    "    background-color: #d7e2ff;\n",
    "    border-color: #d7e2ff;\n",
    "    border-left: 5px solid #d7e2ff;\n",
    "    padding: 0.5em;\n",
    "}\n",
    "div.advanced {\n",
    "    display: block;\n",
    "    background-color: #fff4d7;\n",
    "    border-color: #fff4d7;\n",
    "    border-left: 5px solid #fff4d7;\n",
    "    padding: 0.5em;\n",
    "}\n",
    "</style>"
   ]
  },
  {
   "cell_type": "code",
   "execution_count": 1,
   "metadata": {
    "scrolled": false
   },
   "outputs": [
    {
     "name": "stderr",
     "output_type": "stream",
     "text": [
      "Bad value in file '/home/jea4117/.config/matplotlib/matplotlibrc', line 1 ('backend: wkAgg'): Key backend: 'wkagg' is not a valid value for backend; supported values are ['GTK3Agg', 'GTK3Cairo', 'GTK4Agg', 'GTK4Cairo', 'MacOSX', 'nbAgg', 'QtAgg', 'QtCairo', 'Qt5Agg', 'Qt5Cairo', 'TkAgg', 'TkCairo', 'WebAgg', 'WX', 'WXAgg', 'WXCairo', 'agg', 'cairo', 'pdf', 'pgf', 'ps', 'svg', 'template']\n"
     ]
    },
    {
     "ename": "ModuleNotFoundError",
     "evalue": "No module named 'mpltools'",
     "output_type": "error",
     "traceback": [
      "\u001b[0;31m---------------------------------------------------------------------------\u001b[0m",
      "\u001b[0;31mModuleNotFoundError\u001b[0m                       Traceback (most recent call last)",
      "\u001b[0;32m<ipython-input-1-5fc3449d21c5>\u001b[0m in \u001b[0;36m<module>\u001b[0;34m\u001b[0m\n\u001b[1;32m      9\u001b[0m \u001b[0;32mfrom\u001b[0m \u001b[0mpprint\u001b[0m \u001b[0;32mimport\u001b[0m \u001b[0mpprint\u001b[0m\u001b[0;34m\u001b[0m\u001b[0;34m\u001b[0m\u001b[0m\n\u001b[1;32m     10\u001b[0m \u001b[0;31m# the following allows us to plot triangles indicating convergence order\u001b[0m\u001b[0;34m\u001b[0m\u001b[0;34m\u001b[0m\u001b[0;34m\u001b[0m\u001b[0m\n\u001b[0;32m---> 11\u001b[0;31m \u001b[0;32mfrom\u001b[0m \u001b[0mmpltools\u001b[0m \u001b[0;32mimport\u001b[0m \u001b[0mannotation\u001b[0m\u001b[0;34m\u001b[0m\u001b[0;34m\u001b[0m\u001b[0m\n\u001b[0m\u001b[1;32m     12\u001b[0m \u001b[0;34m\u001b[0m\u001b[0m\n\u001b[1;32m     13\u001b[0m \u001b[0;31m# font sizes for plots\u001b[0m\u001b[0;34m\u001b[0m\u001b[0;34m\u001b[0m\u001b[0;34m\u001b[0m\u001b[0m\n",
      "\u001b[0;31mModuleNotFoundError\u001b[0m: No module named 'mpltools'"
     ]
    }
   ],
   "source": [
    "%matplotlib inline\n",
    "import numpy as np\n",
    "import scipy.linalg as sl\n",
    "# we'll start using sparse matrices here\n",
    "import scipy.sparse as sp\n",
    "# and linear algebra functions designed for sparse matrices\n",
    "import scipy.sparse.linalg as spla\n",
    "import matplotlib.pyplot as plt\n",
    "from pprint import pprint\n",
    "# the following allows us to plot triangles indicating convergence order\n",
    "from mpltools import annotation\n",
    "\n",
    "# font sizes for plots\n",
    "plt.rcParams['font.size'] = 12\n",
    "plt.rcParams['font.family'] = 'sans-serif'\n",
    "plt.rcParams['font.sans-serif'] = ['Arial', 'Dejavu Sans']"
   ]
  },
  {
   "cell_type": "markdown",
   "metadata": {
    "slideshow": {
     "slide_type": "slide"
    }
   },
   "source": [
    "# Fluid Flow (part 2)  <a class=\"tocSkip\">"
   ]
  },
  {
   "cell_type": "markdown",
   "metadata": {
    "toc": true
   },
   "source": [
    "<h1>Table of Contents<span class=\"tocSkip\"></span></h1>\n",
    "<div class=\"toc\"><ul class=\"toc-item\"><li><span><a href=\"#Differentiation-(or-taking-a-derivative)---the-continuous-definition\" data-toc-modified-id=\"Differentiation-(or-taking-a-derivative)---the-continuous-definition-1\"><span class=\"toc-item-num\">1&nbsp;&nbsp;</span>Differentiation (or taking a derivative) - the continuous definition</a></span></li><li><span><a href=\"#Finite-differences\" data-toc-modified-id=\"Finite-differences-2\"><span class=\"toc-item-num\">2&nbsp;&nbsp;</span>Finite differences</a></span><ul class=\"toc-item\"><li><span><a href=\"#The-forward-difference\" data-toc-modified-id=\"The-forward-difference-2.1\"><span class=\"toc-item-num\">2.1&nbsp;&nbsp;</span>The forward difference</a></span></li><li><span><a href=\"#Taylor-series-to-estimate-accuracy\" data-toc-modified-id=\"Taylor-series-to-estimate-accuracy-2.2\"><span class=\"toc-item-num\">2.2&nbsp;&nbsp;</span>Taylor series to estimate accuracy</a></span><ul class=\"toc-item\"><li><span><a href=\"#Taylor-series-example-[from-previous-lecture]\" data-toc-modified-id=\"Taylor-series-example-[from-previous-lecture]-2.2.1\"><span class=\"toc-item-num\">2.2.1&nbsp;&nbsp;</span>Taylor series example [from previous lecture]</a></span></li><li><span><a href=\"#Order-of-convergence---higher-generally-better\" data-toc-modified-id=\"Order-of-convergence---higher-generally-better-2.2.2\"><span class=\"toc-item-num\">2.2.2&nbsp;&nbsp;</span>Order of convergence - higher generally better</a></span></li></ul></li><li><span><a href=\"#The-backward-difference\" data-toc-modified-id=\"The-backward-difference-2.3\"><span class=\"toc-item-num\">2.3&nbsp;&nbsp;</span>The backward difference</a></span></li><li><span><a href=\"#The-central-difference\" data-toc-modified-id=\"The-central-difference-2.4\"><span class=\"toc-item-num\">2.4&nbsp;&nbsp;</span>The central difference</a></span></li><li><span><a href=\"#Example:-Write-a-function-to-perform-numerical-differentiation\" data-toc-modified-id=\"Example:-Write-a-function-to-perform-numerical-differentiation-2.5\"><span class=\"toc-item-num\">2.5&nbsp;&nbsp;</span>Example: Write a function to perform numerical differentiation</a></span></li><li><span><a href=\"#Example:-Compute-the-derivative-of-$\\sin(x)$\" data-toc-modified-id=\"Example:-Compute-the-derivative-of-$\\sin(x)$-2.6\"><span class=\"toc-item-num\">2.6&nbsp;&nbsp;</span>Example: Compute the derivative of $\\sin(x)$</a></span></li><li><span><a href=\"#How-small-(or-large)-can-$\\Delta-x$-go?\" data-toc-modified-id=\"How-small-(or-large)-can-$\\Delta-x$-go?-2.7\"><span class=\"toc-item-num\">2.7&nbsp;&nbsp;</span>How small (or large) can $\\Delta x$ go?</a></span><ul class=\"toc-item\"><li><span><a href=\"#Observations\" data-toc-modified-id=\"Observations-2.7.1\"><span class=\"toc-item-num\">2.7.1&nbsp;&nbsp;</span>Observations</a></span></li></ul></li><li><span><a href=\"#Approximating-second-derivatives\" data-toc-modified-id=\"Approximating-second-derivatives-2.8\"><span class=\"toc-item-num\">2.8&nbsp;&nbsp;</span>Approximating second derivatives</a></span></li></ul></li><li><span><a href=\"#Introduction-to-BVPs\" data-toc-modified-id=\"Introduction-to-BVPs-3\"><span class=\"toc-item-num\">3&nbsp;&nbsp;</span>Introduction to BVPs</a></span><ul class=\"toc-item\"><li><span><a href=\"#Problem-non-dimensionalisation\" data-toc-modified-id=\"Problem-non-dimensionalisation-3.1\"><span class=\"toc-item-num\">3.1&nbsp;&nbsp;</span>Problem non-dimensionalisation</a></span></li><li><span><a href=\"#Model-problem---BVP:-steady-state-advection-diffusion\" data-toc-modified-id=\"Model-problem---BVP:-steady-state-advection-diffusion-3.2\"><span class=\"toc-item-num\">3.2&nbsp;&nbsp;</span>Model problem - BVP: steady-state advection-diffusion</a></span><ul class=\"toc-item\"><li><span><a href=\"#Observations\" data-toc-modified-id=\"Observations-3.2.1\"><span class=\"toc-item-num\">3.2.1&nbsp;&nbsp;</span>Observations</a></span></li></ul></li><li><span><a href=\"#Methods-for-solving-BVPs\" data-toc-modified-id=\"Methods-for-solving-BVPs-3.3\"><span class=\"toc-item-num\">3.3&nbsp;&nbsp;</span>Methods for solving BVPs</a></span></li><li><span><a href=\"#Defining-a-grid-(or-mesh)\" data-toc-modified-id=\"Defining-a-grid-(or-mesh)-3.4\"><span class=\"toc-item-num\">3.4&nbsp;&nbsp;</span>Defining a grid (or mesh)</a></span></li><li><span><a href=\"#Dealing-with-Dirichlet-boundary-conditions\" data-toc-modified-id=\"Dealing-with-Dirichlet-boundary-conditions-3.5\"><span class=\"toc-item-num\">3.5&nbsp;&nbsp;</span>Dealing with Dirichlet boundary conditions</a></span></li><li><span><a href=\"#Solving-the-diffusion-equation\" data-toc-modified-id=\"Solving-the-diffusion-equation-3.6\"><span class=\"toc-item-num\">3.6&nbsp;&nbsp;</span>Solving the diffusion equation</a></span><ul class=\"toc-item\"><li><span><a href=\"#Observations\" data-toc-modified-id=\"Observations-3.6.1\"><span class=\"toc-item-num\">3.6.1&nbsp;&nbsp;</span>Observations</a></span></li></ul></li></ul></li><li><span><a href=\"#The-time-independent-(steady)-advection-diffusion-problem\" data-toc-modified-id=\"The-time-independent-(steady)-advection-diffusion-problem-4\"><span class=\"toc-item-num\">4&nbsp;&nbsp;</span>The time-independent (steady) advection-diffusion problem</a></span><ul class=\"toc-item\"><li><span><a href=\"#Discretisation-choices-for-advection-and-diffusion\" data-toc-modified-id=\"Discretisation-choices-for-advection-and-diffusion-4.1\"><span class=\"toc-item-num\">4.1&nbsp;&nbsp;</span>Discretisation choices for advection and diffusion</a></span><ul class=\"toc-item\"><li><span><a href=\"#Observations\" data-toc-modified-id=\"Observations-4.1.1\"><span class=\"toc-item-num\">4.1.1&nbsp;&nbsp;</span>Observations</a></span></li><li><span><a href=\"#More-observations\" data-toc-modified-id=\"More-observations-4.1.2\"><span class=\"toc-item-num\">4.1.2&nbsp;&nbsp;</span>More observations</a></span></li></ul></li><li><span><a href=\"#Upwind-for-advection\" data-toc-modified-id=\"Upwind-for-advection-4.2\"><span class=\"toc-item-num\">4.2&nbsp;&nbsp;</span>Upwind for advection</a></span><ul class=\"toc-item\"><li><span><a href=\"#Observations\" data-toc-modified-id=\"Observations-4.2.1\"><span class=\"toc-item-num\">4.2.1&nbsp;&nbsp;</span>Observations</a></span></li></ul></li><li><span><a href=\"#Analysis-of-the-upwind-scheme-[$\\star$]\" data-toc-modified-id=\"Analysis-of-the-upwind-scheme-[$\\star$]-4.3\"><span class=\"toc-item-num\">4.3&nbsp;&nbsp;</span>Analysis of the upwind scheme [$\\star$]</a></span></li><li><span><a href=\"#Practicalities!\" data-toc-modified-id=\"Practicalities!-4.4\"><span class=\"toc-item-num\">4.4&nbsp;&nbsp;</span>Practicalities!</a></span></li></ul></li><li><span><a href=\"#The-time-dependent-(unsteady)-advection-diffusion-problem\" data-toc-modified-id=\"The-time-dependent-(unsteady)-advection-diffusion-problem-5\"><span class=\"toc-item-num\">5&nbsp;&nbsp;</span>The time-dependent (unsteady) advection-diffusion problem</a></span><ul class=\"toc-item\"><li><span><a href=\"#The-equation-in-higher-spatial-dimensions-[$\\star$]\" data-toc-modified-id=\"The-equation-in-higher-spatial-dimensions-[$\\star$]-5.1\"><span class=\"toc-item-num\">5.1&nbsp;&nbsp;</span>The equation in higher spatial dimensions [$\\star$]</a></span></li><li><span><a href=\"#Non-dimensionalisation\" data-toc-modified-id=\"Non-dimensionalisation-5.2\"><span class=\"toc-item-num\">5.2&nbsp;&nbsp;</span>Non-dimensionalisation</a></span></li><li><span><a href=\"#The-Method-of-Lines\" data-toc-modified-id=\"The-Method-of-Lines-5.3\"><span class=\"toc-item-num\">5.3&nbsp;&nbsp;</span>The Method of Lines</a></span><ul class=\"toc-item\"><li><span><a href=\"#Defining-a-spatial-grid\" data-toc-modified-id=\"Defining-a-spatial-grid-5.3.1\"><span class=\"toc-item-num\">5.3.1&nbsp;&nbsp;</span>Defining a spatial grid</a></span></li></ul></li><li><span><a href=\"#Discretising-in-space\" data-toc-modified-id=\"Discretising-in-space-5.4\"><span class=\"toc-item-num\">5.4&nbsp;&nbsp;</span>Discretising in space</a></span><ul class=\"toc-item\"><li><span><a href=\"#Including-Dirichlet-boundary-conditions\" data-toc-modified-id=\"Including-Dirichlet-boundary-conditions-5.4.1\"><span class=\"toc-item-num\">5.4.1&nbsp;&nbsp;</span>Including Dirichlet boundary conditions</a></span></li><li><span><a href=\"#The-initial-condition\" data-toc-modified-id=\"The-initial-condition-5.4.2\"><span class=\"toc-item-num\">5.4.2&nbsp;&nbsp;</span>The initial condition</a></span></li><li><span><a href=\"#The-(semi-)-discretised-system\" data-toc-modified-id=\"The-(semi-)-discretised-system-5.4.3\"><span class=\"toc-item-num\">5.4.3&nbsp;&nbsp;</span>The (semi-) discretised system</a></span></li></ul></li><li><span><a href=\"#The-semi-disrete-matrix-system\" data-toc-modified-id=\"The-semi-disrete-matrix-system-5.5\"><span class=\"toc-item-num\">5.5&nbsp;&nbsp;</span>The semi-disrete matrix system</a></span></li><li><span><a href=\"#Discretising-in-time\" data-toc-modified-id=\"Discretising-in-time-5.6\"><span class=\"toc-item-num\">5.6&nbsp;&nbsp;</span>Discretising in time</a></span><ul class=\"toc-item\"><li><span><a href=\"#Forward-Euler\" data-toc-modified-id=\"Forward-Euler-5.6.1\"><span class=\"toc-item-num\">5.6.1&nbsp;&nbsp;</span>Forward Euler</a></span></li><li><span><a href=\"#Observations\" data-toc-modified-id=\"Observations-5.6.2\"><span class=\"toc-item-num\">5.6.2&nbsp;&nbsp;</span>Observations</a></span></li></ul></li><li><span><a href=\"#Example---advection-diffusion-of-a-Gaussian\" data-toc-modified-id=\"Example---advection-diffusion-of-a-Gaussian-5.7\"><span class=\"toc-item-num\">5.7&nbsp;&nbsp;</span>Example - advection-diffusion of a Gaussian</a></span><ul class=\"toc-item\"><li><span><a href=\"#Observations\" data-toc-modified-id=\"Observations-5.7.1\"><span class=\"toc-item-num\">5.7.1&nbsp;&nbsp;</span>Observations</a></span></li></ul></li><li><span><a href=\"#Periodic-boundaries\" data-toc-modified-id=\"Periodic-boundaries-5.8\"><span class=\"toc-item-num\">5.8&nbsp;&nbsp;</span>Periodic boundaries</a></span><ul class=\"toc-item\"><li><span><a href=\"#Comments\" data-toc-modified-id=\"Comments-5.8.1\"><span class=\"toc-item-num\">5.8.1&nbsp;&nbsp;</span>Comments</a></span></li></ul></li></ul></li><li><span><a href=\"#Stability-considerations-(a-summary)\" data-toc-modified-id=\"Stability-considerations-(a-summary)-6\"><span class=\"toc-item-num\">6&nbsp;&nbsp;</span>Stability considerations (a summary)</a></span><ul class=\"toc-item\"><li><span><a href=\"#Cell-Peclet-number\" data-toc-modified-id=\"Cell-Peclet-number-6.1\"><span class=\"toc-item-num\">6.1&nbsp;&nbsp;</span>Cell Peclet number</a></span></li><li><span><a href=\"#The-Courant-number-and-the-CFL-condition\" data-toc-modified-id=\"The-Courant-number-and-the-CFL-condition-6.2\"><span class=\"toc-item-num\">6.2&nbsp;&nbsp;</span>The Courant number and the CFL condition</a></span></li><li><span><a href=\"#The-CFL-condition---a-physical-interpretation-[$\\star$]\" data-toc-modified-id=\"The-CFL-condition---a-physical-interpretation-[$\\star$]-6.3\"><span class=\"toc-item-num\">6.3&nbsp;&nbsp;</span>The CFL condition - a physical interpretation [$\\star$]</a></span></li><li><span><a href=\"#The-r-number/parameter-for-diffusion\" data-toc-modified-id=\"The-r-number/parameter-for-diffusion-6.4\"><span class=\"toc-item-num\">6.4&nbsp;&nbsp;</span>The r-number/parameter for diffusion</a></span></li><li><span><a href=\"#Other-time-stepping-options\" data-toc-modified-id=\"Other-time-stepping-options-6.5\"><span class=\"toc-item-num\">6.5&nbsp;&nbsp;</span>Other time stepping options</a></span></li></ul></li><li><span><a href=\"#Final-comments\" data-toc-modified-id=\"Final-comments-7\"><span class=\"toc-item-num\">7&nbsp;&nbsp;</span>Final comments</a></span></li></ul></div>"
   ]
  },
  {
   "cell_type": "markdown",
   "metadata": {
    "slideshow": {
     "slide_type": "slide"
    }
   },
   "source": [
    "## The simple balances from the previous lecture are not the end of the story even for flows in simple geometries – Why?\n",
    "\n",
    "\n",
    "* An explicit assumption in these derivations is that the flow is steady (no time dependency)\n",
    "\n",
    "\n",
    "* What happens if there is a perturbation in the flow?\n",
    "\n",
    "\n",
    "* If this perturbation grows, it means that the flow can not be steady and that this assumption is invalid\n",
    "\n",
    "\n",
    "* Perturbation will be damped if viscous forces are stronger than the inertial force associated with the perturbation\n"
   ]
  },
  {
   "cell_type": "markdown",
   "metadata": {
    "slideshow": {
     "slide_type": "slide"
    }
   },
   "source": [
    "# Reynolds Number\n",
    "\n",
    "\n",
    "\n",
    "* Reynolds number represents the balance between inertial and viscous forces\n",
    "\n",
    "\n",
    "$$ Re \\propto \\frac{\\text{Inertial Force}}{\\text{Viscous Force}} \\propto \\frac{\\rho v \\frac{dv}{dx}}{\\mu \\frac{d^2 v}{d x^2}} \\propto \\frac{\\rho v \\frac{v}{x}}{\\mu \\frac{v}{x^2}}$$\n",
    "\n",
    "\n",
    "$$ Re = \\frac{\\rho x v}{\\mu}$$\n",
    "\n",
    "\n",
    "* If Reynolds number is small perturbations are suppressed – Laminar Flow\n",
    "\n",
    "\n",
    "* If Reynolds number is large perturbations grow – Turbulent Flow"
   ]
  },
  {
   "cell_type": "markdown",
   "metadata": {},
   "source": [
    "### Reynolds Number – Flow in Pipe\n",
    "\n",
    "\n",
    "* Pipe diameter as characteristic length scale\n",
    "\n",
    "\n",
    "* Average velocity as characteristic velocity\n",
    "\n",
    "\n",
    "$$ Re = \\frac{\\rho x v}{\\mu}$$\n",
    "\n",
    "\n",
    "$$\n",
    "\\begin{align}\n",
    "\\text{Laminar} \\qquad &Re < 2100 \\\\\n",
    "\\text{Transition} \\qquad &2100 < Re < 4000 \\\\\n",
    "\\text{Turbulent} \\qquad &Re > 4000\n",
    "\\end{align}\n",
    "$$\n",
    "Laminar "
   ]
  },
  {
   "cell_type": "markdown",
   "metadata": {
    "slideshow": {
     "slide_type": "subslide"
    }
   },
   "source": [
    "### Flow in Pipe\n",
    "\n",
    "\n",
    "* As Reynolds number increases beyond transition average flow profile goes from parabolic to closer to plug flow\n",
    "\n",
    "  * Laminar boundary layer near the wall – Gets thinner as the Reynolds number increases\n",
    "\n",
    "  * Thickness of boundary layer also influenced by surface roughness"
   ]
  },
  {
   "cell_type": "markdown",
   "metadata": {
    "slideshow": {
     "slide_type": "subslide"
    }
   },
   "source": [
    "### Flow in Pipes – The Engineering Approach\n",
    "\n",
    "\n",
    "* Fanning Friction factor:\n",
    "\n",
    "  * Ratio of shear stress exerted on the fluid to its kinetic energy:\n",
    "\n",
    "\n",
    "$$ f = \\frac{\\tau}{\\rho \\frac{v^2}{2}} $$\n",
    "\n",
    "\n",
    "* For fully developed flow the shear stress on the wall must balance the pressure drop:\n",
    "\n",
    "\n",
    "$$ \\Delta P \\pi R^2 = \\tau 2 \\pi R L $$\n",
    "\n",
    "\n",
    "* Combine to give Fanning friction factor:\n",
    "\n",
    "\n",
    "$$ f = \\frac{\\Delta P R}{L \\rho v^2} $$\n"
   ]
  },
  {
   "cell_type": "markdown",
   "metadata": {
    "slideshow": {
     "slide_type": "subslide"
    }
   },
   "source": [
    "### Flow in Pipes – The Engineering Approach\n",
    "\n",
    "\n",
    "* Friction factor is a function of Reynolds Number and pipe roughness:\n",
    "\n",
    "  * For laminar flow $f = \\frac{16}{Re}$\n",
    "\n",
    "  * For turbulent flow empirical relationships or charts are use\n",
    "  \n",
    "  \n",
    "  \n",
    "Note that that Moody friction factor is often used instead of the Fanning friction factor, but it is simply 4 times larger"
   ]
  },
  {
   "cell_type": "markdown",
   "metadata": {
    "slideshow": {
     "slide_type": "subslide"
    }
   },
   "source": [
    "### Example\n",
    "\n",
    "\n",
    "* A horizontal pipe needs to have water flow through it at $0.1 \\text{ m}^3/\\text{s}$\n",
    "\n",
    "  * $\\mu = 0.001 \\text{ Pa} \\cdot \\text{s}$\n",
    "\n",
    "  * $\\rho = 1000 \\text{ kg}/\\text{m}^3$\n",
    "  \n",
    "  * The pipe has a diameter of $30 \\text{ cm}$ and can be assumed to be smooth\n",
    "\n",
    "  * If the pipe is $100 \\text{ m}$ long, what pressure drop is required?"
   ]
  },
  {
   "cell_type": "markdown",
   "metadata": {
    "slideshow": {
     "slide_type": "subslide"
    }
   },
   "source": [
    "### Flow given a pressure drop\n",
    "\n",
    "\n",
    "* More complex to calculate unless laminar \n",
    "\n",
    "A calculation tactic:\n",
    "\n",
    "\n",
    "1. Guess a fluid velocity\n",
    "\n",
    "2. Calculate Reynolds number\n",
    "\n",
    "3. Look up the friction factor\n",
    "\n",
    "4. Use the specified pressure drop to calculate a new fluid velocity based on the friction factor\n",
    "\n",
    "5. Repeat from step 2 until sufficiently converged\n",
    "\n",
    "\n",
    "\n",
    "You can do better than this successive substitution, but this simple tactic will work for most cases"
   ]
  },
  {
   "cell_type": "markdown",
   "metadata": {},
   "source": [
    "### Example\n",
    "\n",
    "\n",
    "* If we halve the pressure drop calculated in the previous example, what will the new flow rate be?"
   ]
  },
  {
   "cell_type": "markdown",
   "metadata": {},
   "source": [
    "## Modelling other turbulent flows\n",
    "\n",
    "\n",
    "* Pipe flow is a very special case for which lots of experimental data is available\n",
    "\n",
    "  * We can use empirical relationships to accurately predict behaviour\n",
    "  \n",
    " \n",
    "What about turbulent flow in more complex geometries?\n",
    "\n",
    "\n",
    "\n",
    "* Cannot readily rely on empirical data, especially if we want to use modelling for design\n",
    "\n",
    "\n",
    "* We need to be able to understand and model turbulence"
   ]
  },
  {
   "cell_type": "markdown",
   "metadata": {},
   "source": [
    "## What happens in Turbulent Flow?\n",
    "\n",
    "\n",
    "* At high Reynolds numbers large scale flow structures and instabilities will develop smaller scale perturbations\n",
    "\n",
    "\n",
    "* This cascade of larger perturbations generating smaller flow structures will continue down until the flow structures are small enough that viscosity can “win”\n",
    "  \n",
    "  * The Kolmogorov length scale\n",
    "\n",
    "\n",
    "* At this finest level the energy in the flow is dissipated as heat via the viscosity"
   ]
  },
  {
   "cell_type": "markdown",
   "metadata": {
    "slideshow": {
     "slide_type": "subslide"
    }
   },
   "source": [
    "## Direct Numerical Simulation (DNS)\n",
    "\n",
    "\n",
    "* Solve Navier-Stokes equation with enough resolution to resolve all the eddies down to their laminar cores\n",
    "\n",
    "  * Very computationally expensive – prohibitively so for all but the lowest Reynolds numbers and smallest systems\n",
    "  \n",
    "  \n",
    "* We can get a rough estimate of the resolution required based on Kolmogorov length scales and dimensional arguments\n",
    "\n",
    "\n",
    "$$ \\Delta x \\sim \\Bigg( L \\left( \\frac{\\mu}{\\rho \\vert \\mathbf{u} \\vert } \\right)^3 \\Bigg)^{\\frac{1}{4}} $$\n",
    "\n",
    "$$ \\text{Water at $1 \\text{m}/\\text{s}$ in a $1 \\text{m}$ channel would require a resolution of about $10 \\mu \\text{m}$ (about $10^{15}$ elements in a cubic box)!} $$"
   ]
  },
  {
   "cell_type": "markdown",
   "metadata": {},
   "source": [
    "## Turbulence Modelling\n",
    "\n",
    "\n",
    "* As DNS is only useable on a small range of problems, we need to model the effect of turbulence\n",
    "\n",
    "\n",
    "* Turbulence dissipates more energy than the macroscopic strain rate would suggest based only on the liquid viscosity\n",
    "\n",
    "  * Need to calculate this extra dissipation\n",
    "\n",
    "\n",
    "3 main approaches\n",
    "\n",
    "\n",
    "* Simply increase the viscosity!\n",
    "\n",
    "  * Trivial to do – often used in large scale simulations such as ocean modelling\n",
    "\n",
    "\n",
    "* Assume that you can separate the turbulent and mean components of the flow\n",
    "\n",
    "  * Reynold Average Navier Stokes (RANS) type models\n",
    "\n",
    "  * We will look at the k-ε model as it is the most commonly used of this type\n",
    "\n",
    "\n",
    "* Use a dynamic simulation in which you resolve as much of the turbulent dynamics as you can and then use a model for the bits you can’t resolve\n",
    "\n",
    "  * Large Eddy Simulations (LES)\n",
    "\n",
    "\n",
    "Both RANS and LES approaches involve the calculation of an additional turbulent viscosity that needs to be added onto the underlying fluid viscosity"
   ]
  },
  {
   "cell_type": "markdown",
   "metadata": {
    "slideshow": {
     "slide_type": "slide"
    }
   },
   "source": [
    "## Mean and Fluctuating Flow Components\n",
    "\n",
    "\n",
    "* Turbulent structures are typically embedded within macroscopic flow structures\n",
    "\n",
    "\n",
    "* In analysing and modelling turbulence it is thus useful to distinguish between these flow components\n",
    "\n",
    "\n",
    "* Assume that the flow at any point can be decomposed into a mean component and a fluctuating component:\n",
    "\n",
    "\n",
    "$$ \\mathbf{u} = \\mathbf{U} + \\mathbf{u}' $$\n",
    "\n",
    "$$ \\text{where $\\mathbf{u}$ is the instantaneous velocity, $\\mathbf{U}$ is the average velocity and $\\mathbf{u}'$ is the fluctuating component of velocity} $$ "
   ]
  },
  {
   "cell_type": "markdown",
   "metadata": {
    "slideshow": {
     "slide_type": "subslide"
    }
   },
   "source": [
    "## RANS version of the Navier Stokes Equation\n",
    "\n",
    "\n",
    "$$ \\rho \\frac{D \\mathbf{u}}{D t} = - \\nabla p + \\mu \\nabla^2 \\mathbf{u} + \\rho \\mathbf{g} $$\n",
    "\n",
    "\n",
    "* Assume that there is a mean and fluctuating component of the velocity and pressure\n",
    "\n",
    "  * Fluctuating component of pressure has no impact on final equation form\n",
    "\n",
    "\n",
    "$$ \\mathbf{u} = \\mathbf{U} + \\mathbf{u}' \\qquad \\qquad p = P + p' $$\n",
    "\n",
    "\n",
    "* Substituting and applying the RANS averaging rules:\n",
    "\n",
    "\n",
    "$$ \\rho \\frac{D \\mathbf{U}}{D t} = - \\nabla P + \\mu \\nabla^2 \\mathbf{U} + \\rho \\mathbf{g} - \\rho \\nabla \\cdot \\overline{\\mathbf{u}' \\mathbf{u}'} $$\n"
   ]
  },
  {
   "cell_type": "markdown",
   "metadata": {
    "slideshow": {
     "slide_type": "slide"
    }
   },
   "source": [
    "## Reynolds Stress Tensor\n",
    "\n",
    "\n",
    "* The averaged equation is similar to the original Navier-Stokes equation except for the inclusion of the divergence of a rank 2 tensor:\n",
    "\n",
    "\n",
    "$$ \\rho \\nabla \\cdot \\overline{\\mathbf{u}' \\mathbf{u}'} $$\n",
    "\n",
    "\n",
    "* Known as the Reynolds Stress Tensor\n",
    "\n",
    "\n",
    "$$ \\rho \\nabla \\cdot \\overline{\\mathbf{u}' \\mathbf{u}'} = \\rho\n",
    "\\begin{pmatrix}\n",
    "\\overline{u' u'} & \\overline{u' v'} & \\overline{u' w'}\\\\\n",
    "\\overline{u' v'} & \\overline{v' v'} & \\overline{v' w'}\\\\\n",
    "\\overline{u' w'} & \\overline{v' w'} & \\overline{w' w'}\n",
    "\\end{pmatrix}   \\qquad \\qquad \\mathbf{u}' = \\{ u', v', w' \\} $$"
   ]
  },
  {
   "cell_type": "markdown",
   "metadata": {},
   "source": [
    "## Reynolds Stress Tensor\n",
    "\n",
    "\n",
    "* Need to relate the Reynolds Stress Tensor to the mean flow\n",
    "  \n",
    "  * Know as the turbulence closure problem\n",
    "  \n",
    "  * No right way to do this, but some approximations are better than others\n",
    "\n",
    "\n",
    "* The Reynolds Stress Tensor represents the transport of momentum due to the fluctuations in the flow\n",
    "\n",
    "\n",
    "* In the standard Navier-Stokes equation the viscous stress term represents the “diffusion” of momentum\n",
    "\n",
    "  * We can therefore think of Reynolds Stress Tensor in terms of a diffusion of momentum due to velocity fluctuations – a turbulent eddy viscosity"
   ]
  },
  {
   "cell_type": "markdown",
   "metadata": {
    "slideshow": {
     "slide_type": "slide"
    }
   },
   "source": [
    "## Turbulent Eddy Viscosity\n",
    "\n",
    "\n",
    "* Write the Reynolds Stress Tensor in terms of the macroscopic strain rate:\n",
    "\n",
    "\n",
    "$$ \\overline{\\mathbf{u}' \\mathbf{u}'} = - \\nu_T \\left( \\nabla \\mathbf{U} + \\mathbf{U}^T \\right) $$\n",
    "\n",
    "\n",
    "* This means that you can combine the liquid viscosity and the turbulent losses into a single effective viscosity:\n",
    "\n",
    "  * In turbulence modelling it is often more convenient to use the kinematic viscosity\n",
    "  \n",
    "$$ \\nu_{effective} = \\nu + \\nu_T $$\n",
    "\n",
    "\n",
    "* We now need to calculate this turbulent eddy viscosity"
   ]
  },
  {
   "cell_type": "markdown",
   "metadata": {},
   "source": [
    "## Zero Equation Models\n",
    "\n",
    "\n",
    "* The simplest type of turbulence model\n",
    "\n",
    "  * Assume no explicit transport of turbulence\n",
    "\n",
    "\n",
    "* Mainly based on dimensional arguments\n",
    "\n",
    "  * $l_0$ is a turbulent length scale, $t_0$ is a turbulent time scale\n",
    "\n",
    "\n",
    "$$ \\nu_T = \\frac{{l_0}^2}{t_0} $$\n",
    "\n",
    "\n",
    "* Zero equation models are not very good in steady state RANS type models where the turbulent length scale is not well defined\n",
    "\n",
    "  * Often adequate in LES models where the turbulent structures are resolved down to the grid resolution\n",
    "  \n",
    "    * Unresolved turbulent length scale similar to mesh resolution\n",
    "\n",
    "    * Less transport of small scale turbulence before it is dissipated"
   ]
  },
  {
   "cell_type": "markdown",
   "metadata": {},
   "source": [
    "## Zero Equation Models\n",
    "\n",
    "\n",
    "* If we assume that we know the turbulent length scale, we still need the turbulent time scale from some macroscopic flow property\n",
    "\n",
    "  * Two obvious candidates\n",
    "\n",
    "    * Magnitude of the strain rate or magnitude of the vorticity\n",
    "\n",
    "    * Both have units of inverse time\n",
    "\n",
    "\n",
    "  * Based on strain rate – Smagorinsky model\n",
    "  \n",
    "  \n",
    "  $$ v_T = \\left( C_S l_0 \\right)^2 \\vert \\mathbf{S} \\vert $$\n",
    "\n",
    "\n",
    "  $$ \\mathbf{S} = \\frac{1}{2} \\left( \\nabla \\mathbf{U} + \\mathbf{U}^T \\right) $$\n",
    "\n",
    "\n",
    "  * Based on vorticity – Baldvin-Lomaz model\n",
    "  \n",
    "  $$ v_T = \\left( k l_0 \\right)^2 \\vert \\boldsymbol{\\omega} \\vert $$\n",
    "\n",
    "  $$ \\boldsymbol{\\omega} = \\nabla \\times \\mathbf{U} $$\n",
    "\n",
    "    * Less widely used than Smagorinsky – Useful in modelling boundary layers\n",
    "\n",
    "    * In boundary layers k is a function of distance from the wall"
   ]
  },
  {
   "cell_type": "markdown",
   "metadata": {
    "slideshow": {
     "slide_type": "slide"
    }
   },
   "source": [
    "## Two Equation Model\n",
    "\n",
    "\n",
    "* We will revisit zero equation models in the context of LES\n",
    "\n",
    "\n",
    "* For RANS modelling zero equation models are generally inadequate\n",
    "\n",
    "\n",
    "* Need to consider the generation, transport and dissipation of turbulence\n",
    "\n",
    "  * Two quantities can be used to model this\n",
    "  \n",
    "    * Turbulent kinetic energy − $k$\n",
    "    \n",
    "    * Turbulent dissipation rate − $\\varepsilon$\n",
    "\n",
    "\n",
    "  * So called $k − \\varepsilon$ turbulence model\n",
    "    \n",
    "    * Other models exist, but this is one of the most widely used and illustrates the idea"
   ]
  },
  {
   "cell_type": "markdown",
   "metadata": {
    "slideshow": {
     "slide_type": "subslide"
    }
   },
   "source": [
    "## Turbulent Kinetic Energy − $k$\n",
    "\n",
    "\n",
    "* The fluctuating components of the turbulence stores energy\n",
    "  \n",
    "  * This is known as the turbulent kinetic energy, k, which, per mass of fluid, can be written as follows:\n",
    "\n",
    "$$ k = \\frac{1}{2} \\left( \\overline{u'^2} + \\overline{v'^2} + \\overline{w'^2} \\right) \\qquad \\qquad \\mathbf{u}' = \\{ u', v', w' \\} $$\n",
    "    \n",
    "  * Note that the turbulent kinetic energy is therefore closely related to the Root Mean Square (RMS) of the velocity distribution\n",
    "\n",
    "\n",
    "$$  u_{rms} = \\sqrt{\\overline{\\vert \\mathbf{u}' \\vert ^2}} = \\sqrt{ \\overline{u'^2} + \\overline{v'^2} + \\overline{w'^2} } $$\n",
    "\n",
    "\n",
    "* This turbulent kinetic energy is generated at the large scale and dissipated at the small scale\n",
    "\n",
    "  * It can also be transported around the system by the mean flow"
   ]
  },
  {
   "cell_type": "markdown",
   "metadata": {},
   "source": [
    "## Turbulent Dissipation Rate − $\\varepsilon$\n",
    "\n",
    "\n",
    "* This is equal to the viscous losses associated with the fluctuating component of the velocity\n",
    "\n",
    "\n",
    "  * I.e. the rate at which the turbulent kinetic energy is converted into thermal energy\n",
    "\n",
    "\n",
    "$$ \\varepsilon = \\nu \\mathbf{S}' \\cdot \\mathbf{S}' \\qquad \\qquad \\mathbf{S}' = \\frac{1}{2} \\left( \\nabla \\mathbf{u}' + \\nabla \\mathbf{u}'^T \\right) $$\n",
    "\n",
    "\n",
    "* While this is how the energy is dissipated, this equation is not directly useful as we do not know the fluctuating components (or their gradients)"
   ]
  },
  {
   "cell_type": "markdown",
   "metadata": {},
   "source": [
    "## Equations for $k$ and $\\varepsilon$\n",
    "\n",
    "\n",
    "* Both the turbulent kinetic energy (k) and the dissipation rate (ε) can be transported, generated and destroyed and are represented by a pair of coupled ODEs\n",
    "\n",
    "  * Don’t worry too much about how these are derived – note, though, the additional complexity associated with modelling turbulence\n",
    "  \n",
    "  \n",
    "$$ \\frac{\\partial k}{\\partial t} + \\mathbf{U} \\cdot \\nabla k = \\nabla \\cdot \\left( \\frac{\\nu_t}{\\sigma_k} \\nabla k \\right) + 2 \\nu_t \\mathbf{S} \\cdot \\mathbf{S} - \\varepsilon \\qquad \\qquad \\mathbf{S} = \\frac{1}{2} \\left( \\nabla \\mathbf{U} + \\nabla \\mathbf{U}^T \\right) $$\n",
    "  \n",
    "  \n",
    "$$ \\frac{\\partial \\varepsilon}{\\partial t} + \\mathbf{U} \\cdot \\nabla \\varepsilon = \\nabla \\cdot \\left( \\frac{\\nu_t}{\\sigma_{\\varepsilon}} \\nabla \\varepsilon \\right) + C_{1 \\varepsilon} \\frac{\\varepsilon}{k} \\mathbf{S} \\cdot \\mathbf{S} - C_{2 \\varepsilon} \\frac{\\varepsilon^2}{k}  \\qquad \\qquad \\nu_T = C_{\\mu} \\frac{k^2}{\\varepsilon} $$\n",
    "\n",
    "\n",
    "The semi-empirical constants are typically assigned the following values:\n",
    "\n",
    "$$ C_{\\mu} = 0.09, \\quad \\sigma_k = 1.00, \\quad \\sigma_{\\varepsilon}, \\quad C_{1 \\varepsilon} = 1.44, \\quad C_{2 \\varepsilon} = 1.92  $$"
   ]
  },
  {
   "cell_type": "markdown",
   "metadata": {},
   "source": [
    "## Boundaries in Turbulence modelling\n",
    "\n",
    "\n",
    "* At inlets both $k$ and $\\varepsilon$ need to be assigned values\n",
    "\n",
    "  * If appropriate values are not assigned, long inlet regions will be required\n",
    "\n",
    "\n",
    "* At walls $k$ is zero (no slip), but the transition typically occurs over a very narrow boundary layer\n",
    "\n",
    "\n",
    "* Typically need to model this boundary layer as it is usually computationally very expensive to explicitly resolve"
   ]
  },
  {
   "cell_type": "markdown",
   "metadata": {},
   "source": [
    "## Large Eddy Simulations - LES\n",
    "\n",
    "\n",
    "* Transient simulations that resolve as much of the dynamics as possible\n",
    "\n",
    "\n",
    "* Zero equation models are usually appropriate\n",
    "\n",
    "  * No time averaging or smoothing of equations above the grid resolution\n",
    "  \n",
    "  * If unresolved resolution is small then the assumption of no turbulent transport between generation and dissipation is appropriate\n",
    "  \n",
    "  \n",
    "* Can use Smagorinsky model with length scale as the grid resolution\n",
    "\n",
    "\n",
    "$$ \\nu_T = \\left(C_S \\Delta x \\right)^2 \\vert \\mathbf{S} \\vert $$"
   ]
  },
  {
   "cell_type": "markdown",
   "metadata": {},
   "source": [
    "## RANS vs LES\n"
   ]
  },
  {
   "cell_type": "markdown",
   "metadata": {},
   "source": [
    "## Other Rheologies\n",
    "\n",
    "\n",
    "* Thus far we have only considered Newtonian rheology\n",
    "\n",
    "  * Shear stress proportional to the strain rate\n",
    "\n",
    "  * A good approximation for many fluids, importantly including water and virtually all gases\n",
    "  \n",
    "  \n",
    "* Other Rheologies are possible\n",
    "  \n",
    "  * Shear stress a more complex function of strain rate\n",
    "  \n",
    "  * Can also be a function of strain history\n",
    "    \n",
    "    * Thixotropic fluids"
   ]
  },
  {
   "cell_type": "markdown",
   "metadata": {},
   "source": [
    "## Shear thinning\n",
    "\n",
    "\n",
    "* Apparent viscosity decreases with strain rate\n",
    "\n",
    "  * Quite common\n",
    "    \n",
    "    * Dense suspensions, emulsions, foams etc...\n",
    "\n",
    "  * Sometimes called pseudo-plastic fluids\n",
    "\n",
    "\n",
    "* Some physical origins:\n",
    "  \n",
    "  * Structures in the fluid can break down at high shears\n",
    "    \n",
    "    * E.g. some suspensions where particles can form flocs\n",
    "\n",
    "  * Molecules align with or are extended in the shear direction\n",
    "\n",
    "    * E.g. molten plastics\n",
    "\n",
    "  * Particles in a fluid align with the flow and so move past one another more easily"
   ]
  },
  {
   "cell_type": "markdown",
   "metadata": {},
   "source": [
    "## Yield Stress\n",
    "\n",
    "\n",
    "* An extreme example of shear thinning are materials with a yield stress\n",
    "\n",
    "\n",
    "* Below a yield stress a material does not flow and acts like a solid\n",
    "\n",
    "\n",
    "* Above the yield stress the material flows and acts like a liquid\n",
    "\n",
    "\n",
    "* Quite common\n",
    "\n",
    "  * It is really a matter of the size of the yield stress\n",
    "\n",
    "  * Logical extension of plastic deformation in a solid"
   ]
  },
  {
   "cell_type": "markdown",
   "metadata": {},
   "source": [
    "## Shear thickening\n",
    "\n",
    "\n",
    "* Apparent viscosity increases with strain rate\n",
    "\n",
    "  * Much less common\n",
    "\n",
    "    * Classic example is corn starch in water\n",
    "\n",
    "\n",
    "* Some physical origins:\n",
    "\n",
    "  * Structures in the fluid jam and can’t pass one another as easily at high strain rates\n",
    "\n",
    "\n",
    "* Lots of current interest in shear-thickening fluids\n",
    "\n",
    "  * Flexible protection and armouring"
   ]
  },
  {
   "cell_type": "markdown",
   "metadata": {},
   "source": [
    "## Modelling non-Newtonian Rheologies\n",
    "\n",
    "\n",
    "* Need to incorporate these rheologies into the Navier-Stokes equation\n",
    "\n",
    "  * Require a relationship between shear stress and strain rate tensors\n",
    "\n",
    "\n",
    "* Often easier to incorporate rheology as an apparent viscosity that depends on strain rate\n",
    "\n",
    "  * Note that in most solvers it is the velocity (and thus strain rate) that is assumed to be known"
   ]
  },
  {
   "cell_type": "markdown",
   "metadata": {},
   "source": [
    "## Power law fluid\n",
    "\n",
    "\n",
    "* The simplest model for both shear thinning and shear thickening\n",
    "  \n",
    "  * The separation of the strain rate into two terms is so that stress tensor points in the correct direction\n",
    "  \n",
    "  \n",
    "$$ \\boldsymbol{\\tau} = 2 k \\vert 2 \\mathbf{S} \\vert ^{n-1} \\mathbf{S} \\qquad \\qquad \\mathbf{S} = \\frac{1}{2} \\left( \\nabla \\mathbf{u} + \\nabla \\mathbf{u}^T \\right) $$\n",
    "\n",
    "\n",
    "  - If n = 1 this is Newtonian\n",
    "  - If n > 1 this is shear thickening\n",
    "  - If n < 1 this is shear thinning\n",
    "  \n",
    "\n",
    "$$ \\mu_{eff} = k \\left| 2 \\mathbf{S} \\right| ^{n-1}  $$\n",
    "\n",
    "* If the velocity is in the y direction and only changes in the x direction\n",
    "\n",
    "\n",
    "$$ \\boldsymbol{\\tau} = k \\frac{\\partial u_y}{\\partial x} \\left| \\frac{\\partial u_y}{\\partial x} \\right| ^{n-1} $$"
   ]
  },
  {
   "cell_type": "markdown",
   "metadata": {},
   "source": [
    "\n",
    "## Bingham Plastic\n",
    "• The simplest type of yield behaviour is to assume that there is a yield\n",
    "stress followed by a linearly increasing stress with increasing strain rate"
   ]
  },
  {
   "cell_type": "markdown",
   "metadata": {},
   "source": [
    "## A digression – Fourier Series\n",
    "\n",
    "\n",
    "* To find the analytical solution to Laplace’s equation we need to use Fourier Series\n",
    "\n",
    "\n",
    "* Any function can be converted into an infinite series of sines and/or cosines\n",
    "\n",
    "  * Tractable if function is either periodic or if we require a solution only over a finite extent\n",
    "  \n",
    "  \n",
    "* If we only require the function to be approximated between $0$ and $L$, then the following version of the Fourier Series can be used:\n",
    "\n",
    "\n",
    "$$ f(x) = \\sum_{n=1}^\\infty a_n sin \\bigg( \\frac{n \\pi x}{L} \\bigg) $$\n",
    "\n",
    "\n",
    "$$ a_n = \\frac{2}{L} \\int_{0}^L f(x) sin \\bigg( \\frac{n \\pi x}{L} \\bigg) dx $$"
   ]
  },
  {
   "cell_type": "markdown",
   "metadata": {
    "scrolled": false
   },
   "source": [
    "## Fourier Series\n",
    "\n",
    "\n",
    "Simple example -- Straight line\n",
    "\n",
    "\n",
    "$$ f(x) = mx + c $$\n",
    "\n",
    "\n",
    "Solve:\n",
    "\n",
    "\n",
    "$$ a_n = \\frac{2}{L} \\int_{0}^L (mx + c) sin \\bigg( \\frac{n \\pi x}{L} \\bigg) dx $$\n",
    "\n",
    "\n",
    "$$\t\n",
    "a_n = \\begin{cases}\n",
    "  - \\frac{2 m L}{\\pi n}  & \\text{if } n \\text{ is even} \\\\\n",
    "  \\frac{2 m L}{\\pi n} + \\frac{4 c}{\\pi n} & \\text{if } n \\text{ is odd}\n",
    "\\end{cases}\n",
    "$$\n",
    "\n",
    "Try and obtain this yourself\n"
   ]
  },
  {
   "cell_type": "markdown",
   "metadata": {},
   "source": [
    "### Calculate the Fourier series for $f(x) = mx +c$\n",
    "\n",
    "\n",
    "Show that for range $0 < x < L$:\n",
    "\n",
    "\n",
    "$$ f(x) = \\sum_{n=1}^\\infty a_n sin \\bigg( \\frac{n \\pi x}{L} \\bigg) \\qquad \\qquad a_n = \\begin{cases}\n",
    "  - \\frac{2 m L}{\\pi n}  & \\text{if } n \\text{ is even} \\\\\n",
    "  \\frac{2 m L}{\\pi n} + \\frac{4 c}{\\pi n} & \\text{if } n \\text{ is odd}\n",
    "\\end{cases} $$\n",
    "\n",
    "\n",
    "\n",
    "\n"
   ]
  },
  {
   "cell_type": "markdown",
   "metadata": {},
   "source": [
    "### Calculations"
   ]
  },
  {
   "cell_type": "code",
   "execution_count": 22,
   "metadata": {},
   "outputs": [
    {
     "data": {
      "text/plain": [
       "<function matplotlib.pyplot.show(close=None, block=None)>"
      ]
     },
     "execution_count": 22,
     "metadata": {},
     "output_type": "execute_result"
    },
    {
     "data": {
      "image/png": "[encoded data removed]",
      "text/plain": [
       "<Figure size 432x288 with 1 Axes>"
      ]
     },
     "metadata": {
      "needs_background": "light"
     },
     "output_type": "display_data"
    }
   ],
   "source": [
    "def f(x,m,c):\n",
    "    # calculate the exact solution\n",
    "    return m*x+c\n",
    "\n",
    "\n",
    "def a(n, m, c):\n",
    "\n",
    "    if n%2: # n modulo 2 = 1 (True) then Odd\n",
    "        return 2.*m*L / (n* np.pi) + 4.*c / (n* np.pi)\n",
    "    else:\n",
    "        return -2.*m*L / (n* np.pi)\n",
    "\n",
    "    \n",
    "def fourier_approx(x, n, L, m, c):\n",
    "    F = 0\n",
    "    # The series starts from 1, so add 1 to the upper bound to ensure the correct number of terms\n",
    "    for n_i in range(1, n + 1):\n",
    "        F += a(n_i, m, c) * np.sin(n_i* np.pi* x/L)\n",
    "    return F\n",
    "\n",
    "\n",
    "def plot_approximation(x, n, L, m, c):\n",
    "    for num_terms in n:\n",
    "        y = []\n",
    "        for x_i in x:\n",
    "            y.append(fourier_approx(x_i, num_terms, L, m, c))\n",
    "        plt.plot(x, y, label=\"%g terms\" %num_terms)\n",
    "\n",
    "L = 1\n",
    "x = np.linspace(0, L, 1001)\n",
    "n = [5, 10, 50, 100, 200]\n",
    "m = 2\n",
    "c = 0.5\n",
    "\n",
    "\n",
    "plot_approximation(x, n, L, m, c)    \n",
    "    \n",
    "plt.plot(x, f(x, m, c), 'k-.', label=\"exact solution\")\n",
    "plt.legend()\n",
    "plt.show\n",
    "        "
   ]
  },
  {
   "cell_type": "markdown",
   "metadata": {},
   "source": [
    "## Analytical Solutions to Laplace’s Equation\n",
    "\n",
    "\n",
    "How to find analytical solutions\n",
    "\n",
    "* Laplace’s equation is linear and therefore solutions to simpler problems can be combined:\n",
    "\n",
    "\n",
    "$$ \\varphi = \\varphi_1 + \\varphi_2 + \\varphi_3 + \\ldots $$\n",
    "\n",
    "\n",
    "$$ 0 = \\nabla^2 \\varphi = \\nabla^2 ( \\varphi_1 + \\varphi_2 + \\varphi_3 + \\ldots ) = \\nabla^2 \\varphi_1 + \\nabla^2 \\varphi_2 + \\nabla^2 \\varphi_3 + \\ldots $$\n",
    "\n",
    "\n",
    "* As long as the sum of the potentials satisfy the boundary conditions, the sum of the solutions to the individual Laplace’s equations will satisfy the overall system"
   ]
  },
  {
   "cell_type": "markdown",
   "metadata": {},
   "source": [
    "## Analytical Solutions to Laplace’s Equation\n",
    "\n",
    "\n",
    "* We will do 2D solutions as they are more tractable than a 3D analytical solution\n",
    "\n",
    "\n",
    "* A useful trick for trying to find analytical solutions to PDEs is to convert them into ODEs (note that this is only typically possible for simple linear PDEs):\n",
    "\n",
    "\n",
    "* Separation of variables\n",
    "\n",
    "Lets write our potential out as the product of a function of x and a function of y (i.e. assume that the function is separable):\n",
    "\n",
    "\n",
    "$$ \\varphi = X(x)Y(y) $$\n",
    "\n",
    "\n",
    "* Note that the overall problem might not have a solution of this form, but we may be able to combine multiple solutions of this form to give the overall solution"
   ]
  },
  {
   "cell_type": "markdown",
   "metadata": {},
   "source": [
    "## Analytical Solutions to Laplace’s Equation\n",
    "\n",
    "\n",
    "* How does this help: $\\varphi = X(x)Y(y)$\n",
    "\n",
    "\n",
    "$$ \\frac{\\partial^2 \\varphi}{\\partial x^2} = \\frac{d^2 X(x)}{d x^2} \\qquad \\frac{\\partial^2 \\varphi}{\\partial y^2} = \\frac{d^2 Y(y)}{d y^2} $$\n",
    "\n",
    "\n",
    "Note the change from partial to ordinary differential equations\n",
    "\n",
    "\n",
    "* Therefore $\\nabla^2 \\varphi = 0$ implies that (assuming separability)\n",
    "\n",
    "\n",
    "$$ \\frac{1}{X(x)} \\frac{d^2 X(x)}{dx^2} + \\frac{1}{Y(y)} \\frac{d^2 Y(y)}{dy^2} = 0 $$"
   ]
  },
  {
   "cell_type": "markdown",
   "metadata": {},
   "source": [
    "## Analytical Solutions to Laplace’s Equation\n",
    "\n",
    "\n",
    "* The equation now consists of the sum of two independent ODEs:\n",
    "\n",
    "\n",
    "$$ 0 = \\frac{1}{X(x)} \\frac{d^2 X(x)}{dx^2} + \\frac{1}{Y(y)} \\frac{d^2 Y(y)}{dy^2} $$\n",
    "\n",
    "\n",
    "* We can therefore solve these two ODEs independently with the proviso that the two solutions sum to zero everywhere.\n",
    "\n",
    "\n",
    "* Since the functions are independent and operate in different directions, this implies that each of their solutions must be constant or else the sum would vary in different directions:\n",
    "\n",
    "\n",
    "$$ \\frac{1}{X(x)} \\frac{d^2 X(x)}{dx^2} = \\lambda \\qquad \\frac{1}{Y(y)} \\frac{d^2 Y(y)}{dy^2} = - \\lambda $$"
   ]
  },
  {
   "cell_type": "markdown",
   "metadata": {},
   "source": [
    "## Analytical Solutions to Laplace’s Equation\n",
    "\n",
    "\n",
    "Continued ...\n",
    "\n",
    "\n",
    "$$ \\frac{1}{X(x)} \\frac{d^2 X(x)}{dx^2} = \\lambda \\qquad \\frac{1}{Y(y)} \\frac{d^2 Y(y)}{dy^2} = - \\lambda $$\n",
    "\n",
    "\n",
    "These have general solutions of the form (assuming that λ is a positive real number):\n",
    "\n",
    "\n",
    "$$ X = \\gamma \\cosh(\\lambda x) + \\delta \\sinh(\\lambda x) $$\n",
    "\n",
    "\n",
    "$$ Y = \\alpha \\cos(\\lambda y) + \\beta \\sin(\\lambda y) $$"
   ]
  },
  {
   "cell_type": "markdown",
   "metadata": {},
   "source": [
    "## Analytical Solutions to Laplace’s Equation\n",
    "\n",
    "\n",
    "* Note that because we have assumed the form for the potential, this is A solution, but not necessarily THE solution\n",
    "\n",
    "\n",
    "* For a specific case, though, we can use the fact that Laplace's equation is linear to arrive at the THE solution by summing solutions of the previous form that match the various boundaries"
   ]
  },
  {
   "cell_type": "markdown",
   "metadata": {},
   "source": [
    "## Analytical Solutions to Laplace’s Equation\n",
    "\n",
    "\n",
    "* Example: Rectangle in which the potential at each side is specified.\n",
    "\n",
    "Note that this method works for potentials that are arbitrary functions of position along the boundaries"
   ]
  },
  {
   "cell_type": "markdown",
   "metadata": {},
   "source": [
    "## Analytical Solutions to Laplace’s Equation\n",
    "\n",
    "\n",
    "$$ \\varphi = \\big( \\gamma \\cosh(\\lambda x) + \\delta \\sinh(\\lambda x) \\big) \\big( \\alpha \\cos(\\lambda y) + \\beta \\sin(\\lambda y) \\big) $$\n",
    "\n",
    "\n",
    "* What we need to do is find values for the constants that satisfy the boundaries:\n",
    "\n",
    "\n",
    "* Because we can sum solutions, we can find a solution that satisfies one of the boundaries, while having all the other boundaries zero:\n",
    "\n",
    "\n",
    "* $\\varphi_1$ will be the solution where $\\varphi_L$ is a function of position along the left hand boundary, while $ \\varphi_R = \\varphi_T = \\varphi_B = 0 $"
   ]
  },
  {
   "cell_type": "markdown",
   "metadata": {},
   "source": [
    "## Analytical Solutions to Laplace’s Equation\n",
    "\n",
    "\n",
    "Since $\\varphi_L$ has a value:\n",
    "\n",
    "\n",
    "$$ \\varphi_1 (0,y) = \\varphi_L = \\gamma \\big( \\alpha \\cos (\\lambda y) + \\beta \\sin (\\lambda y) \\big) $$\n",
    "\n",
    "\n",
    "... this implies that $\\gamma$ is non-zero for arbitrary values of $\\varphi_L$\n",
    "\n",
    "\n",
    "The bottom boundary is assumed zero:\n",
    "\n",
    "\n",
    "$$ \\varphi_1 (x,0) = 0 = \\alpha \\big( \\gamma \\cosh (\\lambda x) + \\delta \\sinh (\\lambda x) \\big) $$\n",
    "\n",
    "\n",
    "Since we know that $\\gamma$ is non-zero, this implies that $\\alpha = 0$"
   ]
  },
  {
   "cell_type": "markdown",
   "metadata": {},
   "source": [
    "## Analytical Solutions to Laplace’s Equation\n",
    "\n",
    "\n",
    "* The other two boundaries are a bit more complex: \n",
    "\n",
    "\n",
    "Top boundary:\n",
    "\n",
    "\n",
    "$$ \\varphi_1 (x,H) = 0 = \\beta \\sin (\\lambda H) \\big( \\gamma \\cosh (\\lambda x) + \\delta \\sinh (\\lambda x) \\big) $$\n",
    "\n",
    "\n",
    "* This means that $\\lambda$ must be chosen such that $\\lambda H$ is a half period of the $\\sin$ wave ($\\sin$ goes to zero at the half periods):\n",
    "\n",
    "\n",
    "$$ \\lambda = \\frac{n \\pi}{H} \\qquad \\text{where } n \\text{ must be an integer} $$\n"
   ]
  },
  {
   "cell_type": "markdown",
   "metadata": {},
   "source": [
    "## ## Analytical Solutions to Laplace’s Equation\n",
    "\n",
    "\n",
    "RHS boundary: \n",
    "\n",
    "\n",
    "Top boundary:\n",
    "\n",
    "\n",
    "$$ \\varphi_1 (W,x) = 0 = \\beta \\sin \\bigg( \\frac{n \\pi y}{H} \\bigg) \\Bigg( \\gamma \\cosh \\bigg( \\frac{n \\pi W}{H} \\bigg) + \\delta \\sinh \\bigg( \\frac{n \\pi W}{H} \\bigg) \\Bigg) $$\n",
    "\n",
    "\n",
    "Since $\\beta \\sin \\big( \\frac{n \\pi y}{H} \\big)$ is non-zero for an arbitrary $y$, this implies that the second term must be zero and therefore:\n",
    "\n",
    "\n",
    "* This means that $\\lambda$ must be chosen such that $\\lambda H$ is a half period of the $\\sin$ wave ($\\sin$ goes to zero at the half periods):\n",
    "\n",
    "\n",
    "$$ \\delta = - \\gamma \\coth \\bigg( \\frac{n \\pi W}{H} \\bigg) $$"
   ]
  },
  {
   "cell_type": "markdown",
   "metadata": {},
   "source": [
    "## Analytical Solutions to Laplace’s Equation\n",
    "\n",
    "\n",
    "* Going back to the first boundary and substituting for what we know:\n",
    "\n",
    "\n",
    "$$ \\varphi_1(0,y) = \\varphi_L = \\gamma \\sin \\bigg( \\frac{n \\pi y}{H} \\bigg) $$\n",
    "\n",
    "\n",
    "* This is not able to be satisfied for an arbitrary value of $y$ using a single value of $n$, but we can luckily sum solutions as it is linear and we can therefore use a Fourier series, which is trivial for a constant $\\varphi_L$ and readily solvable when $\\varphi_L$ is a known function of position:\n",
    "\n",
    "\n",
    "We need for $\\gamma$ for each value of $n$:\n",
    "\n",
    "\n",
    "$$ \\varphi_1(0,y) = \\varphi_L = \\sum_{n=1}^\\infty \\gamma_n \\sin \\bigg( \\frac{n \\pi y}{H} \\bigg) \\qquad \\qquad \\gamma_n = \\frac{2}{H} \\int_0^H \\varphi_L \\sin \\bigg( \\frac{n \\pi y}{H} \\bigg) dy $$"
   ]
  },
  {
   "cell_type": "markdown",
   "metadata": {},
   "source": [
    "## Analytical Solutions to Laplace’s Equation\n",
    "\n",
    "\n",
    "* Substituting everything together:\n",
    "\n",
    "\n",
    "$$ \\varphi_1(0,y) = \\varphi_L = \\sum_{n=1}^\\infty \\gamma_n \\sin \\bigg( \\frac{n \\pi y}{H} \\bigg)  \\Bigg( \\cosh \\bigg( \\frac{n \\pi x}{H} \\bigg) - \\coth \\bigg( \\frac{n \\pi W}{H} \\bigg) \\sinh \\bigg( \\frac{n \\pi x}{H} \\bigg) \\Bigg)$$\n",
    "\n",
    "\n",
    "$$ \\gamma_n = \\frac{2}{H} \\int_0^H \\varphi_L \\sin \\bigg( \\frac{n \\pi y}{H} \\bigg) dy $$\n",
    "\n",
    "\n",
    "* This is for one boundary only. You need to do a similar thing for each of the other boundaries and sum the solutions\n",
    "\n",
    "  * Either follow this method for each boundary or, more easily, transform the coordinates to get the equations for the other boundaries"
   ]
  },
  {
   "cell_type": "markdown",
   "metadata": {},
   "source": [
    "### Example\n",
    "\n",
    "\n",
    "* $\\varphi_2$ will be the solution where $\\varphi_T$ is a function of position along the top boundary (i.e. where $y = H$), while $\\varphi_L = \\varphi_R = \\varphi_B = 0$\n",
    "\n",
    "\n",
    "* Find the solution by transforming the coordinates from the previous solution"
   ]
  },
  {
   "cell_type": "markdown",
   "metadata": {},
   "source": [
    "### Deviations from Potential Flow\n",
    "\n",
    "\n",
    "* Thus far we have assumed that the proportionality between the flux and the potential is constant\n",
    "\n",
    "  * Constant conductivity in heat and electrical flow systems\n",
    "\n",
    "  * Constant permeability in flow in porous media\n",
    "  \n",
    "  * Constant diffusivity in diffusive systems\n",
    "  \n",
    "\n",
    "* The proportionality can be a function of position\n",
    "  \n",
    "  * The material through which the flux is occurring varies spatially\n",
    "  \n",
    "  * Still a linear problem and readily solved\n",
    "\n",
    "\n",
    "* The proportionality can be anisotropic\n",
    "  \n",
    "  * “Conductivity” is different in different directions\n",
    "  \n",
    "  * Arises when the material has a complex and anisotropic microstructure\n",
    "  \n",
    "  * Still a linear problem and thus also readily solvable\n",
    "\n",
    "    * Depending on the form of the anisotropy can sometimes back to Laplace’s equation by suitable scaling of the position\n",
    "\n",
    "\n",
    "* The proportionality is a function of the potential or other coupled dependent variable in the system\n",
    "\n",
    "  * An example would be multi-phase flow in porous media where the permeability is a function of the saturation\n",
    "  \n",
    "  * Non-linear and therefore more complex to solve"
   ]
  },
  {
   "cell_type": "markdown",
   "metadata": {},
   "source": [
    "### Prefactor that is a function of position\n",
    "\n",
    "\n",
    "$$ \\mathbf{v} = - k \\nabla \\varphi \\qquad \\qquad \\nabla \\cdot \\mathbf{v} = 0 $$\n",
    "\n",
    "\n",
    "* Looks like an advection-diffusion equation:\n",
    "\n",
    "\n",
    "$$ \\nabla^2 \\varphi + \\frac{1}{k} \\nabla k \\cdot \\nabla \\varphi = 0 $$\n"
   ]
  },
  {
   "cell_type": "markdown",
   "metadata": {},
   "source": [
    "### Prefactor that is Anisotropic\n",
    "\n",
    "\n",
    "* Prefactor can be represented by a rank 2 tensor\n",
    "\n",
    "  * Tensor will be symmetric\n",
    "  \n",
    "  * Diagonal terms are equivalent to conventional permeability/conductivity, but with different values in different directions\n",
    "  * Off diagonal terms are for fluxes induced by potential gradients in a different direction (e.g. flux in y direction induced by a potential gradient in the $x$ direction)"
   ]
  },
  {
   "cell_type": "markdown",
   "metadata": {},
   "source": [
    "## The Tutorial\n",
    "\n",
    "\n",
    "* In the tutorial we will be solving a problem defined in terms of stream functions\n",
    "\n",
    "\n",
    "* The first step will be deriving the boundary conditions\n",
    "\n",
    "\n",
    "* These can be used to obtain the infinite series solution to the problem\n",
    "\n",
    "\n",
    "* You will then need to implement the infinite series solution in Python\n",
    "  \n",
    "  * You can, of course, only calculate a finite number of terms and will therefore need to decide how many are appropriate at each location"
   ]
  },
  {
   "cell_type": "code",
   "execution_count": null,
   "metadata": {},
   "outputs": [],
   "source": [
    "def adv_central_periodic(N):\n",
    "    \"\"\" Funtion to generate the NxN discretisation matrix for advection\n",
    "    using second-order central differences.\n",
    "    \n",
    "    NB. this version does not multiply through by the factor  (U / dx).\n",
    "    \"\"\"\n",
    "    Dx = 0.5*np.eye(N, k=1) - 0.5*np.eye(N, k=-1)\n",
    "    # Add in the wrapped values due to periodicity\n",
    "    Dx[0, -1] = -0.5\n",
    "    Dx[-1, 0] = 0.5\n",
    "    return Dx\n",
    "\n",
    "def diff_central_periodic(N):\n",
    "    \"\"\" Funtion to generate the NxN discretisation matrix for diffusion\n",
    "    using second-order central differences.\n",
    "    \n",
    "    NB. this version does not multiply through by the factor  (kappa / dx**2).\n",
    "    \"\"\"\n",
    "    Dxx = np.eye(N, k=1) - 2*np.eye(N) + np.eye(N, k=-1)\n",
    "    # Add in the wrapped values due to periodicity\n",
    "    Dxx[0, -1] = 1.\n",
    "    Dxx[-1, 0] = 1.\n",
    "    return Dxx"
   ]
  },
  {
   "cell_type": "markdown",
   "metadata": {},
   "source": [
    "The interior rows of these matrices clearly take the form\n",
    "\n",
    "\n",
    "$$D_x = \\begin{pmatrix}\n",
    "     &  &  &  &    \\\\\n",
    "     \\ddots & \\ddots & \\ddots &  &    \\\\    \n",
    "     & -1/2 & 0 & 1/2 &     \\\\  \n",
    "     &  & \\ddots & \\ddots  &  \\ddots  \\\\  \n",
    "     &  &  &  & \n",
    "\\end{pmatrix}$$\n",
    "\n",
    "and\n",
    "\n",
    "$$D_{xx} = \\begin{pmatrix}\n",
    "     &  &  &  &    \\\\\n",
    "     \\ddots & \\ddots & \\ddots &  &    \\\\    \n",
    "     & 1 & -2 & 1 &     \\\\  \n",
    "     &  & \\ddots & \\ddots  &  \\ddots  \\\\  \n",
    "     &  &  &  & \n",
    "\\end{pmatrix}$$\n",
    "\n",
    "\n",
    "Let's test these changes on the Gaussian problem and check that as the \"blob\" moves out of the right-hand boundary it comes back in at the left."
   ]
  },
  {
   "cell_type": "code",
   "execution_count": null,
   "metadata": {},
   "outputs": [],
   "source": [
    "# physical parameters\n",
    "Pe = 100\n",
    "L = 1\n",
    "U = 1\n",
    "kappa = 1/Pe\n",
    "\n",
    "# define spatial mesh\n",
    "N = 500\n",
    "dx = L / N\n",
    "x = np.linspace(0, L, N)\n",
    "\n",
    "# create discretisation matrix\n",
    "Dx = adv_central_periodic(N)\n",
    "Dxx = diff_central_periodic(N)\n",
    "A = -(U / dx) * Dx + (kappa / dx**2) * Dxx\n",
    "\n",
    "# define a time step size\n",
    "dt = 0.0002\n",
    "\n",
    "# this is a slightly larger dt value mentioned in the comments after the movie\n",
    "#dt = 0.000201\n",
    "\n",
    "# and compute and print some key non-dimensional parameters\n",
    "dx = L / N\n",
    "print('Pe_c: {0:.5f}'.format(U*dx/kappa))\n",
    "print('CFL:  {0:.5f}'.format(U*dt/dx))\n",
    "print('r:    {0:.5f}'.format(kappa*dt/(dx**2)))\n",
    "\n",
    "# define the end time and hence some storage for all solution levels\n",
    "tend = 1\n",
    "# assume a constant dt and so can define all the t's in advance\n",
    "t = np.arange(0, tend, dt)\n",
    "# and we can also set up a matrix to store the discrete solution in space-time\n",
    "# with our a priori knowledge of the size required.\n",
    "C = np.empty((len(x),len(t)))\n",
    "# define an initial condition - a \"blob\" in the shape of a Gaussian\n",
    "# and place it in the first column of the C matrix which stores all solution levels\n",
    "C[:, 0] = np.exp(-((x-0.2)/0.05)**2)\n",
    "\n",
    "# now let's do the time-stepping via a for loop\n",
    "# we will need the identity matrix so define it once outside the loop\n",
    "I = np.eye(len(x))\n",
    "for n in range(len(t)-1):\n",
    "    C[:, n+1] = (I + A * dt) @ C[:, n]\n",
    "    \n",
    "# set up figure\n",
    "fig = plt.figure(figsize=(7, 7))\n",
    "ax1 = plt.subplot(111)\n",
    "ax1.set_xlabel('$x/L$', fontsize=16)\n",
    "ax1.set_ylabel('$C/C_E$', fontsize=16)\n",
    "ax1.set_title('Adv-Diff time-dependent PDE solve', fontsize=16)\n",
    "ax1.set_xlim(0, 1)\n",
    "ax1.set_ylim(-0.1, 1.1)\n",
    "\n",
    "for i in np.arange(0, len(t), int(len(t)/5)):\n",
    "    ax1.plot(x, C[:, i], '.-')"
   ]
  },
  {
   "cell_type": "code",
   "execution_count": null,
   "metadata": {},
   "outputs": [],
   "source": [
    "# create an animation\n",
    "\n",
    "from matplotlib import animation\n",
    "from IPython.display import HTML\n",
    "\n",
    "# First set up the figure, the axis, and the plot element we want to animate\n",
    "fig = plt.figure(figsize=(6, 6))\n",
    "ax1 = fig.add_subplot(111, xlim=(0, 1), ylim=(-0.1, 1.1),\n",
    "                      xlabel='$x$', ylabel='$C$',\n",
    "                      title='Advection-diffusion of a Gaussian in a periodic domain')\n",
    "# if we don't close the figure here we get a rogue frame under the movie\n",
    "plt.close()\n",
    "\n",
    "line, = ax1.plot([], [], 'b', lw=2)\n",
    "time_text = ax1.text(0.78, 0.92, '', transform=ax1.transAxes)\n",
    "\n",
    "\n",
    "def init():\n",
    "    line.set_data([], [])\n",
    "    time_text.set_text('')\n",
    "    return line, time_text\n",
    "\n",
    "\n",
    "def animate(i):\n",
    "    line.set_data(x, C[:, i])\n",
    "    time_text.set_text('time = %.3f' % (i*dt))\n",
    "    return line, time_text\n",
    "\n",
    "\n",
    "number_frames = 100\n",
    "frames = np.arange(0, C.shape[1], int(len(t)/number_frames))\n",
    "anim = animation.FuncAnimation(fig, animate, frames,\n",
    "                               interval=50, blit=True, init_func=init)\n",
    "\n",
    "HTML(anim.to_jshtml())"
   ]
  },
  {
   "cell_type": "markdown",
   "metadata": {},
   "source": [
    "   \n",
    "### Comments\n",
    "\n",
    "- If you increase the time step size (even by just a tiny amount) in the case above you will see our simulation goes unstable as the $r$ parameter goes above 0.5. \n",
    "\n",
    "\n",
    "- Try a value of $\\Delta t  = 0.00201$. Even though the still image is completely polluted by the later noise in the solution. Take a look at the corresponding movie to get an idea how the instability develops.\n",
    "\n",
    "\n",
    "- Note that in this implementation we are storing the $C$ values at all time levels. This is useful for later plotting and for making movies, but might be too memory intensive. As this is a two time level scheme we only need to temporarily store the previous time level's solution. We could do this with something like\n",
    "\n",
    "```Python\n",
    "C = np.empty((len(x), 1))\n",
    "# define an initial condition\n",
    "C = np.exp(-((x-0.2)/0.05)**2)\n",
    "\n",
    "for n in range(len(t)-1):\n",
    "    C_prev = np.copy(C)\n",
    "    C = (I + A * dt) @ C_prev\n",
    "```\n",
    "\n",
    "\n",
    "- Setting $U=0$ (or just not including the `Dx` matrix and corresponding function call) and you will see a solver for pure diffusion; similarly you can get an advection only solver by setting $\\kappa=0$, although we know that this is likely to be unstable due to the infinite (cell) Peclet number and use of a central discretisation for advection. "
   ]
  },
  {
   "cell_type": "markdown",
   "metadata": {},
   "source": [
    "# Stability considerations (a summary)\n",
    "\n",
    "So we hit a stability problem in the last example (when we made $\\Delta t$ just a little larger). \n",
    "\n",
    "Given that we output three diagnostic quantities with each simulation above it may not be a surprise  that there are actually three \"flavours\" of stability we need to consider. There are three since there's quite a lot going on in this problem, compared to what we've seen in the IVP and the BVP parts of this module which effectively considered parts of the current problem in isolation.\n",
    "\n",
    "Stability is a concept that essentially means that the inevitable discretisation errors that occur over a single time step or are localised to a single part of the spatial domain (e.g. in boundary layers we saw in the BVP section), do not \"accumulate\" or grow such that the quality and convergence of the overall numerical solve is compromised.\n",
    "\n",
    "We'll now explain the three stability issues we need to be aware of in this context, and how to manage them."
   ]
  },
  {
   "cell_type": "markdown",
   "metadata": {},
   "source": [
    "## Cell Peclet number\n",
    "\n",
    "We know from our work on BVPs that an issue with mesh sizes comes when we are dealing with a central difference for advection, and the solution varies substantially over a small distance, e.g. in a boundary layer, or simply a concentration type field with sharp changes in solution value.\n",
    "\n",
    "Previously we quantified this in terms of the cell Peclet number where for stability of the central scheme we found that instabilities can occur if we break the following bound on this non-dimensional number:\n",
    "\n",
    "$$Pe_c =  \\frac{U\\Delta x}{\\kappa} < 2.$$\n",
    "\n",
    "[Recall that an upwind discretisation essentially added enough numerical dissipation that the numerical solution was never allowed to get too steep between discrete solution locations].\n",
    "\n",
    "In the current unsteady (time-dependent) advection-diffusion case this stability criterion is still present and valid for the same reasons as for the steady case we discussed previously.  [Although note that with a very stable time-stepping method it is possible that we can push this limit a little bit before wiggles cause us problems].\n"
   ]
  },
  {
   "cell_type": "markdown",
   "metadata": {},
   "source": [
    "If your solution goes unstable (catastrophically so in that it \"blows up\", or just that it exhibits annoying/damaging wiggles) and through a study of key parameters such as the cell Peclet number you suspect that this phenomena is the problem, then you have three potential solutions:\n",
    "\n",
    "<br>\n",
    "\n",
    "1. Use a **finer mesh** (but this may be too costly)\n",
    "\n",
    "<br>\n",
    "\n",
    "2. Use a **different discretisation** (e.g. upwind) - but this may be too inaccurate, and so may need to be performed in tandem with option 1, and with a study of potential errors [NB. given the interplay between the discretisations of advection, diffusion and the time-derivative term, it is possible that changing the latter two could also help with stability, but likely in a similar manner to upwind through the effective addition of spurious additional numerical diffusion]\n",
    "\n",
    "<br>\n",
    "\n",
    "3. **Change the problem!** E.g. here you could specify a larger $\\kappa$.  Now of course $\\kappa$ is a physical quantity that is specified in the real world, changing physical parameters should therefore be done with caution and knowledge, and is really a topic for a course on \"numerical *modelling*\" rather that a course on \"numerical methods\" (cf. also the difference between model verification and model validation).\n",
    "\n",
    "<br>\n",
    "\n",
    "Now in practice you may well perform a combination of all three of these \"solutions\".  Some initially simply to understand the problem, and then you may iterate towards a practical solution which balances stability with your accuracy requirements and computational cost."
   ]
  },
  {
   "cell_type": "markdown",
   "metadata": {},
   "source": [
    "\n",
    "## The Courant number and the CFL condition\n",
    "\n",
    "Recall that the stability criterion for the forward Euler method took the form\n",
    "\n",
    "$$\\left|\\;1-\\lambda\\Delta t\\;\\right|<1, $$\n",
    "\n",
    "where $\\lambda$ was any one of the eigenvalues of the $A$ matrix in our linear ODE system (and with similar expressions for other time-stepping methods based on their \"amplification factors\").\n",
    "\n",
    "\n",
    "We will, through consideration of the eigenvalues of our discretised system, see below that for our problem in the presence of advection this leads to what is termed the [**CFL condition**](https://en.wikipedia.org/wiki/Courant%E2%80%93Friedrichs%E2%80%93Lewy_condition) (after Courant, Friedrichs and Lewy): \n",
    "\n",
    "$$\\frac{U\\Delta t}{\\Delta x} < 1, $$\n",
    "\n",
    "where the term on the LHS is generally termed the **Courant number** (sometimes the notation $C$ is used - $C:=U\\Delta t/L$).\n",
    "\n",
    "We can also establish this stability criterion graphically/intuitively as we will do next."
   ]
  },
  {
   "cell_type": "markdown",
   "metadata": {},
   "source": [
    "But first note that if you suspect that this is the cause of an stability issues you again have several solutions:\n",
    "\n",
    "<br>\n",
    "\n",
    "1. Use a **smaller time step** (but as above, this may be too expensive).\n",
    "\n",
    "<br>\n",
    "\n",
    "2. **Change the time stepping method**, either for a different method with a more suitable stability region (cf. the stability region plots from the IVP lectures, and with suitability here being based on the locations of the eigenvalues in the complex plane and the corresponding size of the schemes' stability region in the real and the imaginary directions), e.g. an A-stable implicit method - but this will possibly come at the expense of additional computational costs, and in the case of an implicit method (as for upwinding) while you may get a stable solution it won't necessarily be accurate!\n",
    "\n",
    "<br>\n",
    "\n",
    "3. **Change the physics** of the problem - this is more difficult to achieve here than the suggestion above to change the value of diffusivity which we can sometimes get away with to a certain extent - we can't really justify changing the speed of advection. Although note that in compressible fluids people often artificially slow down the speed of sound purely for time stepping stability reasons!\n",
    "\n",
    "<br>\n",
    "\n",
    "4. Change $\\Delta x$, e.g. **make the mesh coarser**.  We can do this, but only after giving due consideration to cell Peclet number related stability limits and of course required spatial accuracy!\n",
    "\n",
    "<br>\n",
    "\n",
    "5. Note also that addressing a cell Peclet number instability as suggested above with a finer mesh, while fixing that issue could then lead to a CFL related instability!  **All these issues/solutions are coupled** and we need to understand this to effectively set up and optimise a simulation set-up.  In general if you halve $\\Delta x$, say to either fix an instability or investigate convergence/accuracy, you may be well advised to also halve the time step size so as to maintain a constant Courant number (see below for a slightly different piece of advise when diffusion dominates - when halving $\\Delta x$ it may be advisable to divide the time step size by a factor of four). "
   ]
  },
  {
   "cell_type": "markdown",
   "metadata": {},
   "source": [
    "<div class=\"optional\">\n",
    "\n",
    "## The CFL condition - a physical interpretation [$\\star$]\n",
    "\n",
    "Further below we will derive the CFL condition through consideration of the eigenvalues of our discretisation matrix, \n",
    "\n",
    "but first it's useful to think about why it makes perfect sense from a more physical/geometrical perspective.\n",
    "\n",
    "<br>\n",
    "\n",
    "Consider the following schematic showing our discretisation stencil\n",
    "\n",
    "<img src=\"figures/CFL_schematic.svg\" style=\"width: 700px\">\n",
    "\n",
    "<br>\n",
    "\n",
    "A **domain of dependence** for an equation is defined as those points at earlier times which have an influence on the solution at a single point at a later time.\n",
    "\n",
    "For this schematic, in grey we identify the numerical *domain of dependence*. This is clear from the stencil we are using - only the points $i-1$, $i$ and $i+1$ at the earlier time impact on the value at point $i$ at the new time level. So in this case the domain of dependence is a triangle extending backwards from the point in question to cover the three nodes at the earlier time.\n",
    "\n",
    "We can also define the *domain of dependence* for the continuous problem based on the speed of information propagation, e.g. the speed with which advection (or any other physical process whereby information in transmitted, e.g. through waves) propagate.\n",
    "\n",
    "The CFL condition essentially states that a numerical method can be convergent only if its **numerical domain of dependence contains the true domain of dependence of the PDE**. If this is not the case then the numerical method will essentially be missing information in each of its time step updates.\n",
    "\n",
    "From the schematic we can see that the maximum speed which information can propagate in this discrete scheme is given by the slopes of the grey triangle: $\\Delta x/\\Delta t$ [note this has the units we might expect!] - with this stencil and method information can propagate a maximum of spatial cell size per time step.\n",
    "\n",
    "Now in the case of advection with speed $U$, information propagates at the speed $U$. Hence here for the CFL condition to hold we need that \n",
    "\n",
    "$$ \\frac{\\Delta x}{\\Delta t} > U,$$\n",
    "\n",
    "which is more commonly written as\n",
    "\n",
    "$$C:=\\frac{U \\Delta t}{\\Delta x} < 1. $$\n",
    "\n",
    "More generally, all explicit time-stepping methods will be subject to a CFL condition of the form\n",
    "\n",
    "$$C < C_{\\text{max}}. $$\n",
    "\n",
    "</div>"
   ]
  },
  {
   "cell_type": "markdown",
   "metadata": {},
   "source": [
    "## The r-number/parameter for diffusion\n",
    "\n",
    "*Information* also propagates through diffusion (there are different \"models\" for diffusion, Fickian diffusion is the common one: <https://en.wikipedia.org/wiki/Fick%27s_laws_of_diffusion>).\n",
    "\n",
    "A *characteristic* time scale for this diffusive process can be given by \n",
    "\n",
    "$$ \\tau_d : = \\frac{\\Delta x^2}{\\kappa}. $$\n",
    "\n",
    "From this we can define the so-called r-number or r-parameter\n",
    "\n",
    "$$ r: =  \\frac{\\kappa \\Delta t}{\\Delta x^2},$$\n",
    "\n",
    "[check units] and, similar to the CFL condition, we need to ensure that information can propagate sufficiently quickly on our mesh, and thus by the same logic as above we arrive at a stability bound of the form\n",
    "\n",
    "$$ r < r_{\\text{max}},$$\n",
    "\n",
    "[we will see below that $r_{\\text{max}} = 1/2$ for the discretisation options we have so far considered (i.e. FTCS in the language introduced next)].\n",
    "\n",
    "<br>\n",
    "\n",
    "Some comments on this:\n",
    "\n",
    "1. Depending on whether advection or diffusion dominate the physics of our problem, this may or may not be a harsher constraint on the allowable time step sizes. Note that $r$ and the Courant number $C$ are related via the cell Peclet number:\n",
    "\n",
    "$$ \\frac{C}{r} = \\frac{ \\frac{U \\Delta t}{\\Delta x} }{ \\frac{\\kappa \\Delta t}{\\Delta x^2} } \n",
    "= \\frac{U \\Delta x}{\\kappa} = Pe_c.$$\n",
    "\n",
    "\n",
    "2. Note a big difference now though is that $r$ contains the mesh size squared. So the advice above for CFL where when halving the mesh size you may be advised to also halve the time step, when diffusion is dominant you may actually need to divide by a factor of 4!"
   ]
  },
  {
   "cell_type": "markdown",
   "metadata": {},
   "source": [
    "## Other time stepping options\n",
    "\n",
    "Since we have followed a method of lines semi-discretisation approach we can decouple the choice of spatial discretisation from time-stepping. The approach we used above has the short-hand title FTCS, meaning forward in time and centred in space, but we have other options available to us, including:\n",
    "\n",
    "\n",
    "\\begin{align}\n",
    "\\frac{\\boldsymbol{c}^{n+1} - \\boldsymbol{c}^{n}}{\\Delta t} &= A\\boldsymbol{c}^{n}\\;\\; && \\text{FTCS: forward in time (FE, or RK1/AB1), central in space}\\\\ \n",
    "\\frac{\\boldsymbol{c}^{n+1} - \\boldsymbol{c}^{n}}{\\Delta t} &= A\\boldsymbol{c}^{n+1}\\;\\; &&  \\text{BTCS: backward in time (BE, or AM0), central in space}\\\\\n",
    "\\frac{\\boldsymbol{c}^{n+1} - \\boldsymbol{c}^{n}}{\\Delta t} &= \\frac{1}{2}A\\left(\\boldsymbol{c}^{n+1} + \\boldsymbol{c}^{n}\\right)\\;\\; &&  \\text{Crank-Nicolson (AM2)}\\\\\n",
    "\\frac{\\boldsymbol{c}^{n+1} - \\boldsymbol{c}^{n}}{\\Delta t} &= A\\left(\\theta\\boldsymbol{c}^{n+1} + (1-\\theta)\\boldsymbol{c}^{n}\\right)\\;\\; &&  \\text{Theta method}\n",
    "\\end{align}\n",
    "\n",
    "where $\\theta$ can be chosen in $[0,1]$ and of course includes the first three schemes with the choices $0$, $1$ and $1/2$.\n",
    "\n",
    "Of course through the use of either multi-step or multi-stage methods (as seen in earlier lectures) a huge number of time-stepping options are open to us."
   ]
  },
  {
   "cell_type": "markdown",
   "metadata": {},
   "source": [
    "# Final comments\n",
    "\n",
    "\n",
    "1. We have developed a systematic means of approximating derivatives using the finite difference method.\n",
    "\n",
    "\n",
    "2. We can derive approximations of derivatives of arbitrary convergence order given a large enough stencil, but this comes at higher computational cost.\n",
    "\n",
    "\n",
    "3. When solving BVPs (and more generally PDEs) this order/stencil size impacts upon the degree of sparseness of the matrix systems we need to solve, and hence impacts on computational cost.\n",
    "\n",
    "\n",
    "4. Stability is major issue, and to avoid this we need sufficient mesh resolution to resolve the variability of the solution, otherwise we observe wiggles or under/over-shoots which can ultimately ruin a simulation.\n",
    "\n",
    "\n",
    "5. Variable resolution is one solution, the use of upwinding is another.\n",
    "\n",
    "\n",
    "6. Upwinding is robust but comes at the cost of reduced (order of) accuracy as well as the addition of spurious numerical dissipation.\n",
    "\n",
    "\n",
    "7. The grid/cell Peclet number provides a diagnostic quantity that can be used as a means to assess whether we expect wiggles (in the central differencing case) or excessive numerical dissipation (in the upwind case).\n",
    "\n",
    "\n",
    "8. We brought together ideas, including from ODE solvers, to develop finite difference based solvers for unsteady advection-diffusion in one spatial dimension.\n",
    "\n",
    "\n",
    "9. This allowed us to define, appreciate, and investigate three key stability issues.\n",
    "\n",
    "\n",
    "10. Advection-diffusion has many similarities with fluid dynamics - ALL of the concepts introduced today are also critical to the massive field of ***computational fluid dynamics (CFD)*** in its broadest terms - the issues and the potential solutions discussed are all highly relevant to CFD.\n",
    "\n",
    "\n",
    "11. We introduced the concept of periodic boundaries, effectively as a numerical approach to avoid boundaries; physically periodic boundaries are also employed to effectivly simulate an infinite domain."
   ]
  },
  {
   "cell_type": "code",
   "execution_count": null,
   "metadata": {},
   "outputs": [],
   "source": []
  }
 ],
 "metadata": {
  "celltoolbar": "Slideshow",
  "kernelspec": {
   "display_name": "Python 3",
   "language": "python",
   "name": "python3"
  },
  "language_info": {
   "codemirror_mode": {
    "name": "ipython",
    "version": 3
   },
   "file_extension": ".py",
   "mimetype": "text/x-python",
   "name": "python",
   "nbconvert_exporter": "python",
   "pygments_lexer": "ipython3",
   "version": "3.7.10"
  },
  "latex_envs": {
   "LaTeX_envs_menu_present": true,
   "autoclose": false,
   "autocomplete": true,
   "bibliofile": "biblio.bib",
   "cite_by": "apalike",
   "current_citInitial": 1,
   "eqLabelWithNumbers": true,
   "eqNumInitial": 1,
   "hotkeys": {
    "equation": "Ctrl-E",
    "itemize": "Ctrl-I"
   },
   "labels_anchors": false,
   "latex_user_defs": false,
   "report_style_numbering": false,
   "user_envs_cfg": false
  },
  "toc": {
   "base_numbering": 1,
   "nav_menu": {},
   "number_sections": true,
   "sideBar": true,
   "skip_h1_title": false,
   "title_cell": "Table of Contents",
   "title_sidebar": "Contents",
   "toc_cell": true,
   "toc_position": {},
   "toc_section_display": true,
   "toc_window_display": false
  }
 },
 "nbformat": 4,
 "nbformat_minor": 1
}
