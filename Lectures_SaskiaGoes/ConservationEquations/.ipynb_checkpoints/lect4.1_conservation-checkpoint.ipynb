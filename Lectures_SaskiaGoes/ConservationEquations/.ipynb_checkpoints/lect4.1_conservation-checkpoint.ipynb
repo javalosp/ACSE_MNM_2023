{
 "cells": [
  {
   "cell_type": "code",
   "execution_count": 2,
   "metadata": {},
   "outputs": [
    {
     "data": {
      "text/html": [
       "<style>\n",
       "div.optional {\n",
       "    display: block;\n",
       "    background-color: #d7e2ff;\n",
       "    border-color: #d7e2ff;\n",
       "    border-left: 5px solid #d7e2ff;\n",
       "    padding: 0.5em;\n",
       "}\n",
       "div.advanced {\n",
       "    display: block;\n",
       "    background-color: #fff4d7;\n",
       "    border-color: #fff4d7;\n",
       "    border-left: 5px solid #fff4d7;\n",
       "    padding: 0.5em;\n",
       "}\n",
       "div.extra {\n",
       "        background-color: #fff3d1;\n",
       "}\n",
       "</style>\n"
      ],
      "text/plain": [
       "<IPython.core.display.HTML object>"
      ]
     },
     "metadata": {},
     "output_type": "display_data"
    }
   ],
   "source": [
    "%%html\n",
    "<style>\n",
    "div.optional {\n",
    "    display: block;\n",
    "    background-color: #d7e2ff;\n",
    "    border-color: #d7e2ff;\n",
    "    border-left: 5px solid #d7e2ff;\n",
    "    padding: 0.5em;\n",
    "}\n",
    "div.advanced {\n",
    "    display: block;\n",
    "    background-color: #fff4d7;\n",
    "    border-color: #fff4d7;\n",
    "    border-left: 5px solid #fff4d7;\n",
    "    padding: 0.5em;\n",
    "}\n",
    "div.extra {\n",
    "        background-color: #fff3d1;\n",
    "}\n",
    "</style>\n"
   ]
  },
  {
   "cell_type": "code",
   "execution_count": 9,
   "metadata": {},
   "outputs": [
    {
     "name": "stdout",
     "output_type": "stream",
     "text": [
      "3.7.10\n"
     ]
    }
   ],
   "source": [
    "from platform import python_version\n",
    "\n",
    "print(python_version())"
   ]
  },
  {
   "cell_type": "code",
   "execution_count": 10,
   "metadata": {},
   "outputs": [
    {
     "name": "stdout",
     "output_type": "stream",
     "text": [
      "module://ipympl.backend_nbagg\n"
     ]
    }
   ],
   "source": [
    "import matplotlib\n",
    "print(matplotlib.get_backend())"
   ]
  },
  {
   "cell_type": "code",
   "execution_count": 11,
   "metadata": {},
   "outputs": [
    {
     "name": "stdout",
     "output_type": "stream",
     "text": [
      "Defaulting to user installation because normal site-packages is not writeable\n",
      "Requirement already satisfied: ipympl in /home/jea4117/.local/lib/python3.7/site-packages (0.9.3)\n",
      "Requirement already satisfied: ipython<9 in /usr/local/lib/python3.7/dist-packages (from ipympl) (7.12.0)\n",
      "Requirement already satisfied: numpy in /home/jea4117/.local/lib/python3.7/site-packages (from ipympl) (1.21.5)\n",
      "Requirement already satisfied: ipywidgets<9,>=7.6.0 in /home/jea4117/.local/lib/python3.7/site-packages (from ipympl) (8.0.7)\n",
      "Requirement already satisfied: traitlets<6 in /home/jea4117/.local/lib/python3.7/site-packages (from ipympl) (5.9.0)\n",
      "Requirement already satisfied: pillow in /usr/local/lib/python3.7/dist-packages (from ipympl) (7.0.0)\n",
      "Requirement already satisfied: ipython-genutils in /usr/local/lib/python3.7/dist-packages (from ipympl) (0.2.0)\n",
      "Requirement already satisfied: matplotlib<4,>=3.4.0 in /home/jea4117/.local/lib/python3.7/site-packages (from ipympl) (3.5.1)\n",
      "Requirement already satisfied: setuptools>=18.5 in /home/jea4117/.local/lib/python3.7/site-packages (from ipython<9->ipympl) (59.5.0)\n",
      "Requirement already satisfied: decorator in /usr/lib/python3/dist-packages (from ipython<9->ipympl) (4.0.6)\n",
      "Requirement already satisfied: prompt-toolkit!=3.0.0,!=3.0.1,<3.1.0,>=2.0.0 in /usr/local/lib/python3.7/dist-packages (from ipython<9->ipympl) (3.0.3)\n",
      "Requirement already satisfied: pygments in /usr/local/lib/python3.7/dist-packages (from ipython<9->ipympl) (2.10.0)\n",
      "Requirement already satisfied: pexpect in /usr/local/lib/python3.7/dist-packages (from ipython<9->ipympl) (4.8.0)\n",
      "Requirement already satisfied: pickleshare in /usr/local/lib/python3.7/dist-packages (from ipython<9->ipympl) (0.7.5)\n",
      "Requirement already satisfied: backcall in /usr/local/lib/python3.7/dist-packages (from ipython<9->ipympl) (0.1.0)\n",
      "Requirement already satisfied: jedi>=0.10 in /usr/local/lib/python3.7/dist-packages (from ipython<9->ipympl) (0.16.0)\n",
      "Requirement already satisfied: ipykernel>=4.5.1 in /usr/local/lib/python3.7/dist-packages (from ipywidgets<9,>=7.6.0->ipympl) (5.1.4)\n",
      "Requirement already satisfied: widgetsnbextension~=4.0.7 in /home/jea4117/.local/lib/python3.7/site-packages (from ipywidgets<9,>=7.6.0->ipympl) (4.0.8)\n",
      "Requirement already satisfied: jupyterlab-widgets~=3.0.7 in /home/jea4117/.local/lib/python3.7/site-packages (from ipywidgets<9,>=7.6.0->ipympl) (3.0.8)\n",
      "Requirement already satisfied: jupyter-client in /home/jea4117/.local/lib/python3.7/site-packages (from ipykernel>=4.5.1->ipywidgets<9,>=7.6.0->ipympl) (7.4.9)\n",
      "Requirement already satisfied: tornado>=4.2 in /home/jea4117/.local/lib/python3.7/site-packages (from ipykernel>=4.5.1->ipywidgets<9,>=7.6.0->ipympl) (6.2)\n",
      "Requirement already satisfied: parso>=0.5.2 in /usr/local/lib/python3.7/dist-packages (from jedi>=0.10->ipython<9->ipympl) (0.6.2)\n",
      "Requirement already satisfied: packaging>=20.0 in /home/jea4117/.local/lib/python3.7/site-packages (from matplotlib<4,>=3.4.0->ipympl) (21.3)\n",
      "Requirement already satisfied: kiwisolver>=1.0.1 in /usr/local/lib/python3.7/dist-packages (from matplotlib<4,>=3.4.0->ipympl) (1.1.0)\n",
      "Requirement already satisfied: fonttools>=4.22.0 in /home/jea4117/.local/lib/python3.7/site-packages (from matplotlib<4,>=3.4.0->ipympl) (4.29.1)\n",
      "Requirement already satisfied: cycler>=0.10 in /usr/local/lib/python3.7/dist-packages (from matplotlib<4,>=3.4.0->ipympl) (0.10.0)\n",
      "Requirement already satisfied: pyparsing>=2.2.1 in /home/jea4117/.local/lib/python3.7/site-packages (from matplotlib<4,>=3.4.0->ipympl) (3.0.7)\n",
      "Requirement already satisfied: python-dateutil>=2.7 in /home/jea4117/.local/lib/python3.7/site-packages (from matplotlib<4,>=3.4.0->ipympl) (2.8.2)\n",
      "Requirement already satisfied: six in /home/jea4117/.local/lib/python3.7/site-packages (from cycler>=0.10->matplotlib<4,>=3.4.0->ipympl) (1.13.0)\n",
      "Requirement already satisfied: wcwidth in /usr/local/lib/python3.7/dist-packages (from prompt-toolkit!=3.0.0,!=3.0.1,<3.1.0,>=2.0.0->ipython<9->ipympl) (0.1.8)\n",
      "Requirement already satisfied: jupyter-core>=4.9.2 in /home/jea4117/.local/lib/python3.7/site-packages (from jupyter-client->ipykernel>=4.5.1->ipywidgets<9,>=7.6.0->ipympl) (4.12.0)\n",
      "Requirement already satisfied: nest-asyncio>=1.5.4 in /home/jea4117/.local/lib/python3.7/site-packages (from jupyter-client->ipykernel>=4.5.1->ipywidgets<9,>=7.6.0->ipympl) (1.5.6)\n",
      "Requirement already satisfied: entrypoints in /usr/local/lib/python3.7/dist-packages (from jupyter-client->ipykernel>=4.5.1->ipywidgets<9,>=7.6.0->ipympl) (0.3)\n",
      "Requirement already satisfied: pyzmq>=23.0 in /home/jea4117/.local/lib/python3.7/site-packages (from jupyter-client->ipykernel>=4.5.1->ipywidgets<9,>=7.6.0->ipympl) (24.0.1)\n",
      "Requirement already satisfied: ptyprocess>=0.5 in /usr/lib/python3/dist-packages (from pexpect->ipython<9->ipympl) (0.5)\n",
      "\u001b[33mWARNING: You are using pip version 21.1.1; however, version 23.2.1 is available.\n",
      "You should consider upgrading via the '/usr/bin/python3 -m pip install --upgrade pip' command.\u001b[0m\n"
     ]
    }
   ],
   "source": [
    "!pip install ipympl"
   ]
  },
  {
   "cell_type": "code",
   "execution_count": null,
   "metadata": {},
   "outputs": [],
   "source": []
  },
  {
   "cell_type": "code",
   "execution_count": 16,
   "metadata": {
    "scrolled": false
   },
   "outputs": [],
   "source": [
    "%matplotlib inline\n",
    "import numpy as np\n",
    "import scipy.linalg as sl\n",
    "# we'll start using sparse matrices here\n",
    "import scipy.sparse as sp\n",
    "# and linear algebra functions designed for sparse matrices\n",
    "import scipy.sparse.linalg as spla\n",
    "import matplotlib.pyplot as plt\n",
    "from pprint import pprint\n",
    "# the following allows us to plot triangles indicating convergence order\n",
    "#from mpltools import annotation\n",
    "# Sympy for symbols rendering\n",
    "import sympy as sy\n",
    "\n",
    "import os\n",
    "\n",
    "\n",
    "from IPython.display import display\n",
    "from ipywidgets import widgets as ipywidgets\n",
    "from matplotlib import cm\n",
    "from matplotlib import widgets as mpl_widgets\n",
    "\n",
    "# font sizes for plots\n",
    "#plt.rcParams['font.size'] = 12\n",
    "#plt.rcParams['font.family'] = 'sans-serif'\n",
    "#plt.rcParams['font.sans-serif'] = ['Arial', 'Dejavu Sans']"
   ]
  },
  {
   "cell_type": "markdown",
   "metadata": {
    "slideshow": {
     "slide_type": "slide"
    }
   },
   "source": [
    "# Modelling and Numerical Methods  <a class=\"tocSkip\">\n",
    "    \n",
    "## Lecture 4  <a class=\"tocSkip\">\n",
    "\n",
    "## Conservation Equations and Rheology <a class=\"tocSkip\">\n",
    "    \n",
    "    \n",
    "\n"
   ]
  },
  {
   "cell_type": "markdown",
   "metadata": {
    "toc": true
   },
   "source": [
    "<h1>Table of Contents<span class=\"tocSkip\"></span></h1>\n",
    "<div class=\"toc\"><ul class=\"toc-item\"><li><span><a href=\"#Differentiation-(or-taking-a-derivative)---the-continuous-definition\" data-toc-modified-id=\"Differentiation-(or-taking-a-derivative)---the-continuous-definition-1\"><span class=\"toc-item-num\">1&nbsp;&nbsp;</span>Differentiation (or taking a derivative) - the continuous definition</a></span></li><li><span><a href=\"#Finite-differences\" data-toc-modified-id=\"Finite-differences-2\"><span class=\"toc-item-num\">2&nbsp;&nbsp;</span>Finite differences</a></span><ul class=\"toc-item\"><li><span><a href=\"#The-forward-difference\" data-toc-modified-id=\"The-forward-difference-2.1\"><span class=\"toc-item-num\">2.1&nbsp;&nbsp;</span>The forward difference</a></span></li><li><span><a href=\"#Taylor-series-to-estimate-accuracy\" data-toc-modified-id=\"Taylor-series-to-estimate-accuracy-2.2\"><span class=\"toc-item-num\">2.2&nbsp;&nbsp;</span>Taylor series to estimate accuracy</a></span><ul class=\"toc-item\"><li><span><a href=\"#Taylor-series-example-[from-previous-lecture]\" data-toc-modified-id=\"Taylor-series-example-[from-previous-lecture]-2.2.1\"><span class=\"toc-item-num\">2.2.1&nbsp;&nbsp;</span>Taylor series example [from previous lecture]</a></span></li><li><span><a href=\"#Order-of-convergence---higher-generally-better\" data-toc-modified-id=\"Order-of-convergence---higher-generally-better-2.2.2\"><span class=\"toc-item-num\">2.2.2&nbsp;&nbsp;</span>Order of convergence - higher generally better</a></span></li></ul></li><li><span><a href=\"#The-backward-difference\" data-toc-modified-id=\"The-backward-difference-2.3\"><span class=\"toc-item-num\">2.3&nbsp;&nbsp;</span>The backward difference</a></span></li><li><span><a href=\"#The-central-difference\" data-toc-modified-id=\"The-central-difference-2.4\"><span class=\"toc-item-num\">2.4&nbsp;&nbsp;</span>The central difference</a></span></li><li><span><a href=\"#Example:-Write-a-function-to-perform-numerical-differentiation\" data-toc-modified-id=\"Example:-Write-a-function-to-perform-numerical-differentiation-2.5\"><span class=\"toc-item-num\">2.5&nbsp;&nbsp;</span>Example: Write a function to perform numerical differentiation</a></span></li><li><span><a href=\"#Example:-Compute-the-derivative-of-$\\sin(x)$\" data-toc-modified-id=\"Example:-Compute-the-derivative-of-$\\sin(x)$-2.6\"><span class=\"toc-item-num\">2.6&nbsp;&nbsp;</span>Example: Compute the derivative of $\\sin(x)$</a></span></li><li><span><a href=\"#How-small-(or-large)-can-$\\Delta-x$-go?\" data-toc-modified-id=\"How-small-(or-large)-can-$\\Delta-x$-go?-2.7\"><span class=\"toc-item-num\">2.7&nbsp;&nbsp;</span>How small (or large) can $\\Delta x$ go?</a></span><ul class=\"toc-item\"><li><span><a href=\"#Observations\" data-toc-modified-id=\"Observations-2.7.1\"><span class=\"toc-item-num\">2.7.1&nbsp;&nbsp;</span>Observations</a></span></li></ul></li><li><span><a href=\"#Approximating-second-derivatives\" data-toc-modified-id=\"Approximating-second-derivatives-2.8\"><span class=\"toc-item-num\">2.8&nbsp;&nbsp;</span>Approximating second derivatives</a></span></li></ul></li><li><span><a href=\"#Introduction-to-BVPs\" data-toc-modified-id=\"Introduction-to-BVPs-3\"><span class=\"toc-item-num\">3&nbsp;&nbsp;</span>Introduction to BVPs</a></span><ul class=\"toc-item\"><li><span><a href=\"#Problem-non-dimensionalisation\" data-toc-modified-id=\"Problem-non-dimensionalisation-3.1\"><span class=\"toc-item-num\">3.1&nbsp;&nbsp;</span>Problem non-dimensionalisation</a></span></li><li><span><a href=\"#Model-problem---BVP:-steady-state-advection-diffusion\" data-toc-modified-id=\"Model-problem---BVP:-steady-state-advection-diffusion-3.2\"><span class=\"toc-item-num\">3.2&nbsp;&nbsp;</span>Model problem - BVP: steady-state advection-diffusion</a></span><ul class=\"toc-item\"><li><span><a href=\"#Observations\" data-toc-modified-id=\"Observations-3.2.1\"><span class=\"toc-item-num\">3.2.1&nbsp;&nbsp;</span>Observations</a></span></li></ul></li><li><span><a href=\"#Methods-for-solving-BVPs\" data-toc-modified-id=\"Methods-for-solving-BVPs-3.3\"><span class=\"toc-item-num\">3.3&nbsp;&nbsp;</span>Methods for solving BVPs</a></span></li><li><span><a href=\"#Defining-a-grid-(or-mesh)\" data-toc-modified-id=\"Defining-a-grid-(or-mesh)-3.4\"><span class=\"toc-item-num\">3.4&nbsp;&nbsp;</span>Defining a grid (or mesh)</a></span></li><li><span><a href=\"#Dealing-with-Dirichlet-boundary-conditions\" data-toc-modified-id=\"Dealing-with-Dirichlet-boundary-conditions-3.5\"><span class=\"toc-item-num\">3.5&nbsp;&nbsp;</span>Dealing with Dirichlet boundary conditions</a></span></li><li><span><a href=\"#Solving-the-diffusion-equation\" data-toc-modified-id=\"Solving-the-diffusion-equation-3.6\"><span class=\"toc-item-num\">3.6&nbsp;&nbsp;</span>Solving the diffusion equation</a></span><ul class=\"toc-item\"><li><span><a href=\"#Observations\" data-toc-modified-id=\"Observations-3.6.1\"><span class=\"toc-item-num\">3.6.1&nbsp;&nbsp;</span>Observations</a></span></li></ul></li></ul></li><li><span><a href=\"#The-time-independent-(steady)-advection-diffusion-problem\" data-toc-modified-id=\"The-time-independent-(steady)-advection-diffusion-problem-4\"><span class=\"toc-item-num\">4&nbsp;&nbsp;</span>The time-independent (steady) advection-diffusion problem</a></span><ul class=\"toc-item\"><li><span><a href=\"#Discretisation-choices-for-advection-and-diffusion\" data-toc-modified-id=\"Discretisation-choices-for-advection-and-diffusion-4.1\"><span class=\"toc-item-num\">4.1&nbsp;&nbsp;</span>Discretisation choices for advection and diffusion</a></span><ul class=\"toc-item\"><li><span><a href=\"#Observations\" data-toc-modified-id=\"Observations-4.1.1\"><span class=\"toc-item-num\">4.1.1&nbsp;&nbsp;</span>Observations</a></span></li><li><span><a href=\"#More-observations\" data-toc-modified-id=\"More-observations-4.1.2\"><span class=\"toc-item-num\">4.1.2&nbsp;&nbsp;</span>More observations</a></span></li></ul></li><li><span><a href=\"#Upwind-for-advection\" data-toc-modified-id=\"Upwind-for-advection-4.2\"><span class=\"toc-item-num\">4.2&nbsp;&nbsp;</span>Upwind for advection</a></span><ul class=\"toc-item\"><li><span><a href=\"#Observations\" data-toc-modified-id=\"Observations-4.2.1\"><span class=\"toc-item-num\">4.2.1&nbsp;&nbsp;</span>Observations</a></span></li></ul></li><li><span><a href=\"#Analysis-of-the-upwind-scheme-[$\\star$]\" data-toc-modified-id=\"Analysis-of-the-upwind-scheme-[$\\star$]-4.3\"><span class=\"toc-item-num\">4.3&nbsp;&nbsp;</span>Analysis of the upwind scheme [$\\star$]</a></span></li><li><span><a href=\"#Practicalities!\" data-toc-modified-id=\"Practicalities!-4.4\"><span class=\"toc-item-num\">4.4&nbsp;&nbsp;</span>Practicalities!</a></span></li></ul></li><li><span><a href=\"#The-time-dependent-(unsteady)-advection-diffusion-problem\" data-toc-modified-id=\"The-time-dependent-(unsteady)-advection-diffusion-problem-5\"><span class=\"toc-item-num\">5&nbsp;&nbsp;</span>The time-dependent (unsteady) advection-diffusion problem</a></span><ul class=\"toc-item\"><li><span><a href=\"#The-equation-in-higher-spatial-dimensions-[$\\star$]\" data-toc-modified-id=\"The-equation-in-higher-spatial-dimensions-[$\\star$]-5.1\"><span class=\"toc-item-num\">5.1&nbsp;&nbsp;</span>The equation in higher spatial dimensions [$\\star$]</a></span></li><li><span><a href=\"#Non-dimensionalisation\" data-toc-modified-id=\"Non-dimensionalisation-5.2\"><span class=\"toc-item-num\">5.2&nbsp;&nbsp;</span>Non-dimensionalisation</a></span></li><li><span><a href=\"#The-Method-of-Lines\" data-toc-modified-id=\"The-Method-of-Lines-5.3\"><span class=\"toc-item-num\">5.3&nbsp;&nbsp;</span>The Method of Lines</a></span><ul class=\"toc-item\"><li><span><a href=\"#Defining-a-spatial-grid\" data-toc-modified-id=\"Defining-a-spatial-grid-5.3.1\"><span class=\"toc-item-num\">5.3.1&nbsp;&nbsp;</span>Defining a spatial grid</a></span></li></ul></li><li><span><a href=\"#Discretising-in-space\" data-toc-modified-id=\"Discretising-in-space-5.4\"><span class=\"toc-item-num\">5.4&nbsp;&nbsp;</span>Discretising in space</a></span><ul class=\"toc-item\"><li><span><a href=\"#Including-Dirichlet-boundary-conditions\" data-toc-modified-id=\"Including-Dirichlet-boundary-conditions-5.4.1\"><span class=\"toc-item-num\">5.4.1&nbsp;&nbsp;</span>Including Dirichlet boundary conditions</a></span></li><li><span><a href=\"#The-initial-condition\" data-toc-modified-id=\"The-initial-condition-5.4.2\"><span class=\"toc-item-num\">5.4.2&nbsp;&nbsp;</span>The initial condition</a></span></li><li><span><a href=\"#The-(semi-)-discretised-system\" data-toc-modified-id=\"The-(semi-)-discretised-system-5.4.3\"><span class=\"toc-item-num\">5.4.3&nbsp;&nbsp;</span>The (semi-) discretised system</a></span></li></ul></li><li><span><a href=\"#The-semi-disrete-matrix-system\" data-toc-modified-id=\"The-semi-disrete-matrix-system-5.5\"><span class=\"toc-item-num\">5.5&nbsp;&nbsp;</span>The semi-disrete matrix system</a></span></li><li><span><a href=\"#Discretising-in-time\" data-toc-modified-id=\"Discretising-in-time-5.6\"><span class=\"toc-item-num\">5.6&nbsp;&nbsp;</span>Discretising in time</a></span><ul class=\"toc-item\"><li><span><a href=\"#Forward-Euler\" data-toc-modified-id=\"Forward-Euler-5.6.1\"><span class=\"toc-item-num\">5.6.1&nbsp;&nbsp;</span>Forward Euler</a></span></li><li><span><a href=\"#Observations\" data-toc-modified-id=\"Observations-5.6.2\"><span class=\"toc-item-num\">5.6.2&nbsp;&nbsp;</span>Observations</a></span></li></ul></li><li><span><a href=\"#Example---advection-diffusion-of-a-Gaussian\" data-toc-modified-id=\"Example---advection-diffusion-of-a-Gaussian-5.7\"><span class=\"toc-item-num\">5.7&nbsp;&nbsp;</span>Example - advection-diffusion of a Gaussian</a></span><ul class=\"toc-item\"><li><span><a href=\"#Observations\" data-toc-modified-id=\"Observations-5.7.1\"><span class=\"toc-item-num\">5.7.1&nbsp;&nbsp;</span>Observations</a></span></li></ul></li><li><span><a href=\"#Periodic-boundaries\" data-toc-modified-id=\"Periodic-boundaries-5.8\"><span class=\"toc-item-num\">5.8&nbsp;&nbsp;</span>Periodic boundaries</a></span><ul class=\"toc-item\"><li><span><a href=\"#Comments\" data-toc-modified-id=\"Comments-5.8.1\"><span class=\"toc-item-num\">5.8.1&nbsp;&nbsp;</span>Comments</a></span></li></ul></li></ul></li><li><span><a href=\"#Stability-considerations-(a-summary)\" data-toc-modified-id=\"Stability-considerations-(a-summary)-6\"><span class=\"toc-item-num\">6&nbsp;&nbsp;</span>Stability considerations (a summary)</a></span><ul class=\"toc-item\"><li><span><a href=\"#Cell-Peclet-number\" data-toc-modified-id=\"Cell-Peclet-number-6.1\"><span class=\"toc-item-num\">6.1&nbsp;&nbsp;</span>Cell Peclet number</a></span></li><li><span><a href=\"#The-Courant-number-and-the-CFL-condition\" data-toc-modified-id=\"The-Courant-number-and-the-CFL-condition-6.2\"><span class=\"toc-item-num\">6.2&nbsp;&nbsp;</span>The Courant number and the CFL condition</a></span></li><li><span><a href=\"#The-CFL-condition---a-physical-interpretation-[$\\star$]\" data-toc-modified-id=\"The-CFL-condition---a-physical-interpretation-[$\\star$]-6.3\"><span class=\"toc-item-num\">6.3&nbsp;&nbsp;</span>The CFL condition - a physical interpretation [$\\star$]</a></span></li><li><span><a href=\"#The-r-number/parameter-for-diffusion\" data-toc-modified-id=\"The-r-number/parameter-for-diffusion-6.4\"><span class=\"toc-item-num\">6.4&nbsp;&nbsp;</span>The r-number/parameter for diffusion</a></span></li><li><span><a href=\"#Other-time-stepping-options\" data-toc-modified-id=\"Other-time-stepping-options-6.5\"><span class=\"toc-item-num\">6.5&nbsp;&nbsp;</span>Other time stepping options</a></span></li></ul></li><li><span><a href=\"#Final-comments\" data-toc-modified-id=\"Final-comments-7\"><span class=\"toc-item-num\">7&nbsp;&nbsp;</span>Final comments</a></span></li></ul></div>"
   ]
  },
  {
   "cell_type": "markdown",
   "metadata": {
    "slideshow": {
     "slide_type": "slide"
    }
   },
   "source": [
    "## Outline: <a class=\"tocSkip\">\n",
    "    \n",
    "\n",
    "    \n",
    "* Conservation equations\n",
    "* Energy equation\n",
    "* Constitutive equations: Rheology\n",
    "* Elasticity and Wave Equation\n",
    "* Newtonian Viscosity and Navier Stokes"
   ]
  },
  {
   "cell_type": "markdown",
   "metadata": {},
   "source": [
    "## Learning Objectives  <a class=\"tocSkip\">\n",
    "\n",
    "    \n",
    "\n",
    "* Learn main conservation equations used in\n",
    "continuum mechanics modelling and understand\n",
    "what different terms in these equations represent\n",
    "• Be able to solve conservation equations for basic\n",
    "analytical solutions given boundary/initial\n",
    "conditions.\n",
    "• Understand basic properties of elastic and viscous\n",
    "rheology and understand how the choice of rheology\n",
    "leads to different forms of the momentum\n",
    "conservation equation\n",
    "• Using tensor analysis to obtain relations between the\n",
    "main isotropic elastic parameters\n"
   ]
  },
  {
   "cell_type": "markdown",
   "metadata": {
    "slideshow": {
     "slide_type": "slide"
    }
   },
   "source": [
    "## Continuum Mechanics Equations\n",
    "\n",
    "### General:\n",
    "\n",
    "\n",
    "1. *Kinematics* – describing deformation and velocity without considering forces\n",
    "2. *Dynamics* – equations that describe force balance, conservation of linear and angular momentum\n",
    "3. *Thermodynamics* – relations temperature, heatflux, stress, entropy\n",
    "\n",
    "\n",
    "### Material-specific\n",
    "\n",
    "\n",
    "4. Constitutive equations – relations describing how material properties vary as a function of T,P, stress,.... Such material properties govern dynamics (e.g., **density**), response to stress (**viscosity, elastic parameters**), heat transport (**thermal conductivity, heat capacity**)"
   ]
  },
  {
   "cell_type": "markdown",
   "metadata": {},
   "source": [
    "## Kinematics:\n",
    "\n",
    "### Conservation of Mass\n",
    "\n",
    "\n",
    "* Describes that no material lost during flow or deformation\n",
    "\n",
    "\n",
    "* Material-in balances material-out\n",
    "\n",
    "\n",
    "* Take into account any potential changes in density (e.g. due to changes in temperature, pressure, phase)"
   ]
  },
  {
   "cell_type": "markdown",
   "metadata": {
    "slideshow": {
     "slide_type": "subslide"
    }
   },
   "source": [
    "## 2-D Conservation of Mass\n",
    "\n",
    "\n",
    "<img src=\"figures/2-D_conservation_of_mass_1.png\" style=\"width: 800px\">\n"
   ]
  },
  {
   "cell_type": "markdown",
   "metadata": {
    "slideshow": {
     "slide_type": "subslide"
    }
   },
   "source": [
    "## 2-D Conservation of Mass\n",
    "\n",
    "\n",
    "<img src=\"figures/2-D_conservation_of_mass_2.png\" style=\"width: 800px\">"
   ]
  },
  {
   "cell_type": "markdown",
   "metadata": {
    "slideshow": {
     "slide_type": "subslide"
    }
   },
   "source": [
    "## Conservation of Mass\n",
    "\n",
    "\n",
    "### Full expression: compressible\n",
    "\n",
    "\n",
    "$$\n",
    "\\frac{D \\rho d V}{D t} = 0 \\qquad\n",
    "\\begin{matrix}\n",
    "\\rho - \\text{density} \\\\\n",
    "d V - \\text{infinitesimal volume}\n",
    "\\end{matrix}\n",
    "$$\n",
    "\n",
    "\n",
    "\n",
    "$$\n",
    "\\overbrace{\\frac{D \\rho}{D t} d V}^{\\text{density changes}} + \\underbrace{\\rho \\frac{D dV}{D t}}_{\\text{volume changes}} = 0\n",
    "$$\n",
    "\n",
    "\n",
    "\n",
    "$$\n",
    "\\frac{D \\rho}{D t} + \\rho \\nabla \\cdot \\pmb{v} = 0\n",
    "$$\n",
    "\n",
    "\n",
    "In spatial description:\n",
    "\n",
    "\n",
    "$$\n",
    "\\frac{D \\rho}{D t} = \\underbrace{\\frac{\\partial \\rho}{\\partial t} + \\pmb{v} \\cdot \\nabla \\rho}_{\\rho(time) \\text{ advected}}, \\quad \\text{so} \\quad  \\frac{\\partial \\rho}{\\partial t} + \\nabla \\cdot (\\rho \\pmb{v}) = 0\n",
    "$$"
   ]
  },
  {
   "cell_type": "markdown",
   "metadata": {
    "slideshow": {
     "slide_type": "subslide"
    }
   },
   "source": [
    "## Dynamics:\n",
    "\n",
    "### Conservation of Momentum\n",
    "\n",
    "\n",
    "* Linear force balance = Newton’s second law, $\\mathbf{F} = m \\mathbf{a}$\n",
    "* Relates force $\\mathbf{F}$ to motion, acceleration $\\mathbf{a}$ – hence also called “equation of motion”\n",
    "* Conservation angular momentum assumed in symmetry of stress tensor"
   ]
  },
  {
   "cell_type": "markdown",
   "metadata": {
    "slideshow": {
     "slide_type": "subslide"
    }
   },
   "source": [
    "## Equation of motion\n",
    "\n",
    "\n",
    "Force balance:\n",
    "\n",
    "$$ \\mathbf{F}_{\\text{body}} + \\mathbf{F}_{\\text{stress}} = m \\mathbf{a}$$\n",
    "\n",
    "\n",
    "\n",
    "\n",
    "<img src=\"figures/Conservation_of_Momentum.png\" style=\"width: 400px\">\n",
    "\n",
    "\n",
    "\n",
    "In $x_1$ direction:\n",
    "\n",
    "$$ \n",
    "\\begin{align}\n",
    "f_1 \\Delta x_1 \\Delta x_2 \\Delta x_3 \n",
    " &+ \\left( \\sigma{11} + \\Delta x_1 \\frac{\\partial \\sigma_{11}}{\\partial x_1} - \\sigma_{11} \\right)\\Delta x_2 \\Delta x_3  \\\\\n",
    " &+ \\left( \\sigma{21} + \\Delta x_1 \\frac{\\partial \\sigma_{21}}{\\partial x_2} - \\sigma_{21} \\right)\\Delta x_1 \\Delta x_3  \\\\\n",
    " &+ \\left( \\sigma{31} + \\Delta x_1 \\frac{\\partial \\sigma_{31}}{\\partial x_2} - \\sigma_{31} \\right)\\Delta x_1 \\Delta x_2\n",
    " = \\rho \\Delta x_1 \\Delta x_2 \\Delta x_3 \\frac{\\partial^2 {v}_{1}}{\\partial t^2}\n",
    "\\end{align}\n",
    "$$\n",
    "\n",
    "<br>\n",
    "\n",
    "$$\n",
    "\\Rightarrow f_{1} + \\frac{\\partial \\sigma_{11}}{\\partial x_1} + \\frac{\\partial \\sigma_{21}}{\\partial x_1} + \\frac{\\partial \\sigma_{31}}{\\partial x_1} = \\rho  \\frac{\\partial^2 {v}_{1}}{\\partial t^2}\n",
    "$$\n",
    "\n",
    "<br>\n",
    "\n",
    "$$\n",
    "\\Rightarrow f_{i} + \\frac{\\partial \\sigma_{ji}}{\\partial x_j} = \\rho  \\frac{\\partial^2 {v}_{i}}{\\partial t^2}\n",
    "$$\n",
    "\n",
    "<br>\n",
    "\n",
    "$$\n",
    "\\Rightarrow \\mathbf{f} + \\nabla \\cdot \\boldsymbol{\\sigma} = \\rho  \\frac{\\partial^2 \\pmb{v}_{i}}{\\partial t^2}\n",
    "$$"
   ]
  },
  {
   "cell_type": "markdown",
   "metadata": {},
   "source": [
    "<h3><center><span style=\"color:blue\">Try yourself</span></center></h3>\n",
    "\n",
    "<center><em>chapter3.ipynb</em></center>\n",
    "<br>\n",
    "\n",
    "\n",
    "<center><strong><span style=\"color:blue\">Exercises 1 and 2</span></strong></center>\n",
    "\n",
    "<center>now / tomorrow</center>\n"
   ]
  },
  {
   "cell_type": "markdown",
   "metadata": {},
   "source": [
    "## Learning Objectives  <a class=\"tocSkip\">\n",
    "### Kinematics & Conservation: <a class=\"tocSkip\">\n",
    "\n",
    "\n",
    "\n",
    "\n",
    "* Be able to use material and spatial descriptions of variables and their time derivatives.\n",
    "    \n",
    "* Be able to compute infinitesimal strain (strain rate) tensor given a displacement (velocity) field.\n",
    "\n",
    "* Know meaning of the different components of the infinitesimal strain (rate) tensor\n",
    "\n",
    "* Use the conservation of mass equation\n",
    "\n",
    "* Use the conservation of linear momentum equation, i.e. balance body forces and stresses"
   ]
  },
  {
   "cell_type": "code",
   "execution_count": null,
   "metadata": {},
   "outputs": [],
   "source": []
  }
 ],
 "metadata": {
  "celltoolbar": "Slideshow",
  "kernelspec": {
   "display_name": "Python 3",
   "language": "python",
   "name": "python3"
  },
  "language_info": {
   "codemirror_mode": {
    "name": "ipython",
    "version": 3
   },
   "file_extension": ".py",
   "mimetype": "text/x-python",
   "name": "python",
   "nbconvert_exporter": "python",
   "pygments_lexer": "ipython3",
   "version": "3.7.10"
  },
  "latex_envs": {
   "LaTeX_envs_menu_present": true,
   "autoclose": false,
   "autocomplete": true,
   "bibliofile": "biblio.bib",
   "cite_by": "apalike",
   "current_citInitial": 1,
   "eqLabelWithNumbers": true,
   "eqNumInitial": 1,
   "hotkeys": {
    "equation": "Ctrl-E",
    "itemize": "Ctrl-I"
   },
   "labels_anchors": false,
   "latex_user_defs": false,
   "report_style_numbering": false,
   "user_envs_cfg": false
  },
  "toc": {
   "base_numbering": 1,
   "nav_menu": {},
   "number_sections": true,
   "sideBar": true,
   "skip_h1_title": false,
   "title_cell": "Table of Contents",
   "title_sidebar": "Contents",
   "toc_cell": true,
   "toc_position": {},
   "toc_section_display": true,
   "toc_window_display": false
  }
 },
 "nbformat": 4,
 "nbformat_minor": 1
}
