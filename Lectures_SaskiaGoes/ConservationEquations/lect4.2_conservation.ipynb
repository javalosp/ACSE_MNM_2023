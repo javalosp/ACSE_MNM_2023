{
 "cells": [
  {
   "cell_type": "code",
   "execution_count": 2,
   "metadata": {},
   "outputs": [
    {
     "data": {
      "text/html": [
       "<style>\n",
       "div.optional {\n",
       "    display: block;\n",
       "    background-color: #d7e2ff;\n",
       "    border-color: #d7e2ff;\n",
       "    border-left: 5px solid #d7e2ff;\n",
       "    padding: 0.5em;\n",
       "}\n",
       "div.advanced {\n",
       "    display: block;\n",
       "    background-color: #fff4d7;\n",
       "    border-color: #fff4d7;\n",
       "    border-left: 5px solid #fff4d7;\n",
       "    padding: 0.5em;\n",
       "}\n",
       "div.extra {\n",
       "        background-color: #fff3d1;\n",
       "}\n",
       "</style>\n"
      ],
      "text/plain": [
       "<IPython.core.display.HTML object>"
      ]
     },
     "metadata": {},
     "output_type": "display_data"
    }
   ],
   "source": [
    "%%html\n",
    "<style>\n",
    "div.optional {\n",
    "    display: block;\n",
    "    background-color: #d7e2ff;\n",
    "    border-color: #d7e2ff;\n",
    "    border-left: 5px solid #d7e2ff;\n",
    "    padding: 0.5em;\n",
    "}\n",
    "div.advanced {\n",
    "    display: block;\n",
    "    background-color: #fff4d7;\n",
    "    border-color: #fff4d7;\n",
    "    border-left: 5px solid #fff4d7;\n",
    "    padding: 0.5em;\n",
    "}\n",
    "div.extra {\n",
    "        background-color: #fff3d1;\n",
    "}\n",
    "</style>\n"
   ]
  },
  {
   "cell_type": "code",
   "execution_count": 9,
   "metadata": {},
   "outputs": [
    {
     "name": "stdout",
     "output_type": "stream",
     "text": [
      "3.7.10\n"
     ]
    }
   ],
   "source": [
    "from platform import python_version\n",
    "\n",
    "print(python_version())"
   ]
  },
  {
   "cell_type": "code",
   "execution_count": 10,
   "metadata": {},
   "outputs": [
    {
     "name": "stdout",
     "output_type": "stream",
     "text": [
      "module://ipympl.backend_nbagg\n"
     ]
    }
   ],
   "source": [
    "import matplotlib\n",
    "print(matplotlib.get_backend())"
   ]
  },
  {
   "cell_type": "code",
   "execution_count": 11,
   "metadata": {},
   "outputs": [
    {
     "name": "stdout",
     "output_type": "stream",
     "text": [
      "Defaulting to user installation because normal site-packages is not writeable\n",
      "Requirement already satisfied: ipympl in /home/jea4117/.local/lib/python3.7/site-packages (0.9.3)\n",
      "Requirement already satisfied: ipython<9 in /usr/local/lib/python3.7/dist-packages (from ipympl) (7.12.0)\n",
      "Requirement already satisfied: numpy in /home/jea4117/.local/lib/python3.7/site-packages (from ipympl) (1.21.5)\n",
      "Requirement already satisfied: ipywidgets<9,>=7.6.0 in /home/jea4117/.local/lib/python3.7/site-packages (from ipympl) (8.0.7)\n",
      "Requirement already satisfied: traitlets<6 in /home/jea4117/.local/lib/python3.7/site-packages (from ipympl) (5.9.0)\n",
      "Requirement already satisfied: pillow in /usr/local/lib/python3.7/dist-packages (from ipympl) (7.0.0)\n",
      "Requirement already satisfied: ipython-genutils in /usr/local/lib/python3.7/dist-packages (from ipympl) (0.2.0)\n",
      "Requirement already satisfied: matplotlib<4,>=3.4.0 in /home/jea4117/.local/lib/python3.7/site-packages (from ipympl) (3.5.1)\n",
      "Requirement already satisfied: setuptools>=18.5 in /home/jea4117/.local/lib/python3.7/site-packages (from ipython<9->ipympl) (59.5.0)\n",
      "Requirement already satisfied: decorator in /usr/lib/python3/dist-packages (from ipython<9->ipympl) (4.0.6)\n",
      "Requirement already satisfied: prompt-toolkit!=3.0.0,!=3.0.1,<3.1.0,>=2.0.0 in /usr/local/lib/python3.7/dist-packages (from ipython<9->ipympl) (3.0.3)\n",
      "Requirement already satisfied: pygments in /usr/local/lib/python3.7/dist-packages (from ipython<9->ipympl) (2.10.0)\n",
      "Requirement already satisfied: pexpect in /usr/local/lib/python3.7/dist-packages (from ipython<9->ipympl) (4.8.0)\n",
      "Requirement already satisfied: pickleshare in /usr/local/lib/python3.7/dist-packages (from ipython<9->ipympl) (0.7.5)\n",
      "Requirement already satisfied: backcall in /usr/local/lib/python3.7/dist-packages (from ipython<9->ipympl) (0.1.0)\n",
      "Requirement already satisfied: jedi>=0.10 in /usr/local/lib/python3.7/dist-packages (from ipython<9->ipympl) (0.16.0)\n",
      "Requirement already satisfied: ipykernel>=4.5.1 in /usr/local/lib/python3.7/dist-packages (from ipywidgets<9,>=7.6.0->ipympl) (5.1.4)\n",
      "Requirement already satisfied: widgetsnbextension~=4.0.7 in /home/jea4117/.local/lib/python3.7/site-packages (from ipywidgets<9,>=7.6.0->ipympl) (4.0.8)\n",
      "Requirement already satisfied: jupyterlab-widgets~=3.0.7 in /home/jea4117/.local/lib/python3.7/site-packages (from ipywidgets<9,>=7.6.0->ipympl) (3.0.8)\n",
      "Requirement already satisfied: jupyter-client in /home/jea4117/.local/lib/python3.7/site-packages (from ipykernel>=4.5.1->ipywidgets<9,>=7.6.0->ipympl) (7.4.9)\n",
      "Requirement already satisfied: tornado>=4.2 in /home/jea4117/.local/lib/python3.7/site-packages (from ipykernel>=4.5.1->ipywidgets<9,>=7.6.0->ipympl) (6.2)\n",
      "Requirement already satisfied: parso>=0.5.2 in /usr/local/lib/python3.7/dist-packages (from jedi>=0.10->ipython<9->ipympl) (0.6.2)\n",
      "Requirement already satisfied: packaging>=20.0 in /home/jea4117/.local/lib/python3.7/site-packages (from matplotlib<4,>=3.4.0->ipympl) (21.3)\n",
      "Requirement already satisfied: kiwisolver>=1.0.1 in /usr/local/lib/python3.7/dist-packages (from matplotlib<4,>=3.4.0->ipympl) (1.1.0)\n",
      "Requirement already satisfied: fonttools>=4.22.0 in /home/jea4117/.local/lib/python3.7/site-packages (from matplotlib<4,>=3.4.0->ipympl) (4.29.1)\n",
      "Requirement already satisfied: cycler>=0.10 in /usr/local/lib/python3.7/dist-packages (from matplotlib<4,>=3.4.0->ipympl) (0.10.0)\n",
      "Requirement already satisfied: pyparsing>=2.2.1 in /home/jea4117/.local/lib/python3.7/site-packages (from matplotlib<4,>=3.4.0->ipympl) (3.0.7)\n",
      "Requirement already satisfied: python-dateutil>=2.7 in /home/jea4117/.local/lib/python3.7/site-packages (from matplotlib<4,>=3.4.0->ipympl) (2.8.2)\n",
      "Requirement already satisfied: six in /home/jea4117/.local/lib/python3.7/site-packages (from cycler>=0.10->matplotlib<4,>=3.4.0->ipympl) (1.13.0)\n",
      "Requirement already satisfied: wcwidth in /usr/local/lib/python3.7/dist-packages (from prompt-toolkit!=3.0.0,!=3.0.1,<3.1.0,>=2.0.0->ipython<9->ipympl) (0.1.8)\n",
      "Requirement already satisfied: jupyter-core>=4.9.2 in /home/jea4117/.local/lib/python3.7/site-packages (from jupyter-client->ipykernel>=4.5.1->ipywidgets<9,>=7.6.0->ipympl) (4.12.0)\n",
      "Requirement already satisfied: nest-asyncio>=1.5.4 in /home/jea4117/.local/lib/python3.7/site-packages (from jupyter-client->ipykernel>=4.5.1->ipywidgets<9,>=7.6.0->ipympl) (1.5.6)\n",
      "Requirement already satisfied: entrypoints in /usr/local/lib/python3.7/dist-packages (from jupyter-client->ipykernel>=4.5.1->ipywidgets<9,>=7.6.0->ipympl) (0.3)\n",
      "Requirement already satisfied: pyzmq>=23.0 in /home/jea4117/.local/lib/python3.7/site-packages (from jupyter-client->ipykernel>=4.5.1->ipywidgets<9,>=7.6.0->ipympl) (24.0.1)\n",
      "Requirement already satisfied: ptyprocess>=0.5 in /usr/lib/python3/dist-packages (from pexpect->ipython<9->ipympl) (0.5)\n",
      "\u001b[33mWARNING: You are using pip version 21.1.1; however, version 23.2.1 is available.\n",
      "You should consider upgrading via the '/usr/bin/python3 -m pip install --upgrade pip' command.\u001b[0m\n"
     ]
    }
   ],
   "source": [
    "!pip install ipympl"
   ]
  },
  {
   "cell_type": "code",
   "execution_count": null,
   "metadata": {},
   "outputs": [],
   "source": []
  },
  {
   "cell_type": "code",
   "execution_count": 16,
   "metadata": {
    "scrolled": false
   },
   "outputs": [],
   "source": [
    "%matplotlib inline\n",
    "import numpy as np\n",
    "import scipy.linalg as sl\n",
    "# we'll start using sparse matrices here\n",
    "import scipy.sparse as sp\n",
    "# and linear algebra functions designed for sparse matrices\n",
    "import scipy.sparse.linalg as spla\n",
    "import matplotlib.pyplot as plt\n",
    "from pprint import pprint\n",
    "# the following allows us to plot triangles indicating convergence order\n",
    "#from mpltools import annotation\n",
    "# Sympy for symbols rendering\n",
    "import sympy as sy\n",
    "\n",
    "import os\n",
    "\n",
    "\n",
    "from IPython.display import display\n",
    "from ipywidgets import widgets as ipywidgets\n",
    "from matplotlib import cm\n",
    "from matplotlib import widgets as mpl_widgets\n",
    "\n",
    "# font sizes for plots\n",
    "#plt.rcParams['font.size'] = 12\n",
    "#plt.rcParams['font.family'] = 'sans-serif'\n",
    "#plt.rcParams['font.sans-serif'] = ['Arial', 'Dejavu Sans']"
   ]
  },
  {
   "cell_type": "markdown",
   "metadata": {
    "slideshow": {
     "slide_type": "slide"
    }
   },
   "source": [
    "# Modelling and Numerical Methods  <a class=\"tocSkip\">\n",
    "    \n",
    "## Lecture 4  <a class=\"tocSkip\">\n",
    "\n",
    "## Conservation Equations and Rheology <a class=\"tocSkip\">\n",
    "    \n",
    "    \n",
    "\n"
   ]
  },
  {
   "cell_type": "markdown",
   "metadata": {
    "toc": true
   },
   "source": [
    "<h1>Table of Contents<span class=\"tocSkip\"></span></h1>\n",
    "<div class=\"toc\"><ul class=\"toc-item\"><li><span><a href=\"#Differentiation-(or-taking-a-derivative)---the-continuous-definition\" data-toc-modified-id=\"Differentiation-(or-taking-a-derivative)---the-continuous-definition-1\"><span class=\"toc-item-num\">1&nbsp;&nbsp;</span>Differentiation (or taking a derivative) - the continuous definition</a></span></li><li><span><a href=\"#Finite-differences\" data-toc-modified-id=\"Finite-differences-2\"><span class=\"toc-item-num\">2&nbsp;&nbsp;</span>Finite differences</a></span><ul class=\"toc-item\"><li><span><a href=\"#The-forward-difference\" data-toc-modified-id=\"The-forward-difference-2.1\"><span class=\"toc-item-num\">2.1&nbsp;&nbsp;</span>The forward difference</a></span></li><li><span><a href=\"#Taylor-series-to-estimate-accuracy\" data-toc-modified-id=\"Taylor-series-to-estimate-accuracy-2.2\"><span class=\"toc-item-num\">2.2&nbsp;&nbsp;</span>Taylor series to estimate accuracy</a></span><ul class=\"toc-item\"><li><span><a href=\"#Taylor-series-example-[from-previous-lecture]\" data-toc-modified-id=\"Taylor-series-example-[from-previous-lecture]-2.2.1\"><span class=\"toc-item-num\">2.2.1&nbsp;&nbsp;</span>Taylor series example [from previous lecture]</a></span></li><li><span><a href=\"#Order-of-convergence---higher-generally-better\" data-toc-modified-id=\"Order-of-convergence---higher-generally-better-2.2.2\"><span class=\"toc-item-num\">2.2.2&nbsp;&nbsp;</span>Order of convergence - higher generally better</a></span></li></ul></li><li><span><a href=\"#The-backward-difference\" data-toc-modified-id=\"The-backward-difference-2.3\"><span class=\"toc-item-num\">2.3&nbsp;&nbsp;</span>The backward difference</a></span></li><li><span><a href=\"#The-central-difference\" data-toc-modified-id=\"The-central-difference-2.4\"><span class=\"toc-item-num\">2.4&nbsp;&nbsp;</span>The central difference</a></span></li><li><span><a href=\"#Example:-Write-a-function-to-perform-numerical-differentiation\" data-toc-modified-id=\"Example:-Write-a-function-to-perform-numerical-differentiation-2.5\"><span class=\"toc-item-num\">2.5&nbsp;&nbsp;</span>Example: Write a function to perform numerical differentiation</a></span></li><li><span><a href=\"#Example:-Compute-the-derivative-of-$\\sin(x)$\" data-toc-modified-id=\"Example:-Compute-the-derivative-of-$\\sin(x)$-2.6\"><span class=\"toc-item-num\">2.6&nbsp;&nbsp;</span>Example: Compute the derivative of $\\sin(x)$</a></span></li><li><span><a href=\"#How-small-(or-large)-can-$\\Delta-x$-go?\" data-toc-modified-id=\"How-small-(or-large)-can-$\\Delta-x$-go?-2.7\"><span class=\"toc-item-num\">2.7&nbsp;&nbsp;</span>How small (or large) can $\\Delta x$ go?</a></span><ul class=\"toc-item\"><li><span><a href=\"#Observations\" data-toc-modified-id=\"Observations-2.7.1\"><span class=\"toc-item-num\">2.7.1&nbsp;&nbsp;</span>Observations</a></span></li></ul></li><li><span><a href=\"#Approximating-second-derivatives\" data-toc-modified-id=\"Approximating-second-derivatives-2.8\"><span class=\"toc-item-num\">2.8&nbsp;&nbsp;</span>Approximating second derivatives</a></span></li></ul></li><li><span><a href=\"#Introduction-to-BVPs\" data-toc-modified-id=\"Introduction-to-BVPs-3\"><span class=\"toc-item-num\">3&nbsp;&nbsp;</span>Introduction to BVPs</a></span><ul class=\"toc-item\"><li><span><a href=\"#Problem-non-dimensionalisation\" data-toc-modified-id=\"Problem-non-dimensionalisation-3.1\"><span class=\"toc-item-num\">3.1&nbsp;&nbsp;</span>Problem non-dimensionalisation</a></span></li><li><span><a href=\"#Model-problem---BVP:-steady-state-advection-diffusion\" data-toc-modified-id=\"Model-problem---BVP:-steady-state-advection-diffusion-3.2\"><span class=\"toc-item-num\">3.2&nbsp;&nbsp;</span>Model problem - BVP: steady-state advection-diffusion</a></span><ul class=\"toc-item\"><li><span><a href=\"#Observations\" data-toc-modified-id=\"Observations-3.2.1\"><span class=\"toc-item-num\">3.2.1&nbsp;&nbsp;</span>Observations</a></span></li></ul></li><li><span><a href=\"#Methods-for-solving-BVPs\" data-toc-modified-id=\"Methods-for-solving-BVPs-3.3\"><span class=\"toc-item-num\">3.3&nbsp;&nbsp;</span>Methods for solving BVPs</a></span></li><li><span><a href=\"#Defining-a-grid-(or-mesh)\" data-toc-modified-id=\"Defining-a-grid-(or-mesh)-3.4\"><span class=\"toc-item-num\">3.4&nbsp;&nbsp;</span>Defining a grid (or mesh)</a></span></li><li><span><a href=\"#Dealing-with-Dirichlet-boundary-conditions\" data-toc-modified-id=\"Dealing-with-Dirichlet-boundary-conditions-3.5\"><span class=\"toc-item-num\">3.5&nbsp;&nbsp;</span>Dealing with Dirichlet boundary conditions</a></span></li><li><span><a href=\"#Solving-the-diffusion-equation\" data-toc-modified-id=\"Solving-the-diffusion-equation-3.6\"><span class=\"toc-item-num\">3.6&nbsp;&nbsp;</span>Solving the diffusion equation</a></span><ul class=\"toc-item\"><li><span><a href=\"#Observations\" data-toc-modified-id=\"Observations-3.6.1\"><span class=\"toc-item-num\">3.6.1&nbsp;&nbsp;</span>Observations</a></span></li></ul></li></ul></li><li><span><a href=\"#The-time-independent-(steady)-advection-diffusion-problem\" data-toc-modified-id=\"The-time-independent-(steady)-advection-diffusion-problem-4\"><span class=\"toc-item-num\">4&nbsp;&nbsp;</span>The time-independent (steady) advection-diffusion problem</a></span><ul class=\"toc-item\"><li><span><a href=\"#Discretisation-choices-for-advection-and-diffusion\" data-toc-modified-id=\"Discretisation-choices-for-advection-and-diffusion-4.1\"><span class=\"toc-item-num\">4.1&nbsp;&nbsp;</span>Discretisation choices for advection and diffusion</a></span><ul class=\"toc-item\"><li><span><a href=\"#Observations\" data-toc-modified-id=\"Observations-4.1.1\"><span class=\"toc-item-num\">4.1.1&nbsp;&nbsp;</span>Observations</a></span></li><li><span><a href=\"#More-observations\" data-toc-modified-id=\"More-observations-4.1.2\"><span class=\"toc-item-num\">4.1.2&nbsp;&nbsp;</span>More observations</a></span></li></ul></li><li><span><a href=\"#Upwind-for-advection\" data-toc-modified-id=\"Upwind-for-advection-4.2\"><span class=\"toc-item-num\">4.2&nbsp;&nbsp;</span>Upwind for advection</a></span><ul class=\"toc-item\"><li><span><a href=\"#Observations\" data-toc-modified-id=\"Observations-4.2.1\"><span class=\"toc-item-num\">4.2.1&nbsp;&nbsp;</span>Observations</a></span></li></ul></li><li><span><a href=\"#Analysis-of-the-upwind-scheme-[$\\star$]\" data-toc-modified-id=\"Analysis-of-the-upwind-scheme-[$\\star$]-4.3\"><span class=\"toc-item-num\">4.3&nbsp;&nbsp;</span>Analysis of the upwind scheme [$\\star$]</a></span></li><li><span><a href=\"#Practicalities!\" data-toc-modified-id=\"Practicalities!-4.4\"><span class=\"toc-item-num\">4.4&nbsp;&nbsp;</span>Practicalities!</a></span></li></ul></li><li><span><a href=\"#The-time-dependent-(unsteady)-advection-diffusion-problem\" data-toc-modified-id=\"The-time-dependent-(unsteady)-advection-diffusion-problem-5\"><span class=\"toc-item-num\">5&nbsp;&nbsp;</span>The time-dependent (unsteady) advection-diffusion problem</a></span><ul class=\"toc-item\"><li><span><a href=\"#The-equation-in-higher-spatial-dimensions-[$\\star$]\" data-toc-modified-id=\"The-equation-in-higher-spatial-dimensions-[$\\star$]-5.1\"><span class=\"toc-item-num\">5.1&nbsp;&nbsp;</span>The equation in higher spatial dimensions [$\\star$]</a></span></li><li><span><a href=\"#Non-dimensionalisation\" data-toc-modified-id=\"Non-dimensionalisation-5.2\"><span class=\"toc-item-num\">5.2&nbsp;&nbsp;</span>Non-dimensionalisation</a></span></li><li><span><a href=\"#The-Method-of-Lines\" data-toc-modified-id=\"The-Method-of-Lines-5.3\"><span class=\"toc-item-num\">5.3&nbsp;&nbsp;</span>The Method of Lines</a></span><ul class=\"toc-item\"><li><span><a href=\"#Defining-a-spatial-grid\" data-toc-modified-id=\"Defining-a-spatial-grid-5.3.1\"><span class=\"toc-item-num\">5.3.1&nbsp;&nbsp;</span>Defining a spatial grid</a></span></li></ul></li><li><span><a href=\"#Discretising-in-space\" data-toc-modified-id=\"Discretising-in-space-5.4\"><span class=\"toc-item-num\">5.4&nbsp;&nbsp;</span>Discretising in space</a></span><ul class=\"toc-item\"><li><span><a href=\"#Including-Dirichlet-boundary-conditions\" data-toc-modified-id=\"Including-Dirichlet-boundary-conditions-5.4.1\"><span class=\"toc-item-num\">5.4.1&nbsp;&nbsp;</span>Including Dirichlet boundary conditions</a></span></li><li><span><a href=\"#The-initial-condition\" data-toc-modified-id=\"The-initial-condition-5.4.2\"><span class=\"toc-item-num\">5.4.2&nbsp;&nbsp;</span>The initial condition</a></span></li><li><span><a href=\"#The-(semi-)-discretised-system\" data-toc-modified-id=\"The-(semi-)-discretised-system-5.4.3\"><span class=\"toc-item-num\">5.4.3&nbsp;&nbsp;</span>The (semi-) discretised system</a></span></li></ul></li><li><span><a href=\"#The-semi-disrete-matrix-system\" data-toc-modified-id=\"The-semi-disrete-matrix-system-5.5\"><span class=\"toc-item-num\">5.5&nbsp;&nbsp;</span>The semi-disrete matrix system</a></span></li><li><span><a href=\"#Discretising-in-time\" data-toc-modified-id=\"Discretising-in-time-5.6\"><span class=\"toc-item-num\">5.6&nbsp;&nbsp;</span>Discretising in time</a></span><ul class=\"toc-item\"><li><span><a href=\"#Forward-Euler\" data-toc-modified-id=\"Forward-Euler-5.6.1\"><span class=\"toc-item-num\">5.6.1&nbsp;&nbsp;</span>Forward Euler</a></span></li><li><span><a href=\"#Observations\" data-toc-modified-id=\"Observations-5.6.2\"><span class=\"toc-item-num\">5.6.2&nbsp;&nbsp;</span>Observations</a></span></li></ul></li><li><span><a href=\"#Example---advection-diffusion-of-a-Gaussian\" data-toc-modified-id=\"Example---advection-diffusion-of-a-Gaussian-5.7\"><span class=\"toc-item-num\">5.7&nbsp;&nbsp;</span>Example - advection-diffusion of a Gaussian</a></span><ul class=\"toc-item\"><li><span><a href=\"#Observations\" data-toc-modified-id=\"Observations-5.7.1\"><span class=\"toc-item-num\">5.7.1&nbsp;&nbsp;</span>Observations</a></span></li></ul></li><li><span><a href=\"#Periodic-boundaries\" data-toc-modified-id=\"Periodic-boundaries-5.8\"><span class=\"toc-item-num\">5.8&nbsp;&nbsp;</span>Periodic boundaries</a></span><ul class=\"toc-item\"><li><span><a href=\"#Comments\" data-toc-modified-id=\"Comments-5.8.1\"><span class=\"toc-item-num\">5.8.1&nbsp;&nbsp;</span>Comments</a></span></li></ul></li></ul></li><li><span><a href=\"#Stability-considerations-(a-summary)\" data-toc-modified-id=\"Stability-considerations-(a-summary)-6\"><span class=\"toc-item-num\">6&nbsp;&nbsp;</span>Stability considerations (a summary)</a></span><ul class=\"toc-item\"><li><span><a href=\"#Cell-Peclet-number\" data-toc-modified-id=\"Cell-Peclet-number-6.1\"><span class=\"toc-item-num\">6.1&nbsp;&nbsp;</span>Cell Peclet number</a></span></li><li><span><a href=\"#The-Courant-number-and-the-CFL-condition\" data-toc-modified-id=\"The-Courant-number-and-the-CFL-condition-6.2\"><span class=\"toc-item-num\">6.2&nbsp;&nbsp;</span>The Courant number and the CFL condition</a></span></li><li><span><a href=\"#The-CFL-condition---a-physical-interpretation-[$\\star$]\" data-toc-modified-id=\"The-CFL-condition---a-physical-interpretation-[$\\star$]-6.3\"><span class=\"toc-item-num\">6.3&nbsp;&nbsp;</span>The CFL condition - a physical interpretation [$\\star$]</a></span></li><li><span><a href=\"#The-r-number/parameter-for-diffusion\" data-toc-modified-id=\"The-r-number/parameter-for-diffusion-6.4\"><span class=\"toc-item-num\">6.4&nbsp;&nbsp;</span>The r-number/parameter for diffusion</a></span></li><li><span><a href=\"#Other-time-stepping-options\" data-toc-modified-id=\"Other-time-stepping-options-6.5\"><span class=\"toc-item-num\">6.5&nbsp;&nbsp;</span>Other time stepping options</a></span></li></ul></li><li><span><a href=\"#Final-comments\" data-toc-modified-id=\"Final-comments-7\"><span class=\"toc-item-num\">7&nbsp;&nbsp;</span>Final comments</a></span></li></ul></div>"
   ]
  },
  {
   "cell_type": "markdown",
   "metadata": {
    "slideshow": {
     "slide_type": "slide"
    }
   },
   "source": [
    "## Outline: <a class=\"tocSkip\">\n",
    "    \n",
    "\n",
    "    \n",
    "* Conservation equations\n",
    "* Energy equation\n",
    "* Constitutive equations: Rheology\n",
    "* Elasticity and Wave Equation\n",
    "* Newtonian Viscosity and Navier Stokes"
   ]
  },
  {
   "cell_type": "markdown",
   "metadata": {},
   "source": [
    "## Learning Objectives  <a class=\"tocSkip\">\n",
    "\n",
    "    \n",
    "\n",
    "* Learn main conservation equations used in continuum mechanics modelling and understand what different terms in these equations represent\n",
    "* Be able to solve conservation equations for basic analytical solutions given boundary/initial conditions.\n",
    "* Understand basic properties of elastic and viscous rheology and understand how the choice of rheology leads to different forms of the momentum conservation equation\n",
    "* Using tensor analysis to obtain relations between the main isotropic elastic parameters\n"
   ]
  },
  {
   "cell_type": "markdown",
   "metadata": {
    "slideshow": {
     "slide_type": "slide"
    }
   },
   "source": [
    "## Continuum Mechanics Equations\n",
    "\n",
    "\n",
    "### General:\n",
    "\n",
    "\n",
    "1. <span style=\"color:gray\">*Kinematics* – describing deformation and velocity without considering forces</span>\n",
    "2. <span style=\"color:gray\">*Dynamics* – equations that describe force balance, conservation of linear and angular momentum</span>\n",
    "3. <span style=\"color:gray\">*Thermodynamics* – relations temperature, heatflux, stress, entropy</span>\n",
    "\n",
    "\n",
    "### Material-specific\n",
    "\n",
    "\n",
    "4. Constitutive equations – relations describing how material properties vary as a function of T,P, stress,.... Such material properties govern dynamics (e.g., **density**), response to stress (**viscosity, elastic parameters**), heat transport (**thermal conductivity, heat capacity**)"
   ]
  },
  {
   "cell_type": "markdown",
   "metadata": {},
   "source": [
    "## Thermal parameters\n",
    "\n",
    "<br>\n",
    "<br>\n",
    "\n",
    "<center>\n",
    "Can you name 4 material parameters that affect temperatures\n",
    "or how material responds to changes in temperature\n",
    "</center>\n",
    "\n",
    "<br>\n",
    "<br>\n",
    "<br>\n",
    "\n",
    "<center><em>\n",
    "Each of these may depend on $T$, $P$, phase, composition,...\n",
    "</em></center>"
   ]
  },
  {
   "cell_type": "markdown",
   "metadata": {
    "slideshow": {
     "slide_type": "subslide"
    }
   },
   "source": [
    "## Thermal parameters\n",
    "\n",
    "<br>\n",
    "\n",
    "$\\mathbf{k}$ - thermal conductivity ($W/m/K$)\n",
    "\n",
    "$\\mathbf{A}$ - heat production ($W/m^3$ )\n",
    "\n",
    "$\\mathbf{C_P}$ - heat capacity (specific heat) at constant pressure ($J/kg/K$)\n",
    "\n",
    "$\\mathbf{\\alpha}$ - thermal expansion coefficient ($1/K$)\n",
    "\n",
    "$$\\mathbf{\\alpha} = \\frac{1}{V} \\left( \\frac{\\partial V}{\\partial T} \\right)_P = \\frac{1}{\\rho}\\left( \\frac{\\partial \\rho}{\\partial T} \\right)_P$$\n",
    "\n",
    "$\\mathbf{\\kappa}$ - thermal diffusivity $k/\\rho/C_P (m^2/s)$\n",
    "<br>\n",
    "\n",
    "<center><em>\n",
    "Each of these may depend on $T$, $P$, phase, composition,...\n",
    "</em></center>\n"
   ]
  },
  {
   "cell_type": "markdown",
   "metadata": {
    "slideshow": {
     "slide_type": "subslide"
    }
   },
   "source": [
    "## Learning Objectives  <a class=\"tocSkip\">\n",
    "\n",
    "    \n",
    "\n",
    "* <span style=\"color:gray\">Learn main conservation equations used in continuum mechanics modelling and understand what different terms in these equations represent</span>\n",
    "* <span style=\"color:gray\">Be able to solve conservation equations for basic analytical solutions given boundary/initial conditions.</span>\n",
    "* Understand basic properties of elastic and viscous rheology and understand how the choice of rheology leads to different forms of the momentum conservation equation\n",
    "* Using tensor analysis to obtain relations between the main isotropic elastic parameters"
   ]
  },
  {
   "cell_type": "markdown",
   "metadata": {
    "slideshow": {
     "slide_type": "subslide"
    }
   },
   "source": [
    "## Rheology\n",
    "\n",
    "$$\n",
    "\\boxed{\\text{deformation } (\\boldsymbol{\\varepsilon}) = \\text{reology} \\cdot \\text{stress }(\\boldsymbol{\\sigma})}\n",
    "$$\n",
    "\n",
    "<br>\n",
    "\n",
    "<center>\n",
    "    material response to stress, depends on material, $P$, $T$, time, deformation history, environment (volatiles,\n",
    "water)\n",
    "    <br>\n",
    "    <br>\n",
    "    - elastic $\\qquad$ - viscous $\\qquad$ - brittle $\\qquad$ - plastic $\\qquad$\n",
    "</center>\n",
    "\n",
    "\n",
    "* experiments under simple stress conditions\n",
    "\n",
    "    $\\Rightarrow$ strain evolution under constant stress, stress-strain rate diagrams\n",
    "<br>\n",
    "\n",
    "* thermodynamics + experimental parameters\n",
    "<br>\n",
    "\n",
    "* ab-initio calculations\n",
    "\n"
   ]
  },
  {
   "cell_type": "markdown",
   "metadata": {
    "slideshow": {
     "slide_type": "subslide"
    }
   },
   "source": [
    "## Recap Fluid - Solid\n",
    "\n",
    "\n",
    "* What is a solid?\n",
    "\n",
    "\n",
    "<span style=\"color:blue\">A solid acquires finite deformation under stress  $\\rightarrow \\text{stress } \\sigma \\sim \\text{strain } \\varepsilon$ </span>\n",
    "\n",
    "\n",
    "* What is a fluid?\n",
    "\n",
    "\n",
    "<span style=\"color:blue\">A material that flows in response to applied stress $\\rightarrow \\text{stress } \\sigma \\sim \\text{strain rate } D$ </span>\n",
    "\n",
    "\n",
    "<img src=\"figures/Fluid-Solid.png\" style=\"width: 600px\">"
   ]
  },
  {
   "cell_type": "markdown",
   "metadata": {
    "slideshow": {
     "slide_type": "subslide"
    }
   },
   "source": [
    "## Elasticity\n",
    "\n",
    "\n",
    "\n",
    "* linear response to load applied\n",
    "* instantaneous\n",
    "* completely recoverable\n",
    "* below threshold (yielding) stress\n",
    "\n",
    "<img src=\"figures/Elasticity_1.png\" style=\"width: 200px\">\n",
    "\n",
    "* *dominates behaviour of coldest part of tectonic plates on time scales of up to $100 m.y. \\Rightarrow$ fault loading*\n",
    "* *on time scale of seismic waves, the whole Earth is elastic*\n",
    "\n",
    "<img src=\"figures/Elasticity_2.png\" style=\"width: 200px\">\n",
    "\n",
    "* $\\sigma_{ij} = C_{ijkl} \\varepsilon_{kl}$ - Hooke's law\n",
    "\n",
    "  $C_{ijkl}$ - rank 4 elasticity tensor\n",
    "  \n",
    "  $3^4$ elements, up to $21$ independent"
   ]
  },
  {
   "cell_type": "markdown",
   "metadata": {},
   "source": [
    "## Elasticity tensor\n",
    "\n",
    "\n",
    "\n",
    "$$C_{ijkl} \\qquad 3^4 = 81 \\text{ elements (for n=3)}$$\n",
    "\n",
    "\n",
    "* symmetry of s $\\sigma_{ij}$ and $\\varepsilon_{kl}$\n",
    "\n",
    "    $\\Rightarrow$ only 36 independent elements\n",
    "$$\\require{color}$$\n",
    "$$\\color{gray}{P = \\boldsymbol{\\sigma :}\\mathbf{D} \\approx \\boldsymbol{\\sigma}: \\frac{D \\boldsymbol{\\varepsilon}}{D t} = \\frac{D U}{D t}}$$\n",
    "\n",
    "\n",
    "* conservation of elastic energy $U = \\boldsymbol{\\sigma}:\\varepsilon = \\mathbf{C}:\\varepsilon:\\varepsilon \\geq 0$\n",
    "\n",
    "    $\\Rightarrow C_{ijkl} = C_{klij}$\n",
    "    \n",
    "    $\\Rightarrow$ only 21 independent elements - most general form of $\\mathbf{C}$\n",
    "\n",
    "\n",
    "* other symmetries further reduce the number of independent elements\n"
   ]
  },
  {
   "cell_type": "markdown",
   "metadata": {},
   "source": [
    "## Elasticity tensor\n",
    "\n",
    "\n",
    "For example, for isotropic media only 2 independent elements $(\\lambda, \\mu) \\qquad\\qquad\\qquad\\qquad$      <em><span style=\"color:blue\">What is isotropic?</span></em>:\n",
    "\n",
    "\n",
    "$$\n",
    "\\begin{align}\n",
    "\\sigma_{ij} &= \\lambda \\delta_{ij}\\delta_{kl}\\varepsilon{kl} + \\alpha \\delta_{ik}\\delta_{jl}\\varepsilon_{kl} + \\beta \\delta_{il}\\delta_{jk}\\varepsilon_{kl} \\qquad \\text{3 isotropic rank 4 tensors: } \\delta_{ij}\\delta_{kl}, \\delta_{ik}\\delta_{jl}, \\delta_{il}\\delta_{jk} \\\\\n",
    " &= \\lambda \\delta{ij} \\varepsilon_{kk} + \\alpha \\varepsilon_{ij} + \\beta \\varepsilon_{ji} \\\\\n",
    " &= \\lambda \\delta_{ij} \\theta + (\\alpha + \\beta)\\varepsilon_{ij}\n",
    "\\end{align}\n",
    "$$\n",
    "\n",
    "\n",
    "$$\n",
    "\\Rightarrow \\sigma_{ij} = \\lambda \\theta \\delta_{ij} + 2 \\mu \\varepsilon_{ij}\n",
    "$$\n",
    "\n",
    "\n"
   ]
  },
  {
   "cell_type": "markdown",
   "metadata": {},
   "source": [
    "## Hooke's law for isotropic material: 2 independent coefficients\n",
    "\n",
    "\n",
    "\n",
    "* *Lamé constants*\n",
    "\n",
    "    $\\boldsymbol{\\lambda} \\text{  and  } \\boldsymbol{\\mu}$: \n",
    "    $$\\sigma{ij} = \\lambda \\varepsilon_{kk} \\delta_{ij} + 2 \\mu \\varepsilon_{ij}$$\n",
    "<br>\n",
    "\n",
    "* *Bulk and shear modulus*\n",
    "\n",
    "    $\\mathbf{K} \\text{  and  } \\mathbf{G}$: \n",
    "    $$\n",
    "    \\begin{align}\n",
    "    -p &= K \\theta \\quad \\text{isotropic} \\qquad -p = \\frac{\\sigma_{kk}}{3}, \\ \\theta = \\varepsilon_{kk} \\\\\n",
    "    \\sigma_{ij}' &= G \\varepsilon_{ij}' \\quad \\text{deviatoric}\n",
    "    \\end{align}\n",
    "    $$\n",
    "<br>\n",
    "\n",
    "\n",
    "<center>\n",
    "    <span style=\"color:blue\">Determine relation to Lamé constants in Exercise 5</span>\n",
    "</center>\n",
    "\n",
    "* *Young's modulus and Poisson's ratio*\n",
    "\n",
    "    $\\mathbf{E} \\text{  and  } \\boldsymbol{\\nu}$: \n",
    "    $$E = \\frac{\\sigma_{11}}{\\varepsilon_{11}}, \\ \\nu = \\frac{\\sigma_{33}}{\\varepsilon_{11}} \\quad \\text{uniaxial stress}$$\n",
    "    \n",
    "    \n",
    "<center>\n",
    "    <span style=\"color:cyan\">Determine in optional Exercise 6</span>\n",
    "</center>"
   ]
  },
  {
   "cell_type": "markdown",
   "metadata": {},
   "source": [
    "## Wave equation\n",
    "\n",
    "\n",
    "For infinitesimal deformation:\n",
    "\n",
    "spatial coordinates $\\approx$ material coordinates\n",
    "\n",
    "\n",
    "$$\\nu_i \\text{ (spatial)} \\approx \\frac{\\partial u_i}{\\partial t}$$\n",
    "\n",
    "$$a_i \\text{ (spatial)} \\approx \\frac{\\partial \\nu_i}{\\partial t} = \\frac{d u_i}{d t}$$\n",
    "\n",
    "\n",
    "Equation of motion: \n",
    "\n",
    "$$f_i + \\frac{\\partial \\sigma_{ij}}{\\partial x_j} = \\rho\\frac{\\partial^2 u_{i}}{\\partial t^2} \\qquad (1)$$\n",
    "\n",
    "\n",
    "Elastic rheology: \n",
    "\n",
    "$$\\sigma_{ij} = \\lambda \\varepsilon_{kk} \\delta_{ij} + 2 \\mu \\varepsilon_{ij} \\qquad (2)$$\n",
    "\n",
    "\n",
    "Substitute $(2)$ in $(1)$ if (infinitesimal) deformation is consequence of force balance"
   ]
  },
  {
   "cell_type": "markdown",
   "metadata": {},
   "source": [
    "## Wave equation\n",
    "\n",
    "\n",
    "\n",
    "Equation of motion: \n",
    "\n",
    "$$f_i + \\frac{\\partial \\sigma_{ij}}{\\partial x_j} = \\rho\\frac{\\partial^2 u_{i}}{\\partial t^2}$$\n",
    "\n",
    "\n",
    "Elastic rheology: \n",
    "\n",
    "$$\\sigma_{ij} = \\lambda \\varepsilon_{kk} \\delta_{ij} + 2 \\mu \\varepsilon_{ij}$$\n",
    "\n",
    "\n",
    "$$\\require{color}$$\n",
    "$$\n",
    "\\begin{align}\n",
    "\\frac{\\partial \\sigma_{ij}}{\\partial x_j} &= \\lambda \\frac{\\partial \\varepsilon_{kk}}{\\partial x_i} + \\mu \\frac{\\partial \\left( \\frac{\\partial u_i}{\\partial x_j} + \\frac{\\partial u_j}{\\partial x_i} \\right)}{\\partial x_j} \\\\\n",
    " &= \\lambda \\frac{\\partial \\left( \\frac{\\partial u_k}{\\partial x_k} \\right)}{\\partial x_i} + \\mu  \\frac{\\partial^2 u_i}{\\partial x_j^2} + \\mu \\frac{\\partial \\left( \\frac{\\partial u_j}{\\partial x_j} \\right)}{\\partial x_i} \\\\\n",
    " \\nabla \\cdot \\boldsymbol{\\sigma} &= \\color{blue}{\\text{Write vector equation (see notebook)}}\n",
    "\\end{align}\n",
    "$$\n",
    "\n",
    "<br>\n",
    "\n",
    "$$\n",
    "\\color{gray}{\\frac{\\partial u_k}{\\partial x_k} = \\frac{\\partial u_j}{\\partial x_j} = \\nabla \\cdot \\mathbf{u}, \\qquad \\frac{\\partial^2}{\\partial_j^2} = \\nabla^2}\n",
    "$$\n",
    "\n"
   ]
  },
  {
   "cell_type": "markdown",
   "metadata": {},
   "source": [
    "## Wave equation\n",
    "\n",
    "\n",
    "\n",
    "Equation of motion: \n",
    "\n",
    "$$f_i + \\frac{\\partial \\sigma_{ij}}{\\partial x_j} = \\rho\\frac{\\partial^2 u_{i}}{\\partial t^2}$$\n",
    "\n",
    "\n",
    "Elastic rheology: \n",
    "\n",
    "$$\\sigma_{ij} = \\lambda \\varepsilon_{kk} \\delta_{ij} + 2 \\mu \\varepsilon_{ij}$$\n",
    "\n",
    "\n",
    "$$\\require{color}$$\n",
    "$$\n",
    "\\begin{align}\n",
    "\\frac{\\partial \\sigma_{ij}}{\\partial x_j} &= \\lambda \\frac{\\partial \\varepsilon_{kk}}{\\partial x_i} + \\mu \\frac{\\partial \\left( \\frac{\\partial u_i}{\\partial x_j} + \\frac{\\partial u_j}{\\partial x_i} \\right)}{\\partial x_j} \\\\\n",
    " &= \\lambda \\frac{\\partial \\left( \\frac{\\partial u_k}{\\partial x_k} \\right)}{\\partial x_i} + \\mu  \\frac{\\partial^2 u_i}{\\partial x_j^2} + \\mu \\frac{\\partial \\left( \\frac{\\partial u_j}{\\partial x_j} \\right)}{\\partial x_i} \\\\\n",
    " \\nabla \\cdot \\boldsymbol{\\sigma} &= (\\lambda + \\mu)\\nabla(\\nabla \\cdot \\mathbf{u}) + \\mu \\nabla^2 \\mathbf{u}\n",
    "\\end{align}\n",
    "\\text{Using:   } \\nabla^2 \\mathbf{u} = \\nabla(\\nabla \\cdot \\mathbf{u}) - \\nabla \\times \\nabla \\times \\mathbf{u}\n",
    "$$\n",
    "\n",
    "\n",
    "$$\n",
    "\\Rightarrow \\boxed{\\rho \\frac{\\partial^2 \\mathbf{u}}{\\partial t} = \\mathbf{f} + \\underbrace{(\\lambda + 2\\mu)\\nabla (\\nabla \\cdot \\mathbf{u}) - \\mu \\nabla \\times \\nabla \\times \\mathbf{u}}_{\\color{blue}{\\text{what type of deformation do the two terms represent?}}}}\n",
    "$$\n",
    "\n",
    "\n"
   ]
  },
  {
   "cell_type": "markdown",
   "metadata": {},
   "source": [
    "## Wave equation\n",
    "\n",
    "\n",
    "\n",
    "Equation of motion: \n",
    "\n",
    "$$f_i + \\frac{\\partial \\sigma_{ij}}{\\partial x_j} = \\rho\\frac{\\partial^2 u_{i}}{\\partial t^2}$$\n",
    "\n",
    "\n",
    "Elastic rheology: \n",
    "\n",
    "$$\\sigma_{ij} = \\lambda \\varepsilon_{kk} \\delta_{ij} + 2 \\mu \\varepsilon_{ij}$$\n",
    "\n",
    "\n",
    "$$\\require{color}$$\n",
    "$$\n",
    "\\begin{align}\n",
    "\\frac{\\partial \\sigma_{ij}}{\\partial x_j} &= \\lambda \\frac{\\partial \\varepsilon_{kk}}{\\partial x_i} + \\mu \\frac{\\partial \\left( \\frac{\\partial u_i}{\\partial x_j} + \\frac{\\partial u_j}{\\partial x_i} \\right)}{\\partial x_j} \\\\\n",
    " &= \\lambda \\frac{\\partial \\left( \\frac{\\partial u_k}{\\partial x_k} \\right)}{\\partial x_i} + \\mu  \\frac{\\partial^2 u_i}{\\partial x_j^2} + \\mu \\frac{\\partial \\left( \\frac{\\partial u_j}{\\partial x_j} \\right)}{\\partial x_i} \\\\\n",
    " \\nabla \\cdot \\boldsymbol{\\sigma} &= (\\lambda + \\mu)\\nabla(\\nabla \\cdot \\mathbf{u}) + \\mu \\nabla^2 \\mathbf{u}\n",
    "\\end{align}\n",
    "\\text{Using:   } \\nabla^2 \\mathbf{u} = \\nabla(\\nabla \\cdot \\mathbf{u}) - \\nabla \\times \\nabla \\times \\mathbf{u}\n",
    "$$\n",
    "\n",
    "\n",
    "$$\n",
    "\\Rightarrow \\boxed{\\rho \\frac{\\partial^2 \\mathbf{u}}{\\partial t} = \\mathbf{f} + \\underbrace{(\\lambda + 2\\mu)\\nabla (\\nabla \\cdot \\mathbf{u})}_{\\text{compressional}} - \\underbrace{\\mu \\nabla \\times \\nabla \\times \\mathbf{u}}_{\\text{shear}}}\n",
    "$$\n"
   ]
  },
  {
   "cell_type": "markdown",
   "metadata": {},
   "source": [
    "## P wave\n",
    "\n",
    "\n",
    "<img src=\"figures/P_wave.png\" style=\"width: 800px\">\n",
    "\n",
    "\n",
    "## S wave\n",
    "\n",
    "\n",
    "<img src=\"figures/S_wave.png\" style=\"width: 800px\">"
   ]
  },
  {
   "cell_type": "markdown",
   "metadata": {},
   "source": [
    "## Recap Fluid - Solid\n",
    "\n",
    "\n",
    "* What is a solid?\n",
    "\n",
    "\n",
    "<span style=\"color:blue\">A solid acquires finite deformation under stress  $\\rightarrow \\text{stress } \\sigma \\sim \\text{strain } \\varepsilon$ </span>\n",
    "\n",
    "\n",
    "* What is a fluid?\n",
    "\n",
    "\n",
    "<span style=\"color:blue\">A material that flows in response to applied stress $\\rightarrow \\text{stress } \\sigma \\sim \\text{strain rate } D$ </span>\n",
    "\n",
    "\n",
    "<img src=\"figures/Fluid-Solid.png\" style=\"width: 600px\">"
   ]
  },
  {
   "cell_type": "markdown",
   "metadata": {},
   "source": [
    "## Viscous Flow\n",
    "\n",
    "\n",
    "\n",
    "* steady state flow at constant stress\n",
    "* permanent deformation\n",
    "* linear (Newtonian) or non-linear (e.g., Powerlaw) relation between strain rate and stress\n",
    "* isotropic stress does not cause flow\n",
    "\n",
    "<img src=\"figures/Viscous_flow_1.png\" style=\"width: 200px\">\n",
    "\n",
    "* *on timescales > years base tectonic plates and mantle deform predominantly viscously -> plate motions, postseismic deformation, but also glaciers, magmas*\n",
    "\n",
    "<img src=\"figures/Viscous_flow_2.png\" style=\"width: 200px\">\n",
    "\n"
   ]
  },
  {
   "cell_type": "markdown",
   "metadata": {},
   "source": [
    "## Hydrostatics\n",
    "\n",
    "\n",
    "\n",
    "Fluids can not support shear stresses\n",
    "\n",
    "\n",
    "i.e. if in rest/rigid body motion: $\\boldsymbol{\\sigma} \\cdot \\hat{\\mathbf{n}} = \\lambda \\hat{\\mathbf{n}}$\n",
    "\n",
    "and this normal stress is the same on any plane: $\\boldsymbol{\\sigma} = - p \\mathbf{I}$\n",
    "\n",
    "$p$ is hydrostatic pressure\n",
    "\n",
    "\n",
    "In force balance: \n",
    "\n",
    "$$\n",
    "\\begin{align}\n",
    "\\nabla \\cdot \\boldsymbol{\\sigma} + \\mathbf{f} &= 0 \\\\\n",
    "- \\nabla p &= - mathbf{f}\n",
    "\\end{align}\n",
    "$$\n",
    "\n",
    "In gravity field\n",
    "\n",
    "\n",
    "$$\n",
    "\\begin{align}\n",
    "\\frac{\\partial p}{\\partial z} = \\rho g \\quad \\Rightarrow \\quad p_2 - p_1 &= \\rho g h \\\\\n",
    " \\text{where  } h &= z_2 - z_1\n",
    "\\end{align}\n",
    "$$"
   ]
  },
  {
   "cell_type": "markdown",
   "metadata": {},
   "source": [
    "## Newtonian Fluids\n",
    "\n",
    "\n",
    "In general motion:\n",
    "\n",
    "$$ \\boldsymbol{\\sigma} = -p \\mathbf{I} + \\boldsymbol{\\sigma}'$$\n",
    "\n",
    "\n",
    "In Newtonian fluids, deviatoric stress varies ***linearly*** with ***strain rate***, $\\mathbf{D}$\n",
    "\n",
    "\n",
    "$$\n",
    "D_{ij} = \\frac{\\left( \\frac{\\partial \\nu_i}{\\partial x_j} + \\frac{\\partial \\nu_j}{\\partial x_i} \\right)}{2}\n",
    "$$\n",
    "\n",
    "\n",
    "For *isotropic*, Newtonian fluids, 2 *material parameters*:\n",
    "\n",
    "\n",
    "Viscous stress tensor \n",
    "\n",
    "$$ \\sigma_{ij}' = \\zeta D_{kk} \\delta_{ij} + 2 \\eta D_{ij}$$\n",
    "\n",
    "\n",
    "where $\\zeta$ is ***bulk viscosity*** and $\\eta$ ***(shear) viscosity***, $\\Delta = D_{kk} = \\nabla \\cdot \\pmb{v}$\n",
    "\n",
    "\n",
    "$$\n",
    "\\boldsymbol{\\sigma} = \\left( -p + \\zeta \\Delta \\right) \\mathbf{I} + 2 \\eta \\mathbf{D}\n",
    "$$\n",
    "\n",
    "$p$ not always mean normal stress:  $\\sigma_{kk} = -3p + \\left( 3 \\zeta + 2 \\eta \\right) D_{kk}$"
   ]
  },
  {
   "cell_type": "markdown",
   "metadata": {},
   "source": [
    "<center>Consider a Newtonian shear flow with velocity field $v_1 (x_2 ), v_2 =v_3 =0$</center>\n",
    "\n",
    "\n",
    "<br>\n",
    "\n",
    "<center><span style=\"color:blue\">What is $\\mathbf{D}$? What is $\\sigma$ ?</span></center>\n",
    "\n",
    "<br>\n",
    "<br>\n",
    "\n",
    "<center><strong><span style=\"color:blue\">Exercise 7</span></strong></center>\n",
    "\n",
    "<br>\n",
    "\n",
    "<center>Illustrates that $\\eta$ represents resistance to shearing</center>"
   ]
  },
  {
   "cell_type": "markdown",
   "metadata": {},
   "source": [
    "## Navier-Stokes for incompressible Newtonian Flow\n",
    "\n",
    "\n",
    "\n",
    "For incompressible fluids $\\Delta = 0$, so that: $\\boldsymbol{\\sigma} = − p\\mathbf{I} + 2 \\eta \\mathbf{D}$\n",
    "\n",
    "Force balance:\n",
    "\n",
    "$$\\nabla \\cdot \\boldsymbol{\\sigma} + \\mathbf{f} = \\rho \\frac{D \\pmb{v}}{D t}$$\n",
    "\n",
    "\n",
    "<span style=\"color:blue\">Show that:</span>\n",
    "\n",
    "\n",
    "$$\n",
    "\\frac{\\partial \\sigma_{ij}}{\\partial x_j} = - \\frac{\\partial p}{\\partial x_i} + \\eta \\frac{\\partial^2 v_i}{\\partial x_j \\partial x_j} \\qquad \\text{Assuming constant } \\eta\n",
    "$$\n",
    "\n",
    "<br>\n",
    "\n",
    "<br>\n",
    "\n",
    "<br>\n",
    "\n",
    "<br>\n",
    "\n",
    "<br>\n",
    "\n",
    "<br>\n",
    "\n",
    "\n",
    "$$\n",
    "\\nabla \\cdot \\boldsymbol{\\sigma} = -\\nabla p + \\eta \\nabla^2 \\pmb{v}\n",
    "$$"
   ]
  },
  {
   "cell_type": "markdown",
   "metadata": {},
   "source": [
    "## Navier-Stokes for incompressible Newtonian Flow\n",
    "\n",
    "\n",
    "\n",
    "For incompressible fluids $\\Delta = 0$, so that: $\\boldsymbol{\\sigma} = − p\\mathbf{I} + 2 \\eta \\mathbf{D}$\n",
    "\n",
    "Force balance:\n",
    "\n",
    "$$\\nabla \\cdot \\boldsymbol{\\sigma} + \\mathbf{f} = \\rho \\frac{D \\pmb{v}}{D t}$$\n",
    "\n",
    "\n",
    "<span style=\"color:blue\">Show that:</span>\n",
    "\n",
    "\n",
    "$$\n",
    "\\frac{\\partial \\sigma_{ij}}{\\partial x_j} = - \\frac{\\partial p}{\\partial x_i} + \\eta \\frac{\\partial^2 v_i}{\\partial x_j \\partial x_j} \\qquad \\text{Assuming constant } \\eta\n",
    "$$\n",
    "\n",
    "\n",
    "$$\n",
    "\\sigma_{ij} = -p \\delta_{ij} + \\eta \\left( \\frac{\\partial v_i}{x_j} + \\frac{\\partial v_j}{x_i} \\right)\n",
    "$$\n",
    "\n",
    "\n",
    "$$\\require{cancel}$$\n",
    "$$\n",
    "\\frac{\\partial \\sigma_{ij}}{\\partial x_j} = - \\frac{\\partial p}{\\partial x_i} + \\eta \\left( \\frac{\\partial^2 v_i}{\\partial x_j \\partial x_i} + \\cancel{\\frac{\\partial^2 v_j}{\\partial x_i \\partial x_j}} \\right) \\qquad \\text{Because } \\frac{\\partial v_j}{x_i} = \\Delta = 0\n",
    "$$\n",
    "\n",
    "\n",
    "\n",
    "$$\n",
    "\\nabla \\cdot \\boldsymbol{\\sigma} = -\\nabla p + \\eta \\nabla^2 \\pmb{v}\n",
    "$$"
   ]
  },
  {
   "cell_type": "markdown",
   "metadata": {},
   "source": [
    "## Navier-Stokes for incompressible Newtonian Flow\n",
    "\n",
    "\n",
    "\n",
    "For incompressible fluids $\\Delta = 0$, so that: $\\boldsymbol{\\sigma} = − p\\mathbf{I} + 2 \\eta \\mathbf{D}$\n",
    "\n",
    "Force balance:\n",
    "\n",
    "$$\\nabla \\cdot \\boldsymbol{\\sigma} + \\mathbf{f} = \\rho \\frac{D \\pmb{v}}{D t}$$\n",
    "\n",
    "\n",
    "Navier Stokes equation of motion:\n",
    "\n",
    "\n",
    "$$\n",
    "-\\nabla p + \\eta \\nabla^2 \\pmb{v} + \\mathbf{f} = \\rho \\left( \\frac{\\partial \\pmb{v}}{\\partial t} + \\pmb{v} \\cdot \\nabla \\pmb{v} \\right)  \\qquad \\text{Assuming constant } \\eta\n",
    "$$\n",
    "\n",
    "\n",
    "$$\n",
    "\\sigma_{ij} = -p \\delta_{ij} + \\eta \\left( \\frac{\\partial v_i}{\\partial x_j} + \\frac{\\partial v_j}{\\partial x_i} \\right)\n",
    "$$\n",
    "\n",
    "\n",
    "\n",
    "Together with continuity, 4 equations, 4 unknowns $(p, v_x , v_y , v_z )$\n",
    "\n",
    "$$\n",
    "\\nabla \\cdot \\pmb{v} = 0\n",
    "$$\n"
   ]
  },
  {
   "cell_type": "markdown",
   "metadata": {},
   "source": [
    "## Navier-Stokes for incompressible Newtonian Flow\n",
    "\n",
    "\n",
    "\n",
    "For incompressible fluids $\\Delta = 0$, so that: $\\boldsymbol{\\sigma} = − p\\mathbf{I} + 2 \\eta \\mathbf{D}$\n",
    "\n",
    "Force balance:\n",
    "\n",
    "$$\\nabla \\cdot \\boldsymbol{\\sigma} + \\mathbf{f} = \\rho \\frac{D \\pmb{v}}{D t}$$\n",
    "\n",
    "\n",
    "Navier Stokes equation of motion:\n",
    "\n",
    "\n",
    "$$\n",
    "\\sigma_{ij} = -p \\delta_{ij} + \\zeta \\frac{\\partial v_k}{\\partial x_k} \\delta_{ij} + \\eta \\left( \\frac{\\partial v_i}{\\partial x_j} + \\frac{\\partial v_j}{\\partial x_i} \\right)  \\qquad \\text{Assuming constant } \\eta, \\zeta\n",
    "$$\n",
    "\n",
    "\n",
    "$$\n",
    "\\frac{\\partial \\sigma_{ij}}{\\partial x_j} = -\\frac{\\partial p}{\\partial x_i} + \\zeta \\frac{\\partial^2 v_j}{\\partial x_i \\partial x_j} + \\eta \\left( \\frac{\\partial^2 v_i}{\\partial x_j \\partial x_i} + \\frac{\\partial^2 v_j}{\\partial x_i \\partial x_j} \\right)\n",
    "$$\n",
    "\n",
    "\n",
    "$$\n",
    "\\frac{\\partial \\sigma_{ij}}{\\partial x_j} = -\\frac{\\partial p}{\\partial x_i} + \\left( \\zeta + \\eta \\right) \\frac{\\partial}{\\partial x_i} \\frac{\\partial v_j}{\\partial x_j} + \\eta  \\frac{\\partial^2 v_i}{\\partial x_j \\partial x_i}\n",
    "$$\n",
    "\n",
    "\n",
    "\n",
    "\n",
    "$$\n",
    "\\nabla \\cdot \\boldsymbol{\\sigma} = -\\nabla p + (\\zeta + \\eta)\\nabla (\\nabla \\cdot \\pmb{v}) + \\eta \\nabla^2 \\pmb{v}\n",
    "$$\n"
   ]
  },
  {
   "cell_type": "markdown",
   "metadata": {},
   "source": [
    "## Navier-Stokes for compressible Newtonian Flow\n",
    "\n",
    "\n",
    "\n",
    "$$\n",
    "\\boldsymbol{\\sigma} = \\left( -p + \\zeta \\Delta \\right) \\mathbf{I} + 2 \\eta \\mathbf{D}\n",
    "\\qquad\n",
    "\\nabla \\cdot \\boldsymbol{\\sigma} + \\mathbf{f} = \\rho \\frac{D \\pmb{v}}{D t}\n",
    "$$\n",
    "\n",
    "\n",
    "\n",
    "Navier Stokes equation of motion:\n",
    "\n",
    "\n",
    "$$\n",
    "-\\nabla p + (\\zeta + \\eta)\\nabla \\Delta + \\eta \\nabla^2 \\pmb{v} + \\mathbf{f} = \\rho \\left( \\frac{\\partial \\pmb{v}}{\\partial t} + \\pmb{v} \\cdot \\nabla \\pmb{v} \\right)  \\qquad \\text{Assuming constant } \\zeta, \\eta\n",
    "$$\n",
    "\n",
    "\n",
    "$+$ Conservation of mass:\n",
    "\n",
    "$$\n",
    "\\frac{D \\rho}{D t} + \\rho \\nabla \\cdot \\pmb{v} = 0\n",
    "$$\n",
    "\n",
    "\n",
    "$+$ Energy equation\n",
    "\n",
    "\n",
    "$+$ Equation of state for $\\rho(T, p)$\n",
    "\n",
    "<center>\n",
    "    6 equations<br>\n",
    "    6 unknowns<br>\n",
    "    $$(p, v_x, v_y, v_z, \\rho, T)$$\n",
    "</center>"
   ]
  },
  {
   "cell_type": "markdown",
   "metadata": {},
   "source": [
    "## Continuum Mechanics Equations\n",
    "\n",
    "\n",
    "### General:\n",
    "\n",
    "\n",
    "1. *Kinematics* – describing deformation and velocity without considering forces\n",
    "2. *Dynamics* – equations that describe force balance, conservation of linear and angular momentum\n",
    "3. *Thermodynamics* – relations temperature, heatflux, stress, entropy\n",
    "\n",
    "\n",
    "### Material-specific\n",
    "\n",
    "\n",
    "4. Constitutive equations – relations describing how material properties vary as a function of T,P, stress,.... Such material properties govern dynamics (e.g., **density**), response to stress (**viscosity, elastic parameters**), heat transport (**thermal conductivity, heat capacity**)"
   ]
  },
  {
   "cell_type": "markdown",
   "metadata": {},
   "source": [
    "## Learning Objectives\n",
    "\n",
    "\n",
    "* Learn main conservation equations used in continuum mechanics modelling and understand what different terms in these equations represent\n",
    "\n",
    "* Be able to solve conservation equations for basic analytical solutions given boundary/initial conditions.\n",
    "\n",
    "* Understand basic properties of elastic and viscous rheology and understand how the choice of rheology leads to different forms of the momentum conservation equation\n",
    "\n",
    "* Using tensor analysis to obtain relations between the main isotropic elastic parameters"
   ]
  },
  {
   "cell_type": "markdown",
   "metadata": {},
   "source": [
    "## Outline\n",
    "\n",
    "\n",
    "\n",
    "* Conservation equations\n",
    "* Energy equation\n",
    "* Rheology\n",
    "* Elasticity and Wave Equation\n",
    "* Newtonian Viscosity and Navier Stokes\n",
    "\n",
    "<em><span style=\"color:green\">More reading on the topics covered in this lecture can be found in, for example: Lai et al. Ch 4.14-4-16, 6.18, Ch 5.1-5.6, Ch 6.1-6.7; Reddy parts of Ch 5 & Ch 6</span></em>\n"
   ]
  },
  {
   "cell_type": "markdown",
   "metadata": {},
   "source": [
    "<h3><center><span style=\"color:blue\">Try yourself</span></center></h3>\n",
    "\n",
    "<center>For this part of the lecture, first try <strong><span style=\"color:blue\">Exercise 5 </span></strong> and  <strong><span style=\"color:blue\">7 </span></strong> in <em>chapter4.ipynb</em>\n",
    "<br>\n",
    "    <br>\n",
    "Then complete any remaining exercises in <em>chapter4.ipynb</em>:\n",
    "</center>\n",
    "\n",
    "\n",
    "<center><strong><span style=\"color:blue\">Exercise Exercise 1, 2, 3, 4, 5, 7, 8</span></strong></center>\n",
    "<br>\n",
    "<center>Additional practise: <strong><span style=\"color:green\">in the text</span></strong></center>\n",
    "<br>\n",
    "<center>Advanced practise: <strong><span style=\"color:orange\">Exercise 6</span></strong></center>"
   ]
  },
  {
   "cell_type": "markdown",
   "metadata": {},
   "source": [
    "## Coursework 1\n",
    "\n",
    "\n",
    "* In-class test, pen-paper, not open book.\n",
    "* Wednesday 25 January 10:00-11:30\n",
    "* Will be based on analytical content of all lectures, in particular lectures 1-5\n",
    "* Understand material covered in lectures and slides, practise class exercises (with answers)\n",
    "* Study guide released next week"
   ]
  },
  {
   "cell_type": "markdown",
   "metadata": {},
   "source": [
    "## Outline of course\n",
    "\n",
    "* *Part 1: Analytical background*\n",
    "    1. <span style=\"color:gray\">Intro vector/tensor calculus (SG)</span>\n",
    "    2. <span style=\"color:gray\">Stress tensor (SG)</span>\n",
    "    3. <span style=\"color:gray\">Kinematics and strain (SG)</span>\n",
    "    4. <span style=\"color:gray\">Conservation equations (SG)</span>\n",
    "    5. Dimensional Analysis (SN)\n",
    "\n",
    "<br> \n",
    "\n",
    "* *Part 2: Numerical techniques (advanced)*\n",
    "    6. Interpolation and quadrature (MP)\n",
    "    7. Ordinary differential equations (MP)\n",
    "    8. Partial differential equations and finite difference (MP)\n",
    "\n",
    "<br>\n",
    "   \n",
    "* *Part 3: Numerical solutions*\n",
    "    9. Potential flow (SN)\n",
    "    10. Navier-Stokes (SN)\n",
    "    11. Nonlinear rheology and turbulence (SN)\n",
    "    12. Finite Element Method (MP)"
   ]
  },
  {
   "cell_type": "code",
   "execution_count": null,
   "metadata": {},
   "outputs": [],
   "source": []
  }
 ],
 "metadata": {
  "celltoolbar": "Slideshow",
  "kernelspec": {
   "display_name": "Python 3",
   "language": "python",
   "name": "python3"
  },
  "language_info": {
   "codemirror_mode": {
    "name": "ipython",
    "version": 3
   },
   "file_extension": ".py",
   "mimetype": "text/x-python",
   "name": "python",
   "nbconvert_exporter": "python",
   "pygments_lexer": "ipython3",
   "version": "3.7.10"
  },
  "latex_envs": {
   "LaTeX_envs_menu_present": true,
   "autoclose": false,
   "autocomplete": true,
   "bibliofile": "biblio.bib",
   "cite_by": "apalike",
   "current_citInitial": 1,
   "eqLabelWithNumbers": true,
   "eqNumInitial": 1,
   "hotkeys": {
    "equation": "Ctrl-E",
    "itemize": "Ctrl-I"
   },
   "labels_anchors": false,
   "latex_user_defs": false,
   "report_style_numbering": false,
   "user_envs_cfg": false
  },
  "toc": {
   "base_numbering": 1,
   "nav_menu": {},
   "number_sections": true,
   "sideBar": true,
   "skip_h1_title": false,
   "title_cell": "Table of Contents",
   "title_sidebar": "Contents",
   "toc_cell": true,
   "toc_position": {},
   "toc_section_display": true,
   "toc_window_display": false
  }
 },
 "nbformat": 4,
 "nbformat_minor": 1
}
