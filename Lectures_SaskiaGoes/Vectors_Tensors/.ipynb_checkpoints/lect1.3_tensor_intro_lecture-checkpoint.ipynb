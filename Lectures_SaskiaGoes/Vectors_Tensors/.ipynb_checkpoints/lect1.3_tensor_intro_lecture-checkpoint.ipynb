{
 "cells": [
  {
   "cell_type": "code",
   "execution_count": 8,
   "metadata": {},
   "outputs": [
    {
     "data": {
      "text/html": [
       "<style>\n",
       "div.optional {\n",
       "    display: block;\n",
       "    background-color: #d7e2ff;\n",
       "    border-color: #d7e2ff;\n",
       "    border-left: 5px solid #d7e2ff;\n",
       "    padding: 0.5em;\n",
       "}\n",
       "div.advanced {\n",
       "    display: block;\n",
       "    background-color: #fff4d7;\n",
       "    border-color: #fff4d7;\n",
       "    border-left: 5px solid #fff4d7;\n",
       "    padding: 0.5em;\n",
       "}\n",
       "</style>\n"
      ],
      "text/plain": [
       "<IPython.core.display.HTML object>"
      ]
     },
     "metadata": {},
     "output_type": "display_data"
    }
   ],
   "source": [
    "%%html\n",
    "<style>\n",
    "div.optional {\n",
    "    display: block;\n",
    "    background-color: #d7e2ff;\n",
    "    border-color: #d7e2ff;\n",
    "    border-left: 5px solid #d7e2ff;\n",
    "    padding: 0.5em;\n",
    "}\n",
    "div.advanced {\n",
    "    display: block;\n",
    "    background-color: #fff4d7;\n",
    "    border-color: #fff4d7;\n",
    "    border-left: 5px solid #fff4d7;\n",
    "    padding: 0.5em;\n",
    "}\n",
    "</style>"
   ]
  },
  {
   "cell_type": "code",
   "execution_count": 9,
   "metadata": {},
   "outputs": [
    {
     "name": "stdout",
     "output_type": "stream",
     "text": [
      "3.7.10\n"
     ]
    }
   ],
   "source": [
    "from platform import python_version\n",
    "\n",
    "print(python_version())"
   ]
  },
  {
   "cell_type": "code",
   "execution_count": 10,
   "metadata": {},
   "outputs": [
    {
     "name": "stdout",
     "output_type": "stream",
     "text": [
      "module://ipympl.backend_nbagg\n"
     ]
    }
   ],
   "source": [
    "import matplotlib\n",
    "print(matplotlib.get_backend())"
   ]
  },
  {
   "cell_type": "code",
   "execution_count": 11,
   "metadata": {},
   "outputs": [
    {
     "name": "stdout",
     "output_type": "stream",
     "text": [
      "Defaulting to user installation because normal site-packages is not writeable\n",
      "Requirement already satisfied: ipympl in /home/jea4117/.local/lib/python3.7/site-packages (0.9.3)\n",
      "Requirement already satisfied: ipython<9 in /usr/local/lib/python3.7/dist-packages (from ipympl) (7.12.0)\n",
      "Requirement already satisfied: numpy in /home/jea4117/.local/lib/python3.7/site-packages (from ipympl) (1.21.5)\n",
      "Requirement already satisfied: ipywidgets<9,>=7.6.0 in /home/jea4117/.local/lib/python3.7/site-packages (from ipympl) (8.0.7)\n",
      "Requirement already satisfied: traitlets<6 in /home/jea4117/.local/lib/python3.7/site-packages (from ipympl) (5.9.0)\n",
      "Requirement already satisfied: pillow in /usr/local/lib/python3.7/dist-packages (from ipympl) (7.0.0)\n",
      "Requirement already satisfied: ipython-genutils in /usr/local/lib/python3.7/dist-packages (from ipympl) (0.2.0)\n",
      "Requirement already satisfied: matplotlib<4,>=3.4.0 in /home/jea4117/.local/lib/python3.7/site-packages (from ipympl) (3.5.1)\n",
      "Requirement already satisfied: setuptools>=18.5 in /home/jea4117/.local/lib/python3.7/site-packages (from ipython<9->ipympl) (59.5.0)\n",
      "Requirement already satisfied: decorator in /usr/lib/python3/dist-packages (from ipython<9->ipympl) (4.0.6)\n",
      "Requirement already satisfied: prompt-toolkit!=3.0.0,!=3.0.1,<3.1.0,>=2.0.0 in /usr/local/lib/python3.7/dist-packages (from ipython<9->ipympl) (3.0.3)\n",
      "Requirement already satisfied: pygments in /usr/local/lib/python3.7/dist-packages (from ipython<9->ipympl) (2.10.0)\n",
      "Requirement already satisfied: pexpect in /usr/local/lib/python3.7/dist-packages (from ipython<9->ipympl) (4.8.0)\n",
      "Requirement already satisfied: pickleshare in /usr/local/lib/python3.7/dist-packages (from ipython<9->ipympl) (0.7.5)\n",
      "Requirement already satisfied: backcall in /usr/local/lib/python3.7/dist-packages (from ipython<9->ipympl) (0.1.0)\n",
      "Requirement already satisfied: jedi>=0.10 in /usr/local/lib/python3.7/dist-packages (from ipython<9->ipympl) (0.16.0)\n",
      "Requirement already satisfied: ipykernel>=4.5.1 in /usr/local/lib/python3.7/dist-packages (from ipywidgets<9,>=7.6.0->ipympl) (5.1.4)\n",
      "Requirement already satisfied: widgetsnbextension~=4.0.7 in /home/jea4117/.local/lib/python3.7/site-packages (from ipywidgets<9,>=7.6.0->ipympl) (4.0.8)\n",
      "Requirement already satisfied: jupyterlab-widgets~=3.0.7 in /home/jea4117/.local/lib/python3.7/site-packages (from ipywidgets<9,>=7.6.0->ipympl) (3.0.8)\n",
      "Requirement already satisfied: jupyter-client in /home/jea4117/.local/lib/python3.7/site-packages (from ipykernel>=4.5.1->ipywidgets<9,>=7.6.0->ipympl) (7.4.9)\n",
      "Requirement already satisfied: tornado>=4.2 in /home/jea4117/.local/lib/python3.7/site-packages (from ipykernel>=4.5.1->ipywidgets<9,>=7.6.0->ipympl) (6.2)\n",
      "Requirement already satisfied: parso>=0.5.2 in /usr/local/lib/python3.7/dist-packages (from jedi>=0.10->ipython<9->ipympl) (0.6.2)\n",
      "Requirement already satisfied: packaging>=20.0 in /home/jea4117/.local/lib/python3.7/site-packages (from matplotlib<4,>=3.4.0->ipympl) (21.3)\n",
      "Requirement already satisfied: kiwisolver>=1.0.1 in /usr/local/lib/python3.7/dist-packages (from matplotlib<4,>=3.4.0->ipympl) (1.1.0)\n",
      "Requirement already satisfied: fonttools>=4.22.0 in /home/jea4117/.local/lib/python3.7/site-packages (from matplotlib<4,>=3.4.0->ipympl) (4.29.1)\n",
      "Requirement already satisfied: cycler>=0.10 in /usr/local/lib/python3.7/dist-packages (from matplotlib<4,>=3.4.0->ipympl) (0.10.0)\n",
      "Requirement already satisfied: pyparsing>=2.2.1 in /home/jea4117/.local/lib/python3.7/site-packages (from matplotlib<4,>=3.4.0->ipympl) (3.0.7)\n",
      "Requirement already satisfied: python-dateutil>=2.7 in /home/jea4117/.local/lib/python3.7/site-packages (from matplotlib<4,>=3.4.0->ipympl) (2.8.2)\n",
      "Requirement already satisfied: six in /home/jea4117/.local/lib/python3.7/site-packages (from cycler>=0.10->matplotlib<4,>=3.4.0->ipympl) (1.13.0)\n",
      "Requirement already satisfied: wcwidth in /usr/local/lib/python3.7/dist-packages (from prompt-toolkit!=3.0.0,!=3.0.1,<3.1.0,>=2.0.0->ipython<9->ipympl) (0.1.8)\n",
      "Requirement already satisfied: jupyter-core>=4.9.2 in /home/jea4117/.local/lib/python3.7/site-packages (from jupyter-client->ipykernel>=4.5.1->ipywidgets<9,>=7.6.0->ipympl) (4.12.0)\n",
      "Requirement already satisfied: nest-asyncio>=1.5.4 in /home/jea4117/.local/lib/python3.7/site-packages (from jupyter-client->ipykernel>=4.5.1->ipywidgets<9,>=7.6.0->ipympl) (1.5.6)\n",
      "Requirement already satisfied: entrypoints in /usr/local/lib/python3.7/dist-packages (from jupyter-client->ipykernel>=4.5.1->ipywidgets<9,>=7.6.0->ipympl) (0.3)\n",
      "Requirement already satisfied: pyzmq>=23.0 in /home/jea4117/.local/lib/python3.7/site-packages (from jupyter-client->ipykernel>=4.5.1->ipywidgets<9,>=7.6.0->ipympl) (24.0.1)\n",
      "Requirement already satisfied: ptyprocess>=0.5 in /usr/lib/python3/dist-packages (from pexpect->ipython<9->ipympl) (0.5)\n",
      "\u001b[33mWARNING: You are using pip version 21.1.1; however, version 23.2.1 is available.\n",
      "You should consider upgrading via the '/usr/bin/python3 -m pip install --upgrade pip' command.\u001b[0m\n"
     ]
    }
   ],
   "source": [
    "!pip install ipympl"
   ]
  },
  {
   "cell_type": "code",
   "execution_count": null,
   "metadata": {},
   "outputs": [],
   "source": []
  },
  {
   "cell_type": "code",
   "execution_count": 16,
   "metadata": {
    "scrolled": false
   },
   "outputs": [],
   "source": [
    "%matplotlib inline\n",
    "import numpy as np\n",
    "import scipy.linalg as sl\n",
    "# we'll start using sparse matrices here\n",
    "import scipy.sparse as sp\n",
    "# and linear algebra functions designed for sparse matrices\n",
    "import scipy.sparse.linalg as spla\n",
    "import matplotlib.pyplot as plt\n",
    "from pprint import pprint\n",
    "# the following allows us to plot triangles indicating convergence order\n",
    "#from mpltools import annotation\n",
    "# Sympy for symbols rendering\n",
    "import sympy as sy\n",
    "\n",
    "import os\n",
    "\n",
    "\n",
    "from IPython.display import display\n",
    "from ipywidgets import widgets as ipywidgets\n",
    "from matplotlib import cm\n",
    "from matplotlib import widgets as mpl_widgets\n",
    "\n",
    "# font sizes for plots\n",
    "#plt.rcParams['font.size'] = 12\n",
    "#plt.rcParams['font.family'] = 'sans-serif'\n",
    "#plt.rcParams['font.sans-serif'] = ['Arial', 'Dejavu Sans']"
   ]
  },
  {
   "cell_type": "markdown",
   "metadata": {
    "slideshow": {
     "slide_type": "slide"
    }
   },
   "source": [
    "# Modelling and Numerical Methods  <a class=\"tocSkip\">\n",
    "    \n",
    "## Part 1  <a class=\"tocSkip\">\n",
    "\n",
    "## Continuum mechanics and vector/tensor calculus <a class=\"tocSkip\">\n"
   ]
  },
  {
   "cell_type": "markdown",
   "metadata": {
    "toc": true
   },
   "source": [
    "<h1>Table of Contents<span class=\"tocSkip\"></span></h1>\n",
    "<div class=\"toc\"><ul class=\"toc-item\"><li><span><a href=\"#Differentiation-(or-taking-a-derivative)---the-continuous-definition\" data-toc-modified-id=\"Differentiation-(or-taking-a-derivative)---the-continuous-definition-1\"><span class=\"toc-item-num\">1&nbsp;&nbsp;</span>Differentiation (or taking a derivative) - the continuous definition</a></span></li><li><span><a href=\"#Finite-differences\" data-toc-modified-id=\"Finite-differences-2\"><span class=\"toc-item-num\">2&nbsp;&nbsp;</span>Finite differences</a></span><ul class=\"toc-item\"><li><span><a href=\"#The-forward-difference\" data-toc-modified-id=\"The-forward-difference-2.1\"><span class=\"toc-item-num\">2.1&nbsp;&nbsp;</span>The forward difference</a></span></li><li><span><a href=\"#Taylor-series-to-estimate-accuracy\" data-toc-modified-id=\"Taylor-series-to-estimate-accuracy-2.2\"><span class=\"toc-item-num\">2.2&nbsp;&nbsp;</span>Taylor series to estimate accuracy</a></span><ul class=\"toc-item\"><li><span><a href=\"#Taylor-series-example-[from-previous-lecture]\" data-toc-modified-id=\"Taylor-series-example-[from-previous-lecture]-2.2.1\"><span class=\"toc-item-num\">2.2.1&nbsp;&nbsp;</span>Taylor series example [from previous lecture]</a></span></li><li><span><a href=\"#Order-of-convergence---higher-generally-better\" data-toc-modified-id=\"Order-of-convergence---higher-generally-better-2.2.2\"><span class=\"toc-item-num\">2.2.2&nbsp;&nbsp;</span>Order of convergence - higher generally better</a></span></li></ul></li><li><span><a href=\"#The-backward-difference\" data-toc-modified-id=\"The-backward-difference-2.3\"><span class=\"toc-item-num\">2.3&nbsp;&nbsp;</span>The backward difference</a></span></li><li><span><a href=\"#The-central-difference\" data-toc-modified-id=\"The-central-difference-2.4\"><span class=\"toc-item-num\">2.4&nbsp;&nbsp;</span>The central difference</a></span></li><li><span><a href=\"#Example:-Write-a-function-to-perform-numerical-differentiation\" data-toc-modified-id=\"Example:-Write-a-function-to-perform-numerical-differentiation-2.5\"><span class=\"toc-item-num\">2.5&nbsp;&nbsp;</span>Example: Write a function to perform numerical differentiation</a></span></li><li><span><a href=\"#Example:-Compute-the-derivative-of-$\\sin(x)$\" data-toc-modified-id=\"Example:-Compute-the-derivative-of-$\\sin(x)$-2.6\"><span class=\"toc-item-num\">2.6&nbsp;&nbsp;</span>Example: Compute the derivative of $\\sin(x)$</a></span></li><li><span><a href=\"#How-small-(or-large)-can-$\\Delta-x$-go?\" data-toc-modified-id=\"How-small-(or-large)-can-$\\Delta-x$-go?-2.7\"><span class=\"toc-item-num\">2.7&nbsp;&nbsp;</span>How small (or large) can $\\Delta x$ go?</a></span><ul class=\"toc-item\"><li><span><a href=\"#Observations\" data-toc-modified-id=\"Observations-2.7.1\"><span class=\"toc-item-num\">2.7.1&nbsp;&nbsp;</span>Observations</a></span></li></ul></li><li><span><a href=\"#Approximating-second-derivatives\" data-toc-modified-id=\"Approximating-second-derivatives-2.8\"><span class=\"toc-item-num\">2.8&nbsp;&nbsp;</span>Approximating second derivatives</a></span></li></ul></li><li><span><a href=\"#Introduction-to-BVPs\" data-toc-modified-id=\"Introduction-to-BVPs-3\"><span class=\"toc-item-num\">3&nbsp;&nbsp;</span>Introduction to BVPs</a></span><ul class=\"toc-item\"><li><span><a href=\"#Problem-non-dimensionalisation\" data-toc-modified-id=\"Problem-non-dimensionalisation-3.1\"><span class=\"toc-item-num\">3.1&nbsp;&nbsp;</span>Problem non-dimensionalisation</a></span></li><li><span><a href=\"#Model-problem---BVP:-steady-state-advection-diffusion\" data-toc-modified-id=\"Model-problem---BVP:-steady-state-advection-diffusion-3.2\"><span class=\"toc-item-num\">3.2&nbsp;&nbsp;</span>Model problem - BVP: steady-state advection-diffusion</a></span><ul class=\"toc-item\"><li><span><a href=\"#Observations\" data-toc-modified-id=\"Observations-3.2.1\"><span class=\"toc-item-num\">3.2.1&nbsp;&nbsp;</span>Observations</a></span></li></ul></li><li><span><a href=\"#Methods-for-solving-BVPs\" data-toc-modified-id=\"Methods-for-solving-BVPs-3.3\"><span class=\"toc-item-num\">3.3&nbsp;&nbsp;</span>Methods for solving BVPs</a></span></li><li><span><a href=\"#Defining-a-grid-(or-mesh)\" data-toc-modified-id=\"Defining-a-grid-(or-mesh)-3.4\"><span class=\"toc-item-num\">3.4&nbsp;&nbsp;</span>Defining a grid (or mesh)</a></span></li><li><span><a href=\"#Dealing-with-Dirichlet-boundary-conditions\" data-toc-modified-id=\"Dealing-with-Dirichlet-boundary-conditions-3.5\"><span class=\"toc-item-num\">3.5&nbsp;&nbsp;</span>Dealing with Dirichlet boundary conditions</a></span></li><li><span><a href=\"#Solving-the-diffusion-equation\" data-toc-modified-id=\"Solving-the-diffusion-equation-3.6\"><span class=\"toc-item-num\">3.6&nbsp;&nbsp;</span>Solving the diffusion equation</a></span><ul class=\"toc-item\"><li><span><a href=\"#Observations\" data-toc-modified-id=\"Observations-3.6.1\"><span class=\"toc-item-num\">3.6.1&nbsp;&nbsp;</span>Observations</a></span></li></ul></li></ul></li><li><span><a href=\"#The-time-independent-(steady)-advection-diffusion-problem\" data-toc-modified-id=\"The-time-independent-(steady)-advection-diffusion-problem-4\"><span class=\"toc-item-num\">4&nbsp;&nbsp;</span>The time-independent (steady) advection-diffusion problem</a></span><ul class=\"toc-item\"><li><span><a href=\"#Discretisation-choices-for-advection-and-diffusion\" data-toc-modified-id=\"Discretisation-choices-for-advection-and-diffusion-4.1\"><span class=\"toc-item-num\">4.1&nbsp;&nbsp;</span>Discretisation choices for advection and diffusion</a></span><ul class=\"toc-item\"><li><span><a href=\"#Observations\" data-toc-modified-id=\"Observations-4.1.1\"><span class=\"toc-item-num\">4.1.1&nbsp;&nbsp;</span>Observations</a></span></li><li><span><a href=\"#More-observations\" data-toc-modified-id=\"More-observations-4.1.2\"><span class=\"toc-item-num\">4.1.2&nbsp;&nbsp;</span>More observations</a></span></li></ul></li><li><span><a href=\"#Upwind-for-advection\" data-toc-modified-id=\"Upwind-for-advection-4.2\"><span class=\"toc-item-num\">4.2&nbsp;&nbsp;</span>Upwind for advection</a></span><ul class=\"toc-item\"><li><span><a href=\"#Observations\" data-toc-modified-id=\"Observations-4.2.1\"><span class=\"toc-item-num\">4.2.1&nbsp;&nbsp;</span>Observations</a></span></li></ul></li><li><span><a href=\"#Analysis-of-the-upwind-scheme-[$\\star$]\" data-toc-modified-id=\"Analysis-of-the-upwind-scheme-[$\\star$]-4.3\"><span class=\"toc-item-num\">4.3&nbsp;&nbsp;</span>Analysis of the upwind scheme [$\\star$]</a></span></li><li><span><a href=\"#Practicalities!\" data-toc-modified-id=\"Practicalities!-4.4\"><span class=\"toc-item-num\">4.4&nbsp;&nbsp;</span>Practicalities!</a></span></li></ul></li><li><span><a href=\"#The-time-dependent-(unsteady)-advection-diffusion-problem\" data-toc-modified-id=\"The-time-dependent-(unsteady)-advection-diffusion-problem-5\"><span class=\"toc-item-num\">5&nbsp;&nbsp;</span>The time-dependent (unsteady) advection-diffusion problem</a></span><ul class=\"toc-item\"><li><span><a href=\"#The-equation-in-higher-spatial-dimensions-[$\\star$]\" data-toc-modified-id=\"The-equation-in-higher-spatial-dimensions-[$\\star$]-5.1\"><span class=\"toc-item-num\">5.1&nbsp;&nbsp;</span>The equation in higher spatial dimensions [$\\star$]</a></span></li><li><span><a href=\"#Non-dimensionalisation\" data-toc-modified-id=\"Non-dimensionalisation-5.2\"><span class=\"toc-item-num\">5.2&nbsp;&nbsp;</span>Non-dimensionalisation</a></span></li><li><span><a href=\"#The-Method-of-Lines\" data-toc-modified-id=\"The-Method-of-Lines-5.3\"><span class=\"toc-item-num\">5.3&nbsp;&nbsp;</span>The Method of Lines</a></span><ul class=\"toc-item\"><li><span><a href=\"#Defining-a-spatial-grid\" data-toc-modified-id=\"Defining-a-spatial-grid-5.3.1\"><span class=\"toc-item-num\">5.3.1&nbsp;&nbsp;</span>Defining a spatial grid</a></span></li></ul></li><li><span><a href=\"#Discretising-in-space\" data-toc-modified-id=\"Discretising-in-space-5.4\"><span class=\"toc-item-num\">5.4&nbsp;&nbsp;</span>Discretising in space</a></span><ul class=\"toc-item\"><li><span><a href=\"#Including-Dirichlet-boundary-conditions\" data-toc-modified-id=\"Including-Dirichlet-boundary-conditions-5.4.1\"><span class=\"toc-item-num\">5.4.1&nbsp;&nbsp;</span>Including Dirichlet boundary conditions</a></span></li><li><span><a href=\"#The-initial-condition\" data-toc-modified-id=\"The-initial-condition-5.4.2\"><span class=\"toc-item-num\">5.4.2&nbsp;&nbsp;</span>The initial condition</a></span></li><li><span><a href=\"#The-(semi-)-discretised-system\" data-toc-modified-id=\"The-(semi-)-discretised-system-5.4.3\"><span class=\"toc-item-num\">5.4.3&nbsp;&nbsp;</span>The (semi-) discretised system</a></span></li></ul></li><li><span><a href=\"#The-semi-disrete-matrix-system\" data-toc-modified-id=\"The-semi-disrete-matrix-system-5.5\"><span class=\"toc-item-num\">5.5&nbsp;&nbsp;</span>The semi-disrete matrix system</a></span></li><li><span><a href=\"#Discretising-in-time\" data-toc-modified-id=\"Discretising-in-time-5.6\"><span class=\"toc-item-num\">5.6&nbsp;&nbsp;</span>Discretising in time</a></span><ul class=\"toc-item\"><li><span><a href=\"#Forward-Euler\" data-toc-modified-id=\"Forward-Euler-5.6.1\"><span class=\"toc-item-num\">5.6.1&nbsp;&nbsp;</span>Forward Euler</a></span></li><li><span><a href=\"#Observations\" data-toc-modified-id=\"Observations-5.6.2\"><span class=\"toc-item-num\">5.6.2&nbsp;&nbsp;</span>Observations</a></span></li></ul></li><li><span><a href=\"#Example---advection-diffusion-of-a-Gaussian\" data-toc-modified-id=\"Example---advection-diffusion-of-a-Gaussian-5.7\"><span class=\"toc-item-num\">5.7&nbsp;&nbsp;</span>Example - advection-diffusion of a Gaussian</a></span><ul class=\"toc-item\"><li><span><a href=\"#Observations\" data-toc-modified-id=\"Observations-5.7.1\"><span class=\"toc-item-num\">5.7.1&nbsp;&nbsp;</span>Observations</a></span></li></ul></li><li><span><a href=\"#Periodic-boundaries\" data-toc-modified-id=\"Periodic-boundaries-5.8\"><span class=\"toc-item-num\">5.8&nbsp;&nbsp;</span>Periodic boundaries</a></span><ul class=\"toc-item\"><li><span><a href=\"#Comments\" data-toc-modified-id=\"Comments-5.8.1\"><span class=\"toc-item-num\">5.8.1&nbsp;&nbsp;</span>Comments</a></span></li></ul></li></ul></li><li><span><a href=\"#Stability-considerations-(a-summary)\" data-toc-modified-id=\"Stability-considerations-(a-summary)-6\"><span class=\"toc-item-num\">6&nbsp;&nbsp;</span>Stability considerations (a summary)</a></span><ul class=\"toc-item\"><li><span><a href=\"#Cell-Peclet-number\" data-toc-modified-id=\"Cell-Peclet-number-6.1\"><span class=\"toc-item-num\">6.1&nbsp;&nbsp;</span>Cell Peclet number</a></span></li><li><span><a href=\"#The-Courant-number-and-the-CFL-condition\" data-toc-modified-id=\"The-Courant-number-and-the-CFL-condition-6.2\"><span class=\"toc-item-num\">6.2&nbsp;&nbsp;</span>The Courant number and the CFL condition</a></span></li><li><span><a href=\"#The-CFL-condition---a-physical-interpretation-[$\\star$]\" data-toc-modified-id=\"The-CFL-condition---a-physical-interpretation-[$\\star$]-6.3\"><span class=\"toc-item-num\">6.3&nbsp;&nbsp;</span>The CFL condition - a physical interpretation [$\\star$]</a></span></li><li><span><a href=\"#The-r-number/parameter-for-diffusion\" data-toc-modified-id=\"The-r-number/parameter-for-diffusion-6.4\"><span class=\"toc-item-num\">6.4&nbsp;&nbsp;</span>The r-number/parameter for diffusion</a></span></li><li><span><a href=\"#Other-time-stepping-options\" data-toc-modified-id=\"Other-time-stepping-options-6.5\"><span class=\"toc-item-num\">6.5&nbsp;&nbsp;</span>Other time stepping options</a></span></li></ul></li><li><span><a href=\"#Final-comments\" data-toc-modified-id=\"Final-comments-7\"><span class=\"toc-item-num\">7&nbsp;&nbsp;</span>Final comments</a></span></li></ul></div>"
   ]
  },
  {
   "cell_type": "markdown",
   "metadata": {
    "slideshow": {
     "slide_type": "slide"
    }
   },
   "source": [
    "# Introduction Tensors\n",
    "\n",
    "\n",
    "* Tensors, generalisation of vectors to more dimensions\n",
    "\n",
    "\n",
    "* Use when properties depend on direction in more than one way.\n",
    "\n",
    "\n",
    "* A physical quantity that is independent of coordinate system used \n",
    "\n",
    "\n",
    "* Derives from the word tension (= stress)\n",
    "\n",
    "\n",
    "* Stress tensor as example\n",
    "\n",
    "\n",
    "* *Not* just a multidimensional array\n"
   ]
  },
  {
   "cell_type": "markdown",
   "metadata": {
    "slideshow": {
     "slide_type": "slide"
    }
   },
   "source": [
    "# Continuum Mechanics\n",
    "\n",
    "\n",
    "* Macroscopic description of the collective behaviour of atoms/molecules in the limit where scale >> scale of the individual components\n",
    "\n",
    "\n",
    "* Treat a material, be it solid, liquid, gas, as hypothetical continuum where all quantities vary continuously so that spatial derivatives exist\n",
    "\n",
    "\n",
    "* In such a treatment, we can consider infinitesimally small volumes of the material and define point quantities, like mass, velocity, stress\n",
    "\n",
    "\n",
    "* Such a description has been found to be applicable in a wide range of problems in engineering and physical sciences\n"
   ]
  },
  {
   "cell_type": "markdown",
   "metadata": {},
   "source": [
    "## Tensors\n",
    "\n",
    "\n",
    "**Used in** Stress, strain, moment tensors\n",
    "\n",
    "Electrostatics, electrodynamics, rotation, crystal properties\n",
    "\n",
    "<br>\n",
    "\n",
    "**Tensors describe properties that depend on direction**\n",
    "\n",
    "\n",
    "Tensor rank 0 - scalar - independent of direction\n",
    "\n",
    "Tensor rank 1 - vector - depends on direction in 1 way\n",
    "\n",
    "Tensor rank 2 - tensor - depends on direction in 2 ways\n",
    "\n",
    "<br>\n",
    "\n",
    "<img src=\"figures/Tensors_1.png\" style=\"width: 800px\">"
   ]
  },
  {
   "cell_type": "markdown",
   "metadata": {
    "slideshow": {
     "slide_type": "subslide"
    }
   },
   "source": [
    "## Notation\n",
    "\n",
    "<br>\n",
    "\n",
    "* Tensors as $\\mathbf{T}$\n",
    "<br>\n",
    "\n",
    "* for second order: $\\underline{\\underline{T}}$ or $\\overline{\\overline{T}}$\n",
    "<br>\n",
    "\n",
    "* Index notation $T_{ij}$, $i,j=x,y,z$ or $i,j=1,2,3$\n",
    "<br>\n",
    "\n",
    "* For higher order $T_{ijkl}$"
   ]
  },
  {
   "cell_type": "markdown",
   "metadata": {
    "slideshow": {
     "slide_type": "subslide"
    }
   },
   "source": [
    "## An example tensor\n",
    "\n",
    "\n",
    "Gradient of velocity depends on direction in two ways\n",
    "\n",
    "<img src=\"figures/Tensor_example.png\" style=\"width: 800px\">\n",
    "\n",
    "\n",
    "<center><span style=\"color:red\">This tensor gradient definition common in fluid dynamics</span></center>"
   ]
  },
  {
   "cell_type": "markdown",
   "metadata": {
    "slideshow": {
     "slide_type": "subslide"
    }
   },
   "source": [
    "## An example tensor\n",
    "\n",
    "\n",
    "Gradient of velocity depends on direction in two ways\n",
    "\n",
    "<img src=\"figures/Tensor_example_transposed.png\" style=\"width: 800px\">\n",
    "\n",
    "\n",
    "<center><span style=\"color:red\">NOTE: some texts (including Lai et al., Reddy) use this <strong>transposed</strong> definition</span></center>"
   ]
  },
  {
   "cell_type": "markdown",
   "metadata": {
    "slideshow": {
     "slide_type": "subslide"
    }
   },
   "source": [
    "## Another example: Stress\n",
    "\n",
    "\n",
    "* Body forces - depend on volume, e.g., gravity\n",
    "<br>\n",
    "\n",
    "* Surface forces - depend on surface area, e.g., friction\n",
    "<br>\n",
    "\n",
    "<img src=\"figures/Stress_1.png\" style=\"width: 800px\">\n",
    "<br>\n",
    "\n",
    "forces introduce a state of stress in a body"
   ]
  },
  {
   "cell_type": "markdown",
   "metadata": {
    "slideshow": {
     "slide_type": "subslide"
    }
   },
   "source": [
    "## Another example: Stress\n",
    "\n",
    "\n",
    "<img src=\"figures/Stress_2.png\" style=\"width: 400px\">\n",
    "\n",
    "* $\\Delta \\mathbf{f}$ necessary to maintain equilibrium depends on orientation of the plane, $\\hat{\\mathbf{n}}_1$\n",
    "<br>\n",
    "\n",
    "* traction $\\mathbf{t_1} = \\mathbf{t}(\\hat{\\mathbf{n}}_1) = \\lim_{\\Delta A \\to 0} \\frac{ \\Delta \\mathbf{f}}{\\Delta A_1}$\n",
    "\n",
    "\n",
    "$$ \\mathbf{t_1} = (\\sigma_{11}, \\sigma_{12}, \\sigma_{13}) $$\n",
    "\n",
    "<br>\n",
    "\n",
    "$$\n",
    "\\begin{align}\n",
    "\\sigma_{11} &= \\lim_{\\Delta A \\to 0} \\frac{ \\Delta \\mathbf{f}_1}{\\Delta A_1} \\\\\n",
    "\\sigma_{11} &= \\lim_{\\Delta A \\to 0} \\frac{ \\Delta \\mathbf{f}_2}{\\Delta A_1} \\\\\n",
    "\\sigma_{11} &= \\lim_{\\Delta A \\to 0} \\frac{ \\Delta \\mathbf{f}_3}{\\Delta A_1}\n",
    "\\end{align}\n",
    "$$"
   ]
  },
  {
   "cell_type": "markdown",
   "metadata": {},
   "source": [
    "## Another example: Stress\n",
    "\n",
    "\n",
    "<img src=\"figures/Stress_2.png\" style=\"width: 400px\">\n",
    "\n",
    "* Need nine components to fully describe the stress\n",
    "<br>\n",
    "\n",
    "  * $\\sigma_{11}, \\sigma_{12}, \\sigma_{13}$ for $\\Delta A_1$\n",
    "  \n",
    "  * $\\sigma_{21}, \\sigma_{22}, \\sigma_{23}$ for $\\Delta A_2$\n",
    "\n",
    "  * $\\sigma_{31}, \\sigma_{32}, \\sigma_{33}$ for $\\Delta A_3$\n",
    "\n",
    "$$ \\mathbf{t_1} = (\\sigma_{11}, \\sigma_{12}, \\sigma_{13}) $$\n",
    "\n",
    "<br>\n",
    "\n",
    "$$\n",
    "\\sigma_{ij} = \n",
    "\\begin{bmatrix} \n",
    "\\sigma_{11} & \\sigma_{12} & \\sigma_{13} \\\\\n",
    "\\sigma_{21} & \\sigma_{22} & \\sigma_{23} \\\\\n",
    "\\sigma_{31} & \\sigma_{32} & \\sigma_{33}\n",
    "\\end{bmatrix}\n",
    "$$\n",
    "<br>\n",
    "\n",
    "<center>\n",
    "first index = orientation of plane\n",
    "<br>\n",
    "second index = orientation of force\n",
    "</center>"
   ]
  },
  {
   "cell_type": "markdown",
   "metadata": {},
   "source": [
    "## Difference between a tensor and its matrix\n",
    "\n",
    "<br>\n",
    "\n",
    "**Tensor** – physical quantity that is independent ofcoordinate system used\n",
    "\n",
    "\n",
    "**Matrix of a tensor** – contains components of that tensor in a particular coordinate frame\n",
    "\n",
    "\n",
    "<em><strong><span style=\"color:green\">Could test</strong></em></center> that indeed tensor addition and multiplication satisfy transformation laws\n"
   ]
  },
  {
   "cell_type": "markdown",
   "metadata": {},
   "source": [
    "## Summation (Einstein) convention\n",
    "\n",
    "<br>\n",
    "\n",
    "When an index in a single term is a duplicate, dummy index, summation implied without writing summation symbol\n",
    "\n",
    "<br>\n",
    "\n",
    "$$ a_1 v_1 + a_2 v_2 + a_3 v_3 = \\sum_{i = 1}^3 a_i v_i = a_i v_i $$\n",
    "\n",
    "\n",
    "$$\n",
    "\\begin{align}\n",
    "\\sum_{i = 1}^3 \\sum_{j = 1}^3 a_{ij} x_i y_j = a_{ij} x_i y_j &= a_{11} x_1 y_1 + a_{12} x_1 y_2 + a_{13} x_1 y_3\\\\\n",
    " &+ a_{21} x_2 y_1 + a_{22} x_2 y_2 + a_{23} x_2 y_3 \\\\\n",
    " & \\\\\n",
    " &+ a_{31} x_3 y_1 + a{32} x_3 y_2 + a_{33} x_3 y_3 \n",
    "\\end{align}\n",
    "$$\n",
    "\n",
    "\n",
    "**Invalid**, indices repeated more than twice\n",
    "\n",
    "$$ \\sum_{i = 1}^3 a_i b_i v_i \\neq a_i b_i v_i $$"
   ]
  },
  {
   "cell_type": "markdown",
   "metadata": {
    "slideshow": {
     "slide_type": "subslide"
    }
   },
   "source": [
    "## Notation conventions\n",
    "\n",
    "\n",
    "Index notation\n",
    "\n",
    "$$ \\alpha_{ij} x_i y_j = $$\n",
    "\n",
    "\n",
    "matrix-vector notation\n",
    "\n",
    "$$ \\mathbf{x}^{\\mathbf{T}} \\mathbf{A} \\mathbf{y} = $$\n",
    "\n",
    "\n",
    "$$\n",
    "(x_1 \\quad x_2 \\quad x_3) \n",
    "\\begin{bmatrix}\n",
    "\\alpha_{11} & \\alpha_{12} & \\alpha_{13} \\\\\n",
    "\\alpha_{21} & \\alpha_{22} & \\alpha_{23} \\\\\n",
    "\\alpha_{31} & \\alpha_{32} & \\alpha_{33}\n",
    "\\end{bmatrix}\n",
    "\\begin{pmatrix}\n",
    "y_1 \\\\\n",
    "y_2 \\\\\n",
    "y_3\n",
    "\\end{pmatrix}\n",
    "$$\n",
    "\n",
    "\n",
    "other versions index notation\n",
    "\n",
    "$$ \\alpha_{ij} x_i y_j = x_i \\alpha_{ij} y_j = \\alpha_{ij} y_j x_i $$"
   ]
  },
  {
   "cell_type": "markdown",
   "metadata": {
    "slideshow": {
     "slide_type": "slide"
    }
   },
   "source": [
    "## Dummy vs free index\n",
    "\n",
    "<br>\n",
    "\n",
    "$$ a_1 v_1 + a_2 v_2 + a_3 v_3 = \\sum_{i = 1}^3 a_i v_i = \\sum_{k = 1}^3 a_k v_k $$\n",
    "\n",
    "<br>\n",
    "\n",
    "* $i,k$ – dummy index – appears in duplicates and can be substituted without changing equation\n",
    "\n",
    "$$ F_j = A_j \\sum_{i = 1}^3 B_i C_i $$\n",
    "\n",
    "$$\n",
    "\\begin{align}\n",
    "F_1 &= A_1 \\left( B_1 C_1 + B_2 C_2 + B_3 C_3 \\right) \\\\\n",
    "F_2 &= A_2 \\left( B_1 C_1 + B_2 C_2 + B_3 C_3 \\right) \\\\\n",
    "F_3 &= A_3 \\left( B_1 C_1 + B_2 C_2 + B_3 C_3 \\right)\n",
    "\\end{align}\n",
    "$$\n",
    "\n",
    "\n",
    "* $j$ – free index, appears once in each term of the equation"
   ]
  },
  {
   "cell_type": "markdown",
   "metadata": {
    "slideshow": {
     "slide_type": "subslide"
    }
   },
   "source": [
    "<h3><span style=\"color:blue\"><strong>Exercise 7</strong></span></h3>\n",
    "\n",
    "\n",
    "1. $g_k = h_k (2- 3 a_i b_i) - p_j q_j f_k $ – *Which dummy, which free indices, how many equations, how many terms in each?*\n",
    "<br>\n",
    "\n",
    "2. *Are these valid expressions?*\n",
    "\n",
    "\n",
    "    1. $a_m b_s = c_m (d_r - f_r)$\n",
    "    <br>\n",
    "    2. $x_i x_i = r^2$\n",
    "    <br>\n",
    "    3. $a_i b_j c_j =3$"
   ]
  },
  {
   "cell_type": "markdown",
   "metadata": {
    "slideshow": {
     "slide_type": "slide"
    }
   },
   "source": [
    "## Addition and subtraction of tensors\n",
    "\n",
    "<br>\n",
    "\n",
    "$ \\mathbf{W} = a \\mathbf{T} + b \\mathbf{S}$ – add each component: $W_{ijkl} = a T_{ijkl} + b S_{ijkl}$\n",
    "\n",
    "<br>\n",
    "\n",
    "$\\mathbf{T}$ and $\\mathbf{S}$ must have same rank, dimension and units\n",
    "$\\mathbf{W}$ has same rank, dimension and units as $\\mathbf{T}$ and $\\mathbf{S}$\n",
    "\n",
    "<br>\n",
    "\n",
    "$\\mathbf{T}$ and $\\mathbf{S}$ are tensors $\\Rightarrow$ $\\mathbf{W}$ is a tensor\n",
    "\n",
    "<br>\n",
    "\n",
    "commutative, associative\n",
    "\n",
    "<br>\n",
    "\n",
    "*This is the same as how vectors and matrices are added.*"
   ]
  },
  {
   "cell_type": "markdown",
   "metadata": {},
   "source": [
    "## Multiplication of tensors\n",
    "\n",
    "\n",
    "\n",
    "<span style=\"text-decoration:underline\">Inner product = dot product</span>\n",
    "\n",
    "\n",
    "$ \\mathbf{W} = \\mathbf{T} \\cdot \\mathbf{S}$\n",
    "\n",
    "<br>\n",
    "\n",
    "involves contraction over one index: $W_{ik} = T_{ij} S_{jk}$\n",
    "As normal matrix and matrix-vector multiplication\n",
    "\n",
    "<br>\n",
    "\n",
    "$\\mathbf{T}$ and $\\mathbf{S}$ can have different rank, but same dimension\n",
    "\n",
    "\n",
    "$\\text{rank}\\mathbf{W} = \\text{rank}\\mathbf{T} + \\text{rank}\\mathbf{S} - 2$, dimension as $\\mathbf{T}$ and $\\mathbf{S}$, units as product of units $\\mathbf{T}$ and $\\mathbf{S}$\n",
    "\n",
    "<br>\n",
    "\n",
    "$\\mathbf{T}$ and $\\mathbf{S}$ are tensors $\\Rightarrow$ $\\mathbf{W}$ is a tensor\n",
    "\n",
    "<br>\n",
    "\n",
    "Examples: $|\\mathbf{v}|^2 = \\mathbf{v} \\cdot \\mathbf{v}$\n",
    "$$\\boldsymbol{\\sigma} = \\boldsymbol{C: \\varepsilon} \\text{ or } \\sigma_{ij} = C_{ijkl} \\varepsilon_{kl} \\text{(Hooke's law)}$$"
   ]
  },
  {
   "cell_type": "markdown",
   "metadata": {
    "slideshow": {
     "slide_type": "slide"
    }
   },
   "source": [
    "## Multiplication of tensors\n",
    "\n",
    "\n",
    "\n",
    "<span style=\"text-decoration:underline\">Tensor product $=$ outer product $=$ dyadic product\n",
    "$\\neq$ cross product</span>\n",
    "\n",
    "\n",
    "$ \\mathbf{W} = \\mathbf{T} \\mathbf{S}$ often written as $ \\mathbf{W} = \\mathbf{T} \\otimes \\mathbf{S}$\n",
    "\n",
    "no contraction: $W_{ijkl} = T_{ij} S_{kl}$\n",
    "\n",
    "<br>\n",
    "\n",
    "$\\mathbf{T}$ and $\\mathbf{S}$ can have different rank, but same dimension\n",
    "\n",
    "\n",
    "$\\text{rank}\\mathbf{W} = \\text{rank}\\mathbf{T} + \\text{rank}\\mathbf{S}$, dimension as $\\mathbf{T}$ and $\\mathbf{S}$, units as product of units $\\mathbf{T}$ and $\\mathbf{S}$\n",
    "\n",
    "<br>\n",
    "\n",
    "$\\mathbf{T}$ and $\\mathbf{S}$ are tensors $\\Rightarrow$ $\\mathbf{W}$ is a tensor\n",
    "\n",
    "<br>\n",
    "\n",
    "Examples: $\\nabla \\mathbf{v}$ (gradient of a vector) $\\neq$ $\\nabla \\cdot \\mathbf{v}$ (divergence)\n",
    "\n",
    "$$ \\text{remember gradient is a vector} \\qquad \\nabla = \\left( \\frac{\\partial}{\\partial x_1}, \\frac{\\partial}{\\partial x_2}, \\frac{\\partial}{\\partial x_3} \\right) $$"
   ]
  },
  {
   "cell_type": "markdown",
   "metadata": {},
   "source": [
    "## Multiplication of tensors\n",
    "\n",
    "\n",
    "\n",
    "<span style=\"text-decoration:underline\">For both multiplications</span>\n",
    "\n",
    "<br>\n",
    "\n",
    "* Distributive: \n",
    "\n",
    "$$\\mathbf{A}(\\mathbf{B} + \\mathbf{C}) = \\mathbf{A} \\mathbf{B} + \\mathbf{A} \\mathbf{C}$$\n",
    "\n",
    "\n",
    "* Associative: \n",
    "\n",
    "$$\\mathbf{A}(\\mathbf{B} \\mathbf{C}) = (\\mathbf{A} \\mathbf{B}) \\mathbf{C}$$\n",
    "\n",
    "\n",
    "* Not commutative:\n",
    "\n",
    "$$\n",
    "\\begin{align}\n",
    "&\\mathbf{T} \\mathbf{S} \\neq \\mathbf{S} \\mathbf{T}, \\mathbf{T} \\cdot \\mathbf{S} \\neq \\mathbf{S} \\cdot \\mathbf{T} \\\\\n",
    "&\\text{but: } \\mathbf{T} \\cdot \\mathbf{S} = \\mathbf{S}^\\mathbf{T} \\cdot \\mathbf{T}^\\mathbf{T} \\\\\n",
    "&\\text{and: } \\mathbf{a} \\mathbf{b} = (\\mathbf{b}\\mathbf{a})^\\mathbf{T} \\text{but only for rank 2}\n",
    "\\end{align}\n",
    "$$\n",
    "\n",
    "\n",
    "Remember **transpose**: $\\mathbf{a} \\cdot \\mathbf{T} \\cdot \\mathbf{b} = \\mathbf{b} \\cdot \\mathbf{T}^\\mathbf{T} \\cdot \\mathbf{a} \\Rightarrow T_{ji} = T_{ij}^\\mathbf{T}$\n",
    "\n"
   ]
  },
  {
   "cell_type": "markdown",
   "metadata": {
    "slideshow": {
     "slide_type": "slide"
    }
   },
   "source": [
    "## Special tensor:\n",
    "### Kronecker delta $\\delta_{ij}$\n",
    "\n",
    "\n",
    "$$ \\delta_{ij} = \\hat{\\mathbf{e}}_i \\cdot \\hat{\\mathbf{e}}_j $$\n",
    "\n",
    "\n",
    "$$ \\delta_{ij} = 1 \\text{  for  } i=j,  \\delta_{ij} = 0 \\text{  for  } i\\neq j $$\n",
    "\n",
    "In 3-D:\n",
    "\n",
    "$$ \\boldsymbol{\\delta} = \\mathbf{I} = \n",
    "\\begin{bmatrix}\n",
    "1 & 0 & 0 \\\\\n",
    "0 & 1 & 0 \\\\\n",
    "0 & 0 & 1 \\\\\n",
    "\\end{bmatrix}\n",
    "$$\n",
    "\n",
    "\n",
    "$$\\mathbf{T} \\cdot \\boldsymbol{\\delta} = \\mathbf{T} \\cdot \\mathbf{I} = \\mathbf{T} \\quad \\text{or} \\quad T_{ij} \\delta_{jk} = T_{ik}$$\n",
    "\n",
    "\n",
    "$\\boldsymbol{\\delta}$ is isotropic: $\\delta_{ij} = \\delta_{ij}'$ upon coordinate transformation\n",
    "\n",
    "\n",
    "can be used to write dot product: $T_{ij}S_{jl} = T_{ij} S_{kl} \\delta_{jk}$\n",
    "\n",
    "can be used to write trace: $A_{ii} = A_{ij} \\delta_{ij}$\n",
    "\n",
    "orthonormal transformation: $\\alpha_{ij} \\alpha_{jk}^\\mathbf{T} = \\delta_{ik}$\n",
    "<br>\n",
    "\n",
    "\n",
    "*Isotropic tensors, invariant upon coordinate transformation*\n",
    "- scalars\n",
    "- 0 vector\n",
    "- $\\delta_{ij}$\n",
    "\n",
    "<br>\n",
    "<center><span style=\"color:blue\"><em>Exercise 8</em></span></center>\n"
   ]
  },
  {
   "cell_type": "markdown",
   "metadata": {
    "slideshow": {
     "slide_type": "subslide"
    }
   },
   "source": [
    "## Special tensor:\n",
    "### Permutation symbol $\\varepsilon_{ijk}$\n",
    "\n",
    "\n",
    "$$ \\varepsilon_{ijk} = \\left(\\hat{\\mathbf{e}}_i \\times \\hat{\\mathbf{e}}_j \\right) \\cdot \\hat{\\mathbf{e}}_k $$\n",
    "<br>\n",
    "\n",
    "$\\varepsilon_{ijk} = 1 $ if $i,j,k$ an even permutation of 1,2,3\n",
    "\n",
    "\n",
    "$\\varepsilon_{ijk} = -1 $ if $i,j,k$ an odd permutation of 1,2,3\n",
    "\n",
    "\n",
    "$\\varepsilon_{ijk} = 0 $ for all other $i,j,k$\n",
    "\n",
    "\n",
    "<img src=\"figures/Permutation.png\" style=\"width: 200px\">\n",
    "\n",
    "\n",
    "$$\\varepsilon_{123} = \\varepsilon_{231} = \\varepsilon_{312} = 1 $$\n",
    "\n",
    "$$\\varepsilon_{213} = \\varepsilon_{321} = \\varepsilon_{132} = -1 $$\n",
    "\n",
    "$$\\varepsilon_{111} = \\varepsilon_{112} = \\varepsilon_{222} = \\ldots = 0 $$\n",
    "\n",
    "Note that $\\varepsilon_{ijk} a_i b_j \\hat{e}_k$ where $\\hat{e}_k$ is the unit vector in $k$ direction is index notation for cross product $\\mathbf{a} \\times \\mathbf{b}$\n",
    "\n",
    "<br>\n",
    "\n",
    "Exercise: useful identity $\\varepsilon_{ijm} \\varepsilon_{klm} = \\delta_{ik} \\delta_{jl} - \\delta_{il} \\delta_{jk}$\n",
    "\n",
    "<br>\n",
    "<center><span style=\"color:blue\"><em>Exercise 8</em></span></center>\n"
   ]
  },
  {
   "cell_type": "markdown",
   "metadata": {},
   "source": [
    "## Vector derivatives - curl\n",
    "\n",
    "\n",
    "Curl of a vector:\n",
    "\n",
    "$$\n",
    "\\nabla \\times \\mathbf{v} = \\varepsilon_{ijk} \\frac{\\partial}{\\partial x_i} v_j \\hat{\\mathbf{e}}_k = \n",
    "\\begin{pmatrix}\n",
    "\\frac{\\partial v_3}{\\partial x_2} - \\frac{\\partial v_2}{\\partial x_3} \\\\\n",
    "\\frac{\\partial v_1}{\\partial x_3} - \\frac{\\partial v_3}{\\partial x_1} \\\\\n",
    "\\frac{\\partial v_2}{\\partial x_1} - \\frac{\\partial v_1}{\\partial x_2} \n",
    "\\end{pmatrix}\n",
    "$$\n",
    "\n",
    "<br>\n",
    "\n",
    "<center>In index notation, using special tensor</center>"
   ]
  },
  {
   "cell_type": "markdown",
   "metadata": {},
   "source": [
    "## Some tensor calculus\n",
    "\n",
    "\n",
    "\n",
    "Gradient of a vector is a tensor:\n",
    "\n",
    "\n",
    "$$ \\nabla \\pmb{v} = \\frac{\\partial v_j}{\\partial x_i} = \n",
    "\\begin{bmatrix}\n",
    "\\frac{\\partial v_1}{\\partial x_1} & \\frac{\\partial v_2}{\\partial x_1} & \\frac{\\partial v_3}{\\partial x_1} \\\\\n",
    "\\frac{\\partial v_1}{\\partial x_2} & \\frac{\\partial v_2}{\\partial x_2} & \\frac{\\partial v_3}{\\partial x_2} \\\\\n",
    "\\frac{\\partial v_1}{\\partial x_3} & \\frac{\\partial v_2}{\\partial x_3} & \\frac{\\partial v_3}{\\partial x_3}\n",
    "\\end{bmatrix}\n",
    "$$\n",
    "\n",
    "\n",
    "Divergence of a vector:\n",
    "\n",
    "$$ \\nabla \\cdot \\pmb{v} = \\frac{\\partial v_i}{\\partial x_i} = \\frac{\\partial v_1}{\\partial x_1} + \\frac{\\partial v_2}{\\partial x_2} + \\frac{\\partial v_3}{\\partial x_3}$$\n",
    "\n",
    "$$  \\nabla \\cdot \\pmb{v} = \\text{tr}(\\nabla \\mathbf{v}) $$\n",
    "\n",
    "<br>\n",
    "<span style=\"color:red\">Trace</span> of a tensor is the sum of diagonal elements"
   ]
  },
  {
   "cell_type": "markdown",
   "metadata": {},
   "source": [
    "## Some tensor calculus\n",
    "\n",
    "\n",
    "\n",
    "Divergence of a tensor:\n",
    "\n",
    "\n",
    "$$\n",
    "\\nabla \\cdot \\mathbf{T} = \\frac{\\partial T_{ij}}{\\partial x_j} = \n",
    "\\begin{pmatrix}\n",
    "\\frac{\\partial T_{1j}}{\\partial x_j} \\\\\n",
    "\\frac{\\partial T_{2j}}{\\partial x_j} \\\\\n",
    "\\frac{\\partial T_{3j}}{\\partial x_j}\n",
    "\\end{pmatrix}\n",
    "= \n",
    "\\begin{pmatrix}\n",
    "\\frac{\\partial T_{11}}{\\partial x_1} + \\frac{\\partial T_{12}}{\\partial x_2} + \\frac{\\partial T_{13}}{\\partial x_3} \\\\\n",
    "\\frac{\\partial T_{21}}{\\partial x_1} + \\frac{\\partial T_{22}}{\\partial x_2} + \\frac{\\partial T_{23}}{\\partial x_3} \\\\\n",
    "\\frac{\\partial T_{31}}{\\partial x_1} + \\frac{\\partial T_{32}}{\\partial x_2} + \\frac{\\partial T_{33}}{\\partial x_3}\n",
    "\\end{pmatrix}\n",
    "$$\n",
    "<br>\n",
    "\n",
    "\n",
    "Laplacian $ = \\text{div}(\\text{grad} f)$, where $f$ is a scalar function\n",
    "\n",
    "$$ \\nabla \\cdot \\nabla f = \\nabla^2 f = \\Delta f = \\frac{\\partial^2}{\\partial x_i \\partial x_i} = \\frac{\\partial^2 f}{\\partial x_1^2} + \\frac{\\partial^2 f}{\\partial x_2^2} + \\frac{\\partial^2 f}{\\partial x_3^2} $$\n",
    "\n",
    "\n"
   ]
  },
  {
   "cell_type": "markdown",
   "metadata": {},
   "source": [
    "## Learning Objectives\n",
    "\n",
    "\n",
    "\n",
    "* Be able to perform vector/tensor operations (addition, multiplication) on Cartesian orthonormal bases\n",
    "\n",
    "\n",
    "* Be able to do basic vector/tensor calculus (time and space derivatives, divergence, curl of a vector field) on these bases.\n",
    "\n",
    "\n",
    "* Perform transformation of a vector from one to another Cartesian basis.\n",
    "\n",
    "\n",
    "* Understand differences/commonalities tensor and vector\n",
    "\n",
    "\n",
    "* Use index notation and Einstein convention"
   ]
  },
  {
   "cell_type": "markdown",
   "metadata": {},
   "source": [
    "## Summary\n",
    "\n",
    "\n",
    "\n",
    "* **Vectors**\n",
    "  \n",
    "  * Addition, linear independence\n",
    "  \n",
    "  * Orthonormal Cartesian bases, transformation\n",
    "  \n",
    "  * Multiplication\n",
    "\n",
    "  * Derivatives, del, div, curl\n",
    "\n",
    "\n",
    "\n",
    "* **Tensors**\n",
    "\n",
    "  * Tensors, rank, stress tensor\n",
    "  \n",
    "  * Index notation, summation convention\n",
    "  \n",
    "  * Addition, multiplication\n",
    "  \n",
    "  * Special tensors, $\\delta_{ij}$ and $\\varepsilon_{ijk}$\n",
    "\n",
    "  * Tensor calculus: gradient, divergence, curl, $\\ldots$\n",
    "  \n",
    "  \n",
    "<br>\n",
    "<span style=\"color:green\"><em>Further reading/studying e.g: <strong>Reddy</strong> (2013) 2.2.1-2.2.3, 2.2.5, 2.2.6, 2.4.1, 2.4.4, 2.4.5, 2.4.6, 2.4.8 (not co/contravariant), <strong>Lai, Rubin, Kremple</strong> (2010): 2.1-2.13, 2.16, 2.17, 2.27-2.32, 4.1-4.3, <strong>Khan Academy</strong> – linear algebra, multivariate calculus</em></span>"
   ]
  },
  {
   "cell_type": "markdown",
   "metadata": {},
   "source": [
    "<h2><center><span style=\"color:blue\">Try yourself</span></center></h2>\n",
    "\n",
    "* For this part of the lecture, try <span style=\"color:blue\">Exercise 7</span> , and\n",
    "optional advanced <span style=\"color:orange\">Exercise 8</span>\n",
    "\n",
    "\n",
    "* Try to finish in the afternoon workshop: <span style=\"color:blue\">Exercise 2, 3, 5, 6, 7, 9</span> \n",
    "\n",
    "* Additional practise: <span style=\"color:green\">Exercise 1, 4</span> \n",
    "\n",
    "* Advanced practise: <span style=\"color:orange\">Exercise 8, 10</span> "
   ]
  },
  {
   "cell_type": "code",
   "execution_count": null,
   "metadata": {},
   "outputs": [],
   "source": []
  }
 ],
 "metadata": {
  "celltoolbar": "Slideshow",
  "kernelspec": {
   "display_name": "Python 3",
   "language": "python",
   "name": "python3"
  },
  "language_info": {
   "codemirror_mode": {
    "name": "ipython",
    "version": 3
   },
   "file_extension": ".py",
   "mimetype": "text/x-python",
   "name": "python",
   "nbconvert_exporter": "python",
   "pygments_lexer": "ipython3",
   "version": "3.7.10"
  },
  "latex_envs": {
   "LaTeX_envs_menu_present": true,
   "autoclose": false,
   "autocomplete": true,
   "bibliofile": "biblio.bib",
   "cite_by": "apalike",
   "current_citInitial": 1,
   "eqLabelWithNumbers": true,
   "eqNumInitial": 1,
   "hotkeys": {
    "equation": "Ctrl-E",
    "itemize": "Ctrl-I"
   },
   "labels_anchors": false,
   "latex_user_defs": false,
   "report_style_numbering": false,
   "user_envs_cfg": false
  },
  "toc": {
   "base_numbering": 1,
   "nav_menu": {},
   "number_sections": true,
   "sideBar": true,
   "skip_h1_title": false,
   "title_cell": "Table of Contents",
   "title_sidebar": "Contents",
   "toc_cell": true,
   "toc_position": {},
   "toc_section_display": true,
   "toc_window_display": false
  }
 },
 "nbformat": 4,
 "nbformat_minor": 1
}
