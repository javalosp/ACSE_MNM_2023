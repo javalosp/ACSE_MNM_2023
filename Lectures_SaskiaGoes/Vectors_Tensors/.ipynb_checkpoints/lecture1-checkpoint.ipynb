{
 "cells": [
  {
   "cell_type": "code",
   "execution_count": 8,
   "metadata": {},
   "outputs": [
    {
     "data": {
      "text/html": [
       "<style>\n",
       "div.optional {\n",
       "    display: block;\n",
       "    background-color: #d7e2ff;\n",
       "    border-color: #d7e2ff;\n",
       "    border-left: 5px solid #d7e2ff;\n",
       "    padding: 0.5em;\n",
       "}\n",
       "div.advanced {\n",
       "    display: block;\n",
       "    background-color: #fff4d7;\n",
       "    border-color: #fff4d7;\n",
       "    border-left: 5px solid #fff4d7;\n",
       "    padding: 0.5em;\n",
       "}\n",
       "</style>\n"
      ],
      "text/plain": [
       "<IPython.core.display.HTML object>"
      ]
     },
     "metadata": {},
     "output_type": "display_data"
    }
   ],
   "source": [
    "%%html\n",
    "<style>\n",
    "div.optional {\n",
    "    display: block;\n",
    "    background-color: #d7e2ff;\n",
    "    border-color: #d7e2ff;\n",
    "    border-left: 5px solid #d7e2ff;\n",
    "    padding: 0.5em;\n",
    "}\n",
    "div.advanced {\n",
    "    display: block;\n",
    "    background-color: #fff4d7;\n",
    "    border-color: #fff4d7;\n",
    "    border-left: 5px solid #fff4d7;\n",
    "    padding: 0.5em;\n",
    "}\n",
    "</style>"
   ]
  },
  {
   "cell_type": "code",
   "execution_count": 9,
   "metadata": {},
   "outputs": [
    {
     "name": "stdout",
     "output_type": "stream",
     "text": [
      "3.7.10\n"
     ]
    }
   ],
   "source": [
    "from platform import python_version\n",
    "\n",
    "print(python_version())"
   ]
  },
  {
   "cell_type": "code",
   "execution_count": 10,
   "metadata": {},
   "outputs": [
    {
     "name": "stdout",
     "output_type": "stream",
     "text": [
      "module://ipympl.backend_nbagg\n"
     ]
    }
   ],
   "source": [
    "import matplotlib\n",
    "print(matplotlib.get_backend())"
   ]
  },
  {
   "cell_type": "code",
   "execution_count": 11,
   "metadata": {},
   "outputs": [
    {
     "name": "stdout",
     "output_type": "stream",
     "text": [
      "Defaulting to user installation because normal site-packages is not writeable\n",
      "Requirement already satisfied: ipympl in /home/jea4117/.local/lib/python3.7/site-packages (0.9.3)\n",
      "Requirement already satisfied: ipython<9 in /usr/local/lib/python3.7/dist-packages (from ipympl) (7.12.0)\n",
      "Requirement already satisfied: numpy in /home/jea4117/.local/lib/python3.7/site-packages (from ipympl) (1.21.5)\n",
      "Requirement already satisfied: ipywidgets<9,>=7.6.0 in /home/jea4117/.local/lib/python3.7/site-packages (from ipympl) (8.0.7)\n",
      "Requirement already satisfied: traitlets<6 in /home/jea4117/.local/lib/python3.7/site-packages (from ipympl) (5.9.0)\n",
      "Requirement already satisfied: pillow in /usr/local/lib/python3.7/dist-packages (from ipympl) (7.0.0)\n",
      "Requirement already satisfied: ipython-genutils in /usr/local/lib/python3.7/dist-packages (from ipympl) (0.2.0)\n",
      "Requirement already satisfied: matplotlib<4,>=3.4.0 in /home/jea4117/.local/lib/python3.7/site-packages (from ipympl) (3.5.1)\n",
      "Requirement already satisfied: setuptools>=18.5 in /home/jea4117/.local/lib/python3.7/site-packages (from ipython<9->ipympl) (59.5.0)\n",
      "Requirement already satisfied: decorator in /usr/lib/python3/dist-packages (from ipython<9->ipympl) (4.0.6)\n",
      "Requirement already satisfied: prompt-toolkit!=3.0.0,!=3.0.1,<3.1.0,>=2.0.0 in /usr/local/lib/python3.7/dist-packages (from ipython<9->ipympl) (3.0.3)\n",
      "Requirement already satisfied: pygments in /usr/local/lib/python3.7/dist-packages (from ipython<9->ipympl) (2.10.0)\n",
      "Requirement already satisfied: pexpect in /usr/local/lib/python3.7/dist-packages (from ipython<9->ipympl) (4.8.0)\n",
      "Requirement already satisfied: pickleshare in /usr/local/lib/python3.7/dist-packages (from ipython<9->ipympl) (0.7.5)\n",
      "Requirement already satisfied: backcall in /usr/local/lib/python3.7/dist-packages (from ipython<9->ipympl) (0.1.0)\n",
      "Requirement already satisfied: jedi>=0.10 in /usr/local/lib/python3.7/dist-packages (from ipython<9->ipympl) (0.16.0)\n",
      "Requirement already satisfied: ipykernel>=4.5.1 in /usr/local/lib/python3.7/dist-packages (from ipywidgets<9,>=7.6.0->ipympl) (5.1.4)\n",
      "Requirement already satisfied: widgetsnbextension~=4.0.7 in /home/jea4117/.local/lib/python3.7/site-packages (from ipywidgets<9,>=7.6.0->ipympl) (4.0.8)\n",
      "Requirement already satisfied: jupyterlab-widgets~=3.0.7 in /home/jea4117/.local/lib/python3.7/site-packages (from ipywidgets<9,>=7.6.0->ipympl) (3.0.8)\n",
      "Requirement already satisfied: jupyter-client in /home/jea4117/.local/lib/python3.7/site-packages (from ipykernel>=4.5.1->ipywidgets<9,>=7.6.0->ipympl) (7.4.9)\n",
      "Requirement already satisfied: tornado>=4.2 in /home/jea4117/.local/lib/python3.7/site-packages (from ipykernel>=4.5.1->ipywidgets<9,>=7.6.0->ipympl) (6.2)\n",
      "Requirement already satisfied: parso>=0.5.2 in /usr/local/lib/python3.7/dist-packages (from jedi>=0.10->ipython<9->ipympl) (0.6.2)\n",
      "Requirement already satisfied: packaging>=20.0 in /home/jea4117/.local/lib/python3.7/site-packages (from matplotlib<4,>=3.4.0->ipympl) (21.3)\n",
      "Requirement already satisfied: kiwisolver>=1.0.1 in /usr/local/lib/python3.7/dist-packages (from matplotlib<4,>=3.4.0->ipympl) (1.1.0)\n",
      "Requirement already satisfied: fonttools>=4.22.0 in /home/jea4117/.local/lib/python3.7/site-packages (from matplotlib<4,>=3.4.0->ipympl) (4.29.1)\n",
      "Requirement already satisfied: cycler>=0.10 in /usr/local/lib/python3.7/dist-packages (from matplotlib<4,>=3.4.0->ipympl) (0.10.0)\n",
      "Requirement already satisfied: pyparsing>=2.2.1 in /home/jea4117/.local/lib/python3.7/site-packages (from matplotlib<4,>=3.4.0->ipympl) (3.0.7)\n",
      "Requirement already satisfied: python-dateutil>=2.7 in /home/jea4117/.local/lib/python3.7/site-packages (from matplotlib<4,>=3.4.0->ipympl) (2.8.2)\n",
      "Requirement already satisfied: six in /home/jea4117/.local/lib/python3.7/site-packages (from cycler>=0.10->matplotlib<4,>=3.4.0->ipympl) (1.13.0)\n",
      "Requirement already satisfied: wcwidth in /usr/local/lib/python3.7/dist-packages (from prompt-toolkit!=3.0.0,!=3.0.1,<3.1.0,>=2.0.0->ipython<9->ipympl) (0.1.8)\n",
      "Requirement already satisfied: jupyter-core>=4.9.2 in /home/jea4117/.local/lib/python3.7/site-packages (from jupyter-client->ipykernel>=4.5.1->ipywidgets<9,>=7.6.0->ipympl) (4.12.0)\n",
      "Requirement already satisfied: nest-asyncio>=1.5.4 in /home/jea4117/.local/lib/python3.7/site-packages (from jupyter-client->ipykernel>=4.5.1->ipywidgets<9,>=7.6.0->ipympl) (1.5.6)\n",
      "Requirement already satisfied: entrypoints in /usr/local/lib/python3.7/dist-packages (from jupyter-client->ipykernel>=4.5.1->ipywidgets<9,>=7.6.0->ipympl) (0.3)\n",
      "Requirement already satisfied: pyzmq>=23.0 in /home/jea4117/.local/lib/python3.7/site-packages (from jupyter-client->ipykernel>=4.5.1->ipywidgets<9,>=7.6.0->ipympl) (24.0.1)\n",
      "Requirement already satisfied: ptyprocess>=0.5 in /usr/lib/python3/dist-packages (from pexpect->ipython<9->ipympl) (0.5)\n",
      "\u001b[33mWARNING: You are using pip version 21.1.1; however, version 23.2.1 is available.\n",
      "You should consider upgrading via the '/usr/bin/python3 -m pip install --upgrade pip' command.\u001b[0m\n"
     ]
    }
   ],
   "source": [
    "!pip install ipympl"
   ]
  },
  {
   "cell_type": "code",
   "execution_count": null,
   "metadata": {},
   "outputs": [],
   "source": []
  },
  {
   "cell_type": "code",
   "execution_count": 16,
   "metadata": {
    "scrolled": false
   },
   "outputs": [],
   "source": [
    "%matplotlib inline\n",
    "import numpy as np\n",
    "import scipy.linalg as sl\n",
    "# we'll start using sparse matrices here\n",
    "import scipy.sparse as sp\n",
    "# and linear algebra functions designed for sparse matrices\n",
    "import scipy.sparse.linalg as spla\n",
    "import matplotlib.pyplot as plt\n",
    "from pprint import pprint\n",
    "# the following allows us to plot triangles indicating convergence order\n",
    "#from mpltools import annotation\n",
    "# Sympy for symbols rendering\n",
    "import sympy as sy\n",
    "\n",
    "import os\n",
    "\n",
    "\n",
    "from IPython.display import display\n",
    "from ipywidgets import widgets as ipywidgets\n",
    "from matplotlib import cm\n",
    "from matplotlib import widgets as mpl_widgets\n",
    "\n",
    "# font sizes for plots\n",
    "#plt.rcParams['font.size'] = 12\n",
    "#plt.rcParams['font.family'] = 'sans-serif'\n",
    "#plt.rcParams['font.sans-serif'] = ['Arial', 'Dejavu Sans']"
   ]
  },
  {
   "cell_type": "markdown",
   "metadata": {
    "slideshow": {
     "slide_type": "slide"
    }
   },
   "source": [
    "# Modelling and Numerical Methods  <a class=\"tocSkip\">\n",
    "    \n",
    "## Part 1  <a class=\"tocSkip\">\n",
    "\n",
    "## Continuum mechanics and vector/tensor calculus <a class=\"tocSkip\">\n"
   ]
  },
  {
   "cell_type": "markdown",
   "metadata": {
    "toc": true
   },
   "source": [
    "<h1>Table of Contents<span class=\"tocSkip\"></span></h1>\n",
    "<div class=\"toc\"><ul class=\"toc-item\"><li><span><a href=\"#Differentiation-(or-taking-a-derivative)---the-continuous-definition\" data-toc-modified-id=\"Differentiation-(or-taking-a-derivative)---the-continuous-definition-1\"><span class=\"toc-item-num\">1&nbsp;&nbsp;</span>Differentiation (or taking a derivative) - the continuous definition</a></span></li><li><span><a href=\"#Finite-differences\" data-toc-modified-id=\"Finite-differences-2\"><span class=\"toc-item-num\">2&nbsp;&nbsp;</span>Finite differences</a></span><ul class=\"toc-item\"><li><span><a href=\"#The-forward-difference\" data-toc-modified-id=\"The-forward-difference-2.1\"><span class=\"toc-item-num\">2.1&nbsp;&nbsp;</span>The forward difference</a></span></li><li><span><a href=\"#Taylor-series-to-estimate-accuracy\" data-toc-modified-id=\"Taylor-series-to-estimate-accuracy-2.2\"><span class=\"toc-item-num\">2.2&nbsp;&nbsp;</span>Taylor series to estimate accuracy</a></span><ul class=\"toc-item\"><li><span><a href=\"#Taylor-series-example-[from-previous-lecture]\" data-toc-modified-id=\"Taylor-series-example-[from-previous-lecture]-2.2.1\"><span class=\"toc-item-num\">2.2.1&nbsp;&nbsp;</span>Taylor series example [from previous lecture]</a></span></li><li><span><a href=\"#Order-of-convergence---higher-generally-better\" data-toc-modified-id=\"Order-of-convergence---higher-generally-better-2.2.2\"><span class=\"toc-item-num\">2.2.2&nbsp;&nbsp;</span>Order of convergence - higher generally better</a></span></li></ul></li><li><span><a href=\"#The-backward-difference\" data-toc-modified-id=\"The-backward-difference-2.3\"><span class=\"toc-item-num\">2.3&nbsp;&nbsp;</span>The backward difference</a></span></li><li><span><a href=\"#The-central-difference\" data-toc-modified-id=\"The-central-difference-2.4\"><span class=\"toc-item-num\">2.4&nbsp;&nbsp;</span>The central difference</a></span></li><li><span><a href=\"#Example:-Write-a-function-to-perform-numerical-differentiation\" data-toc-modified-id=\"Example:-Write-a-function-to-perform-numerical-differentiation-2.5\"><span class=\"toc-item-num\">2.5&nbsp;&nbsp;</span>Example: Write a function to perform numerical differentiation</a></span></li><li><span><a href=\"#Example:-Compute-the-derivative-of-$\\sin(x)$\" data-toc-modified-id=\"Example:-Compute-the-derivative-of-$\\sin(x)$-2.6\"><span class=\"toc-item-num\">2.6&nbsp;&nbsp;</span>Example: Compute the derivative of $\\sin(x)$</a></span></li><li><span><a href=\"#How-small-(or-large)-can-$\\Delta-x$-go?\" data-toc-modified-id=\"How-small-(or-large)-can-$\\Delta-x$-go?-2.7\"><span class=\"toc-item-num\">2.7&nbsp;&nbsp;</span>How small (or large) can $\\Delta x$ go?</a></span><ul class=\"toc-item\"><li><span><a href=\"#Observations\" data-toc-modified-id=\"Observations-2.7.1\"><span class=\"toc-item-num\">2.7.1&nbsp;&nbsp;</span>Observations</a></span></li></ul></li><li><span><a href=\"#Approximating-second-derivatives\" data-toc-modified-id=\"Approximating-second-derivatives-2.8\"><span class=\"toc-item-num\">2.8&nbsp;&nbsp;</span>Approximating second derivatives</a></span></li></ul></li><li><span><a href=\"#Introduction-to-BVPs\" data-toc-modified-id=\"Introduction-to-BVPs-3\"><span class=\"toc-item-num\">3&nbsp;&nbsp;</span>Introduction to BVPs</a></span><ul class=\"toc-item\"><li><span><a href=\"#Problem-non-dimensionalisation\" data-toc-modified-id=\"Problem-non-dimensionalisation-3.1\"><span class=\"toc-item-num\">3.1&nbsp;&nbsp;</span>Problem non-dimensionalisation</a></span></li><li><span><a href=\"#Model-problem---BVP:-steady-state-advection-diffusion\" data-toc-modified-id=\"Model-problem---BVP:-steady-state-advection-diffusion-3.2\"><span class=\"toc-item-num\">3.2&nbsp;&nbsp;</span>Model problem - BVP: steady-state advection-diffusion</a></span><ul class=\"toc-item\"><li><span><a href=\"#Observations\" data-toc-modified-id=\"Observations-3.2.1\"><span class=\"toc-item-num\">3.2.1&nbsp;&nbsp;</span>Observations</a></span></li></ul></li><li><span><a href=\"#Methods-for-solving-BVPs\" data-toc-modified-id=\"Methods-for-solving-BVPs-3.3\"><span class=\"toc-item-num\">3.3&nbsp;&nbsp;</span>Methods for solving BVPs</a></span></li><li><span><a href=\"#Defining-a-grid-(or-mesh)\" data-toc-modified-id=\"Defining-a-grid-(or-mesh)-3.4\"><span class=\"toc-item-num\">3.4&nbsp;&nbsp;</span>Defining a grid (or mesh)</a></span></li><li><span><a href=\"#Dealing-with-Dirichlet-boundary-conditions\" data-toc-modified-id=\"Dealing-with-Dirichlet-boundary-conditions-3.5\"><span class=\"toc-item-num\">3.5&nbsp;&nbsp;</span>Dealing with Dirichlet boundary conditions</a></span></li><li><span><a href=\"#Solving-the-diffusion-equation\" data-toc-modified-id=\"Solving-the-diffusion-equation-3.6\"><span class=\"toc-item-num\">3.6&nbsp;&nbsp;</span>Solving the diffusion equation</a></span><ul class=\"toc-item\"><li><span><a href=\"#Observations\" data-toc-modified-id=\"Observations-3.6.1\"><span class=\"toc-item-num\">3.6.1&nbsp;&nbsp;</span>Observations</a></span></li></ul></li></ul></li><li><span><a href=\"#The-time-independent-(steady)-advection-diffusion-problem\" data-toc-modified-id=\"The-time-independent-(steady)-advection-diffusion-problem-4\"><span class=\"toc-item-num\">4&nbsp;&nbsp;</span>The time-independent (steady) advection-diffusion problem</a></span><ul class=\"toc-item\"><li><span><a href=\"#Discretisation-choices-for-advection-and-diffusion\" data-toc-modified-id=\"Discretisation-choices-for-advection-and-diffusion-4.1\"><span class=\"toc-item-num\">4.1&nbsp;&nbsp;</span>Discretisation choices for advection and diffusion</a></span><ul class=\"toc-item\"><li><span><a href=\"#Observations\" data-toc-modified-id=\"Observations-4.1.1\"><span class=\"toc-item-num\">4.1.1&nbsp;&nbsp;</span>Observations</a></span></li><li><span><a href=\"#More-observations\" data-toc-modified-id=\"More-observations-4.1.2\"><span class=\"toc-item-num\">4.1.2&nbsp;&nbsp;</span>More observations</a></span></li></ul></li><li><span><a href=\"#Upwind-for-advection\" data-toc-modified-id=\"Upwind-for-advection-4.2\"><span class=\"toc-item-num\">4.2&nbsp;&nbsp;</span>Upwind for advection</a></span><ul class=\"toc-item\"><li><span><a href=\"#Observations\" data-toc-modified-id=\"Observations-4.2.1\"><span class=\"toc-item-num\">4.2.1&nbsp;&nbsp;</span>Observations</a></span></li></ul></li><li><span><a href=\"#Analysis-of-the-upwind-scheme-[$\\star$]\" data-toc-modified-id=\"Analysis-of-the-upwind-scheme-[$\\star$]-4.3\"><span class=\"toc-item-num\">4.3&nbsp;&nbsp;</span>Analysis of the upwind scheme [$\\star$]</a></span></li><li><span><a href=\"#Practicalities!\" data-toc-modified-id=\"Practicalities!-4.4\"><span class=\"toc-item-num\">4.4&nbsp;&nbsp;</span>Practicalities!</a></span></li></ul></li><li><span><a href=\"#The-time-dependent-(unsteady)-advection-diffusion-problem\" data-toc-modified-id=\"The-time-dependent-(unsteady)-advection-diffusion-problem-5\"><span class=\"toc-item-num\">5&nbsp;&nbsp;</span>The time-dependent (unsteady) advection-diffusion problem</a></span><ul class=\"toc-item\"><li><span><a href=\"#The-equation-in-higher-spatial-dimensions-[$\\star$]\" data-toc-modified-id=\"The-equation-in-higher-spatial-dimensions-[$\\star$]-5.1\"><span class=\"toc-item-num\">5.1&nbsp;&nbsp;</span>The equation in higher spatial dimensions [$\\star$]</a></span></li><li><span><a href=\"#Non-dimensionalisation\" data-toc-modified-id=\"Non-dimensionalisation-5.2\"><span class=\"toc-item-num\">5.2&nbsp;&nbsp;</span>Non-dimensionalisation</a></span></li><li><span><a href=\"#The-Method-of-Lines\" data-toc-modified-id=\"The-Method-of-Lines-5.3\"><span class=\"toc-item-num\">5.3&nbsp;&nbsp;</span>The Method of Lines</a></span><ul class=\"toc-item\"><li><span><a href=\"#Defining-a-spatial-grid\" data-toc-modified-id=\"Defining-a-spatial-grid-5.3.1\"><span class=\"toc-item-num\">5.3.1&nbsp;&nbsp;</span>Defining a spatial grid</a></span></li></ul></li><li><span><a href=\"#Discretising-in-space\" data-toc-modified-id=\"Discretising-in-space-5.4\"><span class=\"toc-item-num\">5.4&nbsp;&nbsp;</span>Discretising in space</a></span><ul class=\"toc-item\"><li><span><a href=\"#Including-Dirichlet-boundary-conditions\" data-toc-modified-id=\"Including-Dirichlet-boundary-conditions-5.4.1\"><span class=\"toc-item-num\">5.4.1&nbsp;&nbsp;</span>Including Dirichlet boundary conditions</a></span></li><li><span><a href=\"#The-initial-condition\" data-toc-modified-id=\"The-initial-condition-5.4.2\"><span class=\"toc-item-num\">5.4.2&nbsp;&nbsp;</span>The initial condition</a></span></li><li><span><a href=\"#The-(semi-)-discretised-system\" data-toc-modified-id=\"The-(semi-)-discretised-system-5.4.3\"><span class=\"toc-item-num\">5.4.3&nbsp;&nbsp;</span>The (semi-) discretised system</a></span></li></ul></li><li><span><a href=\"#The-semi-disrete-matrix-system\" data-toc-modified-id=\"The-semi-disrete-matrix-system-5.5\"><span class=\"toc-item-num\">5.5&nbsp;&nbsp;</span>The semi-disrete matrix system</a></span></li><li><span><a href=\"#Discretising-in-time\" data-toc-modified-id=\"Discretising-in-time-5.6\"><span class=\"toc-item-num\">5.6&nbsp;&nbsp;</span>Discretising in time</a></span><ul class=\"toc-item\"><li><span><a href=\"#Forward-Euler\" data-toc-modified-id=\"Forward-Euler-5.6.1\"><span class=\"toc-item-num\">5.6.1&nbsp;&nbsp;</span>Forward Euler</a></span></li><li><span><a href=\"#Observations\" data-toc-modified-id=\"Observations-5.6.2\"><span class=\"toc-item-num\">5.6.2&nbsp;&nbsp;</span>Observations</a></span></li></ul></li><li><span><a href=\"#Example---advection-diffusion-of-a-Gaussian\" data-toc-modified-id=\"Example---advection-diffusion-of-a-Gaussian-5.7\"><span class=\"toc-item-num\">5.7&nbsp;&nbsp;</span>Example - advection-diffusion of a Gaussian</a></span><ul class=\"toc-item\"><li><span><a href=\"#Observations\" data-toc-modified-id=\"Observations-5.7.1\"><span class=\"toc-item-num\">5.7.1&nbsp;&nbsp;</span>Observations</a></span></li></ul></li><li><span><a href=\"#Periodic-boundaries\" data-toc-modified-id=\"Periodic-boundaries-5.8\"><span class=\"toc-item-num\">5.8&nbsp;&nbsp;</span>Periodic boundaries</a></span><ul class=\"toc-item\"><li><span><a href=\"#Comments\" data-toc-modified-id=\"Comments-5.8.1\"><span class=\"toc-item-num\">5.8.1&nbsp;&nbsp;</span>Comments</a></span></li></ul></li></ul></li><li><span><a href=\"#Stability-considerations-(a-summary)\" data-toc-modified-id=\"Stability-considerations-(a-summary)-6\"><span class=\"toc-item-num\">6&nbsp;&nbsp;</span>Stability considerations (a summary)</a></span><ul class=\"toc-item\"><li><span><a href=\"#Cell-Peclet-number\" data-toc-modified-id=\"Cell-Peclet-number-6.1\"><span class=\"toc-item-num\">6.1&nbsp;&nbsp;</span>Cell Peclet number</a></span></li><li><span><a href=\"#The-Courant-number-and-the-CFL-condition\" data-toc-modified-id=\"The-Courant-number-and-the-CFL-condition-6.2\"><span class=\"toc-item-num\">6.2&nbsp;&nbsp;</span>The Courant number and the CFL condition</a></span></li><li><span><a href=\"#The-CFL-condition---a-physical-interpretation-[$\\star$]\" data-toc-modified-id=\"The-CFL-condition---a-physical-interpretation-[$\\star$]-6.3\"><span class=\"toc-item-num\">6.3&nbsp;&nbsp;</span>The CFL condition - a physical interpretation [$\\star$]</a></span></li><li><span><a href=\"#The-r-number/parameter-for-diffusion\" data-toc-modified-id=\"The-r-number/parameter-for-diffusion-6.4\"><span class=\"toc-item-num\">6.4&nbsp;&nbsp;</span>The r-number/parameter for diffusion</a></span></li><li><span><a href=\"#Other-time-stepping-options\" data-toc-modified-id=\"Other-time-stepping-options-6.5\"><span class=\"toc-item-num\">6.5&nbsp;&nbsp;</span>Other time stepping options</a></span></li></ul></li><li><span><a href=\"#Final-comments\" data-toc-modified-id=\"Final-comments-7\"><span class=\"toc-item-num\">7&nbsp;&nbsp;</span>Final comments</a></span></li></ul></div>"
   ]
  },
  {
   "cell_type": "markdown",
   "metadata": {
    "slideshow": {
     "slide_type": "slide"
    }
   },
   "source": [
    "# Learning objectives: <a class=\"tocSkip\">\n",
    "\n",
    "\n",
    "* Learn how to non-dimensionalise variables and equations\n",
    "* Understand how to solve the advection-diffusion equation\n",
    "  * Numerical and analytical solutions\n",
    "* Learn how to carry out a dimensional analysis using the Buckingham-\n",
    "Pi theory\n",
    "* Learn how to apply dimensional analysis to stability problems\n"
   ]
  },
  {
   "cell_type": "markdown",
   "metadata": {
    "slideshow": {
     "slide_type": "slide"
    }
   },
   "source": [
    "# Continuum Mechanics\n",
    "\n",
    "\n",
    "* Macroscopic description of the collective behaviour of atoms/molecules in the limit where scale >> scale of the individual components\n",
    "\n",
    "\n",
    "* Treat a material, be it solid, liquid, gas, as hypothetical continuum where all quantities vary continuously so that spatial derivatives exist\n",
    "\n",
    "\n",
    "* In such a treatment, we can consider infinitesimally small volumes of the material and define point quantities, like mass, velocity, stress\n",
    "\n",
    "\n",
    "* Such a description has been found to be applicable in a wide range of problems in engineering and physical sciences\n"
   ]
  },
  {
   "cell_type": "markdown",
   "metadata": {},
   "source": [
    "<img src=\"figures/Examples_1.png\" style=\"width: 800px\">"
   ]
  },
  {
   "cell_type": "markdown",
   "metadata": {
    "slideshow": {
     "slide_type": "subslide"
    }
   },
   "source": [
    "<img src=\"figures/Examples_2.png\" style=\"width: 800px\">"
   ]
  },
  {
   "cell_type": "markdown",
   "metadata": {
    "slideshow": {
     "slide_type": "subslide"
    }
   },
   "source": [
    "\n",
    "\n",
    "<img src=\"figures/Examples_3.png\" style=\"width: 800px\">"
   ]
  },
  {
   "cell_type": "markdown",
   "metadata": {
    "slideshow": {
     "slide_type": "subslide"
    }
   },
   "source": [
    "## No required text\n",
    "\n",
    "*Possible textbooks for additional background*\n",
    "\n",
    "\n",
    "* Introduction to Continuum Mechanics, W.M. Lai, D. Rubin, E. Krempl, $4^{\\text{th}}$ edition, Elsevier – available in electronic form through IC library\n",
    "\n",
    "\n",
    "* An Introduction to Continuum Mechanics, J.N. Reddy, $2^{\\text{nd}}$ edition, Cambridge University Press, 2013\n",
    "\n",
    "\n",
    "*The books use similar notation as this course and cover the mathematical background for first part of this class. Different reading may be suggested for other parts of the course*"
   ]
  },
  {
   "cell_type": "markdown",
   "metadata": {
    "slideshow": {
     "slide_type": "subslide"
    }
   },
   "source": [
    "## Continuum Mechanics Equations\n",
    "\n",
    "\n",
    "**General:**\n",
    "\n",
    "\n",
    "1. <u>Kinematics</u> – describing deformation and velocity without considering forces\n",
    "\n",
    "\n",
    "2. <u>Dynamics</u> – equations that describe force balance, conservation of linear and angular momentum\n",
    "\n",
    "\n",
    "3. <u>Thermodynamics</u> – relations temperature, heat flux, stress, entropy\n",
    "\n",
    "\n",
    "**Material-specific**\n",
    "\n",
    "\n",
    "4. <u>Constitutive equations</u> – relations describing how material properties vary as a function of T,P, tress,.... Such material properties govern dynamics (e.g., density), response to stress (viscosity, elastic parameters), heat transport (thermal conductivity, diffusivity)\n",
    "\n",
    "$$\n",
    "\\Longrightarrow \\textit{Yields a set of Partial Differential Equations that can be\n",
    "solved for displacement, velocity, temperature,...}\n",
    "$$"
   ]
  },
  {
   "cell_type": "markdown",
   "metadata": {
    "slideshow": {
     "slide_type": "subslide"
    }
   },
   "source": [
    "## Partial Differential Equations\n",
    "\n",
    "\n",
    "* **Ordinary Differential Equations** – describe how variables depend on a single independent parameter (e.g., time or distance).\n",
    "\n",
    "    For example:\n",
    "  \n",
    "  \n",
    "$$\n",
    "m \\frac{d^2}{dt^2} = F \\qquad \\textit{Newton's second law}\n",
    "$$\n",
    "\n",
    "\n",
    "* **Partial Differential Equations** – describe how variables depend on several independent parameters (e.g., time, x,y,z coordinates)\n",
    "\n",
    "        For example:\n",
    "        \n",
    "\n",
    "$$\n",
    "\\frac{\\partial T}{\\partial t} = \\kappa \\frac{\\partial^2 T}{\\partial t^2}  \\qquad \\textit{Thermal diffusion equation}\n",
    "$$\n",
    "\n",
    "\n",
    "$$\n",
    "\\partial \\text{ - partial derivative}\n",
    "$$\n"
   ]
  },
  {
   "cell_type": "markdown",
   "metadata": {},
   "source": [
    "## Today: Vectors and Tensors\n",
    "\n",
    "chapter1.ipynb\n",
    "\n",
    "* Revision vectors\n",
    "  \n",
    "  * Addition, linear independence\n",
    "  \n",
    "  * Orthonormal Cartesian bases, transformation\n",
    "  \n",
    "  * Multiplication\n",
    "\n",
    "  * Derivatives, del, div, curl\n",
    "  \n",
    "  \n",
    "* Revision/introduction tensors\n",
    "\n",
    "  * Tensors, rank, stress tensor\n",
    "\n",
    "  * Index notation, summation convention\n",
    "\n",
    "  * Addition, multiplication\n",
    "\n",
    "  * Tensor calculus: gradient $(\\nabla)$, divergence $(\\nabla \\cdot)$, curl  $(\\nabla \\times)$, .."
   ]
  },
  {
   "cell_type": "markdown",
   "metadata": {},
   "source": [
    "# Learning objectives: <a class=\"tocSkip\">\n",
    "\n",
    "\n",
    "* Be able to perform vector/tensor operations (addition, multiplication) on Cartesian orthonormal bases\n",
    "\n",
    "* Be able to do basic vector/tensor calculus (time and space derivatives, divergence, curl of a vector field) on these bases.\n",
    "\n",
    "* Perform transformation of a vector from one Cartesian basis to another.\n",
    "\n",
    "* Understand differences/commonalities between tensor and vector\n",
    "\n",
    "* Familiarity with index notation and Einstein convention\n"
   ]
  },
  {
   "cell_type": "markdown",
   "metadata": {},
   "source": [
    "## Intro Vectors, Tensors\n",
    "\n",
    "\n",
    "Continuum mechanics equations require vectors and tensors. E.g., velocity is a vector, with magnitude and direction in 3-D, and so are forces like gravity.\n",
    "\n",
    "\n",
    "The components of a vector depend on the coordinate system chosen to represent them in. However, the actual size and orientation of the vector is not dependent on the choice of coordinate system\n",
    "\n",
    "<img src=\"figures/Vectors.png\" style=\"width: 800px\">\n",
    "\n",
    "\n"
   ]
  },
  {
   "cell_type": "markdown",
   "metadata": {
    "slideshow": {
     "slide_type": "subslide"
    }
   },
   "source": [
    "## Key characteristics of a vector?\n",
    "\n",
    "\n",
    "1. Anything that is not a scalar\n",
    "2. Has three components\n",
    "3. Has magnitude and direction\n",
    "4. Depends on coordinate frame\n",
    "5. Velocity and rotation are two examples\n",
    "6. Multiplication of two vectors gives anothervector\n",
    "\n",
    "<br>\n",
    "\n",
    "<center><span style=\"color:blue\">Which of these are correct?</span></center>\n"
   ]
  },
  {
   "cell_type": "markdown",
   "metadata": {
    "slideshow": {
     "slide_type": "slide"
    }
   },
   "source": [
    "## Notation\n",
    "\n",
    "\n",
    "* Vectors as $\\mathbf{v}$ or $\\vec{v}$ or $\\overline{v}$\n",
    "\n",
    "\n",
    "* Length of vectors $v$ or $|v|$\n",
    "\n",
    "\n",
    "* Vector in Cartesian components $v_x ,v_y ,v_z$\n",
    "\n",
    "\n",
    "* Index notation $v_i, \\ i = x,y,z$ or $i = 1, 2, 3$\n",
    "\n",
    "\n",
    "* Unit vector along direction of $\\mathbf{v}: \\hat{e}_v = \\frac{\\mathbf{v}}{|v|}$\n",
    "\n",
    "$$ \\mathbf{v} = \\hat{e}|v| $$"
   ]
  },
  {
   "cell_type": "markdown",
   "metadata": {
    "slideshow": {
     "slide_type": "subslide"
    }
   },
   "source": [
    "## Vectors\n",
    "\n",
    "\n",
    "Vectors satisfy certain rules of addition and scalar multiplication,\n",
    "\n",
    "<br>\n",
    "\n",
    "<center>\n",
    "    \n",
    "$$ \\mathbf{a} + \\mathbf{b} = \\mathbf{b} + \\mathbf{a} \\quad \\text{(commutative)}$$\n",
    "    \n",
    "\n",
    "$$ (\\mathbf{a} + \\mathbf{b}) + \\mathbf{c} = \\mathbf{a} + (\\mathbf{b} + \\mathbf{c}) \\quad \\text{(associative)}$$\n",
    "\n",
    "    \n",
    "$$ \\alpha(\\mathbf{a} + \\mathbf{b}) = \\alpha \\mathbf{a} + \\alpha \\mathbf{b} \\quad \\text{(distributive)}$$\n",
    "    \n",
    "    \n",
    "$$ \\mathbf{a} + 0 = \\mathbf{a} \\quad \\text{(zero vector)}$$\n",
    "    \n",
    "    \n",
    "$$ 1 \\cdot \\mathbf{a} = \\mathbf{a} \\cdot 1 \\ ; \\ \\  0 \\cdot \\mathbf{a} = 0 $$\n",
    "    \n",
    "    \n",
    "</center>\n",
    "\n",
    "We will see that similar rules apply to tensors\n",
    "\n",
    "\n",
    "e.g. see [*http://mathworld.wolfram.com/Vector.html*](https://en.wikipedia.org/wiki/Interpolation)"
   ]
  },
  {
   "cell_type": "markdown",
   "metadata": {
    "slideshow": {
     "slide_type": "slide"
    }
   },
   "source": [
    "## Finite Rotation \"Vector\"\n",
    "\n",
    "\n",
    "<img src=\"figures/Rot_vector.png\" style=\"width: 800px\">"
   ]
  },
  {
   "cell_type": "markdown",
   "metadata": {},
   "source": [
    "## Finite Rotation \"Vector\"\n",
    "\n",
    "\n",
    "<img src=\"figures/Rot_vector.png\" style=\"width: 300px\">\n",
    "\n",
    "<img src=\"figures/Rot_vector_1.png\" style=\"width: 600px\">"
   ]
  },
  {
   "cell_type": "markdown",
   "metadata": {
    "slideshow": {
     "slide_type": "slide"
    }
   },
   "source": [
    "## Finite Rotation \"Vector\"\n",
    "\n",
    "\n",
    "<img src=\"figures/Rot_vector.png\" style=\"width: 300px\">\n",
    "\n",
    "<img src=\"figures/Rot_vector_2.png\" style=\"width: 600px\">"
   ]
  },
  {
   "cell_type": "markdown",
   "metadata": {},
   "source": [
    "## Finite Rotation \"Vector\"\n",
    "\n",
    "\n",
    "<center> \n",
    "If a and b are two general vectors, then $ \\mathbf{a} + \\mathbf{b} = \\mathbf{b} + \\mathbf{a} $\n",
    "<p></p>  \n",
    "However, addition of two finite rotations is not commutative.\n",
    "<p></p> \n",
    "Finite rotation is pseudo-vector\n",
    "<p></p>    \n",
    "Infinitesimal rotation is vector\n",
    "    \n",
    "</center>\n",
    "\n",
    "\n",
    "<img src=\"figures/Rot_vector_2.png\" style=\"width: 600px\">"
   ]
  },
  {
   "cell_type": "markdown",
   "metadata": {
    "slideshow": {
     "slide_type": "slide"
    }
   },
   "source": [
    "## Linear independence\n",
    "\n",
    "\n",
    "Vectors $\\mathbf{v}_1$ through $\\mathbf{v}_n$ are linearly dependent if coefficients $c_i$ can be found such that:\n",
    "\n",
    "$$\n",
    "c_1 \\mathbf{v}_1 + c_2 \\mathbf{v}_2 + c_3 \\mathbf{v}_3 + \\ldots + c_n \\mathbf{v}_n = 0 \\\\\n",
    "\\text{where not  } c_i \\neq 0\n",
    "$$\n",
    "\n",
    "1. If two vectors are linearly dependent, they are?\n",
    "\n",
    "2. If three vectors are all linearly dependent, they are?\n",
    "\n",
    "3. Four or more vectors are always linearly dependent\n",
    "\n",
    "\n",
    "<center><span style=\"color:blue\"><em>More in <strong>Exercise 2</strong></em></span></center>\n",
    "\n",
    "<center><em>Important for defining bases, independent solutions to a problem</em></center>\n"
   ]
  },
  {
   "cell_type": "markdown",
   "metadata": {
    "slideshow": {
     "slide_type": "subslide"
    }
   },
   "source": [
    "## Inner product, dot product, scalar product\n",
    "\n",
    "<h3><center><em><strong>Geometric definition</strong></em></center></h3>\n",
    "\n",
    "\n",
    "* $\\mathbf{F} \\cdot \\mathbf{d} = |\\mathbf{F}| |\\mathbf{d}| \\cos{\\theta}$\n",
    "\n",
    "  * scalar,\n",
    "  \n",
    "  * projection of  $\\mathbf{F}$ on $\\mathbf{d}$ times $|\\mathbf{d}|$,\n",
    "  \n",
    "  * $= 0$ if $\\mathbf{F}$ and $\\mathbf{d}$ perpendicular,\n",
    "  \n",
    "  * $\\mathbf{F} \\cdot \\mathbf{d} = \\mathbf{d} \\cdot \\mathbf{F}$\n",
    "\n",
    "\n",
    "\n",
    "* If $\\mathbf{F}$ is force, $\\mathbf{d}$ is displacement, then $\\mathbf{F} \\cdot \\mathbf{d}$ is the work done by the force $\\mathbf{F}$ for displacement $\\mathbf{d}$\n",
    "\n",
    "\n",
    "* $\\pmb{a} \\cdot \\pmb{a} = \\text{length}(\\pmb{a})^2 = |\\pmb{a}|^2$"
   ]
  },
  {
   "cell_type": "code",
   "execution_count": 41,
   "metadata": {},
   "outputs": [
    {
     "data": {
      "application/vnd.jupyter.widget-view+json": {
       "model_id": "8c0da999251e4959b0457de62169a1db",
       "version_major": 2,
       "version_minor": 0
      },
      "image/png": "[encoded data removed]",
      "text/html": [
       "\n",
       "            <div style=\"display: inline-block;\">\n",
       "                <div class=\"jupyter-widgets widget-label\" style=\"text-align: center;\">\n",
       "                     \n",
       "                </div>\n",
       "                <img src='data:image/png;base64,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' width=432.0/>\n",
       "            </div>\n",
       "        "
      ],
      "text/plain": [
       "Canvas(toolbar=Toolbar(toolitems=[('Home', 'Reset original view', 'home', 'home'), ('Back', 'Back to previous …"
      ]
     },
     "metadata": {},
     "output_type": "display_data"
    }
   ],
   "source": [
    "%matplotlib widget\n",
    "\n",
    "fx, fy, dx, dy = sy.symbols(\"F_x F_y d_x d_y\")\n",
    "\n",
    "fig1, ax1 = plt.subplots(ncols=1, num=\" \")\n",
    "\n",
    "# Adjust plot layout to make room for sliders\n",
    "# Sliders for F vector on top \n",
    "# and sliders for d vector on the bottom of the plot\n",
    "plt.subplots_adjust(top=0.85, bottom = 0.25)\n",
    "\n",
    "# Disable tight layout (or sliders will show inside the plot)\n",
    "fig1.set_tight_layout(False)\n",
    "\n",
    "# set initial values\n",
    "f_x0 = 0\n",
    "f_y0 = 1\n",
    "\n",
    "d_x0 = 1\n",
    "d_y0 = 0\n",
    "\n",
    "# Create sliders\n",
    "\n",
    "# Sliders for F vector\n",
    "F_x_slider = mpl_widgets.Slider(\n",
    "    ax=plt.axes([0.2, 0.96, 0.65, 0.04]),\n",
    "    label=f\"${sy.latex(fx)}$\",\n",
    "    valmin=-1,\n",
    "    valmax=1,\n",
    "    valinit=f_x0,\n",
    ")\n",
    "\n",
    "F_y_slider = mpl_widgets.Slider(\n",
    "    ax=plt.axes([0.2, 0.90, 0.65, 0.04]),\n",
    "    label=f\"${sy.latex(fy)}$\",\n",
    "    valmin=-1,\n",
    "    valmax=1,\n",
    "    valinit=f_y0,\n",
    ")\n",
    "\n",
    "# Sliders for d vector\n",
    "d_x_slider = mpl_widgets.Slider(\n",
    "    ax=plt.axes([0.2, 0.1, 0.65, 0.04]),\n",
    "    label=f\"${sy.latex(dx)}$\",\n",
    "    valmin=-1,\n",
    "    valmax=1,\n",
    "    valinit=d_x0,\n",
    ")\n",
    "\n",
    "d_y_slider = mpl_widgets.Slider(\n",
    "    ax=plt.axes([0.2, 0.04, 0.65, 0.04]),\n",
    "    label=f\"${sy.latex(dy)}$\",\n",
    "    valmin=-1,\n",
    "    valmax=1,\n",
    "    valinit=d_y0,\n",
    ")\n",
    "\n",
    "# Define a funtion for updating the plot when a slider changes\n",
    "def update_plot(val=None):\n",
    "    # Get values from sliders\n",
    "    F_x = F_x_slider.val\n",
    "    F_y = F_y_slider.val\n",
    "    d_x = d_x_slider.val\n",
    "    d_y = d_y_slider.val\n",
    "    # Calculate the dot product of the two vectors\n",
    "    c = np.dot([F_x, F_y], [d_x, d_y])\n",
    "    \n",
    "    # Plot the updated vectors (F red, d blue)\n",
    "    ax1.clear()\n",
    "    ax1.quiver(0, 0, F_x, F_y, angles='xy',scale_units='xy',\n",
    "             scale=1, color='b', zorder=10, width=0.005)\n",
    "    ax1.quiver(0, 0, d_x, d_y, angles='xy',scale_units='xy',\n",
    "             scale=1, color='r', zorder=10, width=0.005)\n",
    "    # Plot the dot product as a projection on d vector\n",
    "    ax1.plot([0, c*d_x], [0, c*d_y], 'k', linewidth=5)\n",
    "    \n",
    "    \n",
    "    ax1.set_xlabel('x')\n",
    "    ax1.set_ylabel('y')\n",
    "\n",
    "    ax1.set_xlim(-1.2, 1.2)\n",
    "    ax1.set_ylim(-1.2, 1.2)\n",
    "    \n",
    "    ax1.set_aspect('equal', 'box')\n",
    "    ax1.set_facecolor(\"white\")\n",
    "    \n",
    "    # Update the plot\n",
    "    fig1.canvas.draw_idle()\n",
    "\n",
    "\n",
    "# Callbacks for sliders interaction\n",
    "F_x_slider.on_changed(update_plot)\n",
    "F_y_slider.on_changed(update_plot)\n",
    "d_x_slider.on_changed(update_plot)\n",
    "d_y_slider.on_changed(update_plot)\n",
    "\n",
    "# Display the plot\n",
    "update_plot()\n",
    "plt.show()"
   ]
  },
  {
   "cell_type": "markdown",
   "metadata": {},
   "source": [
    "## Cross product, vector product, outer product\n",
    "\n",
    "<h3><center><em><strong>Geometric definition</strong></em></center></h3>\n",
    "\n",
    "\n",
    "* Example moment:\n",
    "\n",
    "<br>\n",
    "\n",
    "$$ \\mathbf{M} =  \\pmb{a} \\times \\mathbf{F} = a F \\sin{\\phi} \\hat{\\mathbf{e}}_M$$\n",
    "\n",
    "<br>\n",
    "\n",
    "* Properties $\\mathbf{v} \\times \\mathbf{w}$ \n",
    "\n",
    "  * vector,\n",
    "  \n",
    "  * magnitude = area of parallellogram spanned by $\\mathbf{v}, \\mathbf{w}$\n",
    "  \n",
    "  * direction is that of plane normal (right-hand rule),\n",
    "  \n",
    "  * = 0 if $\\mathbf{v}$ and $\\mathbf{w}$ are parallel\n",
    "  \n",
    "  * $\\mathbf{v} \\times \\mathbf{w}$  = - $\\mathbf{w} \\times \\mathbf{v}$ "
   ]
  },
  {
   "cell_type": "code",
   "execution_count": 47,
   "metadata": {},
   "outputs": [
    {
     "data": {
      "application/vnd.jupyter.widget-view+json": {
       "model_id": "7b87693b441b46209d3bf1426b3e2c60",
       "version_major": 2,
       "version_minor": 0
      },
      "image/png": "[encoded data removed]",
      "text/html": [
       "\n",
       "            <div style=\"display: inline-block;\">\n",
       "                <div class=\"jupyter-widgets widget-label\" style=\"text-align: center;\">\n",
       "                     \n",
       "                </div>\n",
       "                <img src='data:image/png;base64,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' width=432.0/>\n",
       "            </div>\n",
       "        "
      ],
      "text/plain": [
       "Canvas(toolbar=Toolbar(toolitems=[('Home', 'Reset original view', 'home', 'home'), ('Back', 'Back to previous …"
      ]
     },
     "metadata": {},
     "output_type": "display_data"
    }
   ],
   "source": [
    "%matplotlib widget\n",
    "\n",
    "fx, fy, fz, dx, dy, dz = sy.symbols(\"F_x F_y F_z d_x d_y d_z\")\n",
    "\n",
    "\n",
    "fig1, ax1 = plt.subplots(ncols=1, subplot_kw={\"projection\": \"3d\"}, num=\" \")\n",
    "\n",
    "# Adjust plot layout to make room for sliders\n",
    "# Sliders for F vector on top \n",
    "# and sliders for d vector on the bottom of the plot\n",
    "plt.subplots_adjust(top=0.85, bottom = 0.25)\n",
    "\n",
    "# Disable tight layout (or sliders will show inside the plot)\n",
    "fig1.set_tight_layout(False)\n",
    "\n",
    "# set initial values\n",
    "f_x0 = 0\n",
    "f_y0 = 1\n",
    "f_z0 = 0\n",
    "\n",
    "d_x0 = 1\n",
    "d_y0 = 0\n",
    "d_z0 = 0\n",
    "\n",
    "# Create sliders\n",
    "\n",
    "# Sliders for F vector\n",
    "F_x_slider = mpl_widgets.Slider(\n",
    "    ax=plt.axes([0.2, 0.96, 0.65, 0.04]),\n",
    "    label=f\"${sy.latex(fx)}$\",\n",
    "    valmin=-1,\n",
    "    valmax=1,\n",
    "    valinit=f_x0,\n",
    ")\n",
    "\n",
    "F_y_slider = mpl_widgets.Slider(\n",
    "    ax=plt.axes([0.2, 0.90, 0.65, 0.04]),\n",
    "    label=f\"${sy.latex(fy)}$\",\n",
    "    valmin=-1,\n",
    "    valmax=1,\n",
    "    valinit=f_y0,\n",
    ")\n",
    "\n",
    "F_z_slider = mpl_widgets.Slider(\n",
    "    ax=plt.axes([0.2, 0.84, 0.65, 0.04]),\n",
    "    label=f\"${sy.latex(fz)}$\",\n",
    "    valmin=-1,\n",
    "    valmax=1,\n",
    "    valinit=f_z0,\n",
    ")\n",
    "\n",
    "# Sliders for d vector\n",
    "d_x_slider = mpl_widgets.Slider(\n",
    "    ax=plt.axes([0.2, 0.16, 0.65, 0.04]),\n",
    "    label=f\"${sy.latex(dx)}$\",\n",
    "    valmin=-1,\n",
    "    valmax=1,\n",
    "    valinit=d_x0,\n",
    ")\n",
    "\n",
    "d_y_slider = mpl_widgets.Slider(\n",
    "    ax=plt.axes([0.2, 0.1, 0.65, 0.04]),\n",
    "    label=f\"${sy.latex(dy)}$\",\n",
    "    valmin=-1,\n",
    "    valmax=1,\n",
    "    valinit=d_y0,\n",
    ")\n",
    "\n",
    "d_z_slider = mpl_widgets.Slider(\n",
    "    ax=plt.axes([0.2, 0.04, 0.65, 0.04]),\n",
    "    label=f\"${sy.latex(dz)}$\",\n",
    "    valmin=-1,\n",
    "    valmax=1,\n",
    "    valinit=d_z0,\n",
    ")\n",
    "\n",
    "# Define a function for updating the plot when a slider changes\n",
    "def update_plot(val=None):\n",
    "    # Get values from sliders\n",
    "    F_x = F_x_slider.val\n",
    "    F_y = F_y_slider.val\n",
    "    F_z = F_z_slider.val\n",
    "    d_x = d_x_slider.val\n",
    "    d_y = d_y_slider.val\n",
    "    d_z = d_z_slider.val\n",
    "    # Calculate the cross product of the two vectors\n",
    "    c = np.cross([F_x, F_y, F_z], [d_x, d_y, d_z])\n",
    "    \n",
    "    # Plot the updated vectors (F red, d blue)\n",
    "    ax1.clear()\n",
    "    ax1.quiver(0, 0, 0, F_x, F_y, F_z, color='b')\n",
    "    ax1.quiver(0, 0, 0, d_x, d_y, d_z, color='r')\n",
    "    # Plot the cross product (green)\n",
    "    ax1.quiver(0, 0, 0, c[0], c[1], c[2], color='g')\n",
    "    \n",
    "    \n",
    "    ax1.set_xlabel('x')\n",
    "    ax1.set_ylabel('y')\n",
    "    ax1.set_zlabel('z')\n",
    "\n",
    "    ax1.set_xlim(-1.2, 1.2)\n",
    "    ax1.set_ylim(-1.2, 1.2)\n",
    "    ax1.set_zlim(-1.2, 1.2)\n",
    "    \n",
    "    ax1.set_facecolor(\"white\")\n",
    "    \n",
    "    # Update the plot\n",
    "    fig1.canvas.draw_idle()\n",
    "\n",
    "\n",
    "# Callbacks for sliders interaction\n",
    "F_x_slider.on_changed(update_plot)\n",
    "F_y_slider.on_changed(update_plot)\n",
    "F_z_slider.on_changed(update_plot)\n",
    "d_x_slider.on_changed(update_plot)\n",
    "d_y_slider.on_changed(update_plot)\n",
    "d_z_slider.on_changed(update_plot)\n",
    "\n",
    "# Display the plot\n",
    "update_plot()\n",
    "plt.show()"
   ]
  },
  {
   "cell_type": "markdown",
   "metadata": {},
   "source": [
    "### Products of vectors\n",
    "\n",
    "\n",
    "<h3><center>Algebraic, in rectangular Cartesian coordinates:</center></h3>\n",
    "\n",
    "\n",
    "<h3><center><strong>in 2D</strong></center></h3>\n",
    "\n",
    "\n",
    "$$ \\mathbf{v} \\cdot \\mathbf{w} = v_1 w_1 + v_2 w_2 \\qquad \\qquad \\mathbf{v} \\times \\mathbf{w} = (v_1 w_1 - v_2 w_2) \\hat{\\mathbf{e}}_3 $$\n",
    "\n",
    "\n",
    "\n",
    "<h3><center><strong>in 3D</strong></center></h3>\n",
    "\n",
    "\n",
    "$$ \\mathbf{v} \\cdot \\mathbf{w} = v_1 w_1 + v_2 w_2 + v_3 w_3 \\qquad \\qquad \\mathbf{v} \\times \\mathbf{w} = \n",
    "\\begin{pmatrix}\n",
    "v_2 w_3 - v_3w_2 \\\\\n",
    "v_3 w_1 - v_1 w_3 \\\\\n",
    "v_1 w_2 - v_2 w_1\n",
    "\\end{pmatrix}\n",
    "$$"
   ]
  },
  {
   "cell_type": "markdown",
   "metadata": {},
   "source": [
    "## Rectangular Cartesian Coordinate System\n",
    "\n",
    "<br>\n",
    "\n",
    "Orthonormal basis – Basis vectors are:\n",
    "<br>\n",
    "  * orthogonal\n",
    "  \n",
    "  $$ \\hat{\\mathbf{e}}_i \\cdot \\hat{\\mathbf{e}}_j = 0 $$\n",
    "  \n",
    "  * and unit length\n",
    "  \n",
    "  $$ \\hat{\\mathbf{e}}_i \\cdot \\hat{\\mathbf{e}}_i = |\\hat{\\mathbf{e}}_i|^2 = 1 $$\n",
    "  \n",
    "  <br>\n",
    "  \n",
    "  <img src=\"figures/Cartesian_basis.png\" style=\"width: 400px\">\n",
    "  \n",
    "  <center>Cartesian – basis vectors with constant length and direction</center>\n",
    "  <br>\n",
    "  <center>In following, we will assume Cartesian orthonormal bases</center>\n",
    "  "
   ]
  },
  {
   "cell_type": "markdown",
   "metadata": {},
   "source": [
    "### Other orthonormal bases, e.g. polar or spherical, not discussed here\n",
    "\n",
    "<img src=\"figures/Other_basis.png\" style=\"width: 800px\">"
   ]
  },
  {
   "cell_type": "markdown",
   "metadata": {},
   "source": [
    "### Equivalence Cartesian geometric and algebraic dot product\n",
    "\n",
    "<br>\n",
    "\n",
    "$$ \\pmb{a} = \\sum_i a_i \\hat{\\mathbf{e}}_i \\qquad \\qquad \\pmb{b} = \\sum_i b_i \\hat{\\mathbf{e}}_i $$\n",
    "\n",
    "<br>\n",
    "\n",
    "$$ \\pmb{a} \\cdot \\hat{\\mathbf{e}}_i = |\\pmb{a}||\\hat{\\mathbf{e}}_i| \\cos{\\theta_i} = |\\pmb{a}|\\cos{\\theta_i} = a_i  $$\n",
    "\n",
    "<br>\n",
    "\n",
    "$$ \\pmb{a} \\cdot \\pmb{b} = \\pmb{a} \\cdot \\sum_i b_i \\hat{\\mathbf{e}}_i = \\sum_i b_i (\\pmb{a} \\cdot \\hat{\\mathbf{e}}_i) = \\sum_i b_i a_i = \\sum_i a_i b_i $$"
   ]
  },
  {
   "cell_type": "markdown",
   "metadata": {},
   "source": [
    "### Cartesian algebraic cross product\n",
    "\n",
    "<br>\n",
    "\n",
    "$$ \\hat{\\mathbf{e}}_i \\times \\hat{\\mathbf{e}}_i = 0 $$\n",
    "\n",
    "<br>\n",
    "\n",
    "$$ \\hat{\\mathbf{e}}_1 \\times \\hat{\\mathbf{e}}_2 = \\hat{\\mathbf{e}}_3 \\qquad \\qquad \\hat{\\mathbf{e}}_2 \\times \\hat{\\mathbf{e}}_1 = - \\hat{\\mathbf{e}}_3 $$\n",
    "$$ \\hat{\\mathbf{e}}_2 \\times \\hat{\\mathbf{e}}_3 = \\hat{\\mathbf{e}}_1 \\qquad \\qquad \\hat{\\mathbf{e}}_3 \\times \\hat{\\mathbf{e}}_2 = - \\hat{\\mathbf{e}}_1 $$\n",
    "$$ \\hat{\\mathbf{e}}_3 \\times \\hat{\\mathbf{e}}_1 = \\hat{\\mathbf{e}}_2 \\qquad \\qquad \\hat{\\mathbf{e}}_1 \\times \\hat{\\mathbf{e}}_3 = - \\hat{\\mathbf{e}}_2 $$\n",
    "\n",
    "\n",
    "In 2D:\n",
    "\n",
    "$$ \\begin{align}\n",
    "\\pmb{a} \\times \\pmb{b} &= (a_1 \\hat{\\mathbf{e}}_1 + a_2 \\hat{\\mathbf{e}}_2) \\times (b_1 \\hat{\\mathbf{e}}_1 + b_2 \\hat{\\mathbf{e}}_2) \\\\\n",
    " &= a_1 b_1 (\\hat{\\mathbf{e}}_1 \\times \\hat{\\mathbf{e}}_1) + a_1 b_2 (\\hat{\\mathbf{e}}_1 \\times \\hat{\\mathbf{e}}_2) + a_2 b_1 (\\hat{\\mathbf{e}}_2 \\times \\hat{\\mathbf{e}}_1) + a_2 b_2 (\\hat{\\mathbf{e}}_2 \\times \\hat{\\mathbf{e}}_2) \\\\\n",
    " &= (a_1 b_2 - a_2 b_1) \\hat{\\mathbf{e}}_3\n",
    "\\end{align}\n",
    "$$\n",
    "\n",
    "<h3><center><strong>in 2D</strong></center></h3>\n",
    "\n",
    "\n",
    "$$ \\mathbf{v} \\cdot \\mathbf{w} = v_1 w_1 + v_2 w_2$$\n",
    "\n",
    "\n",
    "\n",
    "<h3><center><strong>in 3D</strong></center></h3>\n",
    "\n",
    "\n",
    "$$ \\mathbf{v} \\cdot \\mathbf{w} = v_1 w_1 + v_2 w_2 + v_3 w_3 $$"
   ]
  },
  {
   "cell_type": "markdown",
   "metadata": {},
   "source": [
    "### Products of vectors\n",
    "\n",
    "\n",
    "<h3><center>Algebraic, in rectangular Cartesian coordinates:</center></h3>\n",
    "\n",
    "\n",
    "<h3><center><strong>in 2D</strong></center></h3>\n",
    "\n",
    "\n",
    "$$ \\mathbf{v} \\cdot \\mathbf{w} = v_1 w_1 + v_2 w_2 \\qquad \\qquad \\mathbf{v} \\times \\mathbf{w} = (v_1 w_1 - v_2 w_2) \\hat{\\mathbf{e}}_3 $$\n",
    "\n",
    "\n",
    "\n",
    "<h3><center><strong>in 3D</strong></center></h3>\n",
    "\n",
    "\n",
    "$$ \\mathbf{v} \\cdot \\mathbf{w} = v_1 w_1 + v_2 w_2 + v_3 w_3 \\qquad \\qquad \\mathbf{v} \\times \\mathbf{w} = \n",
    "\\begin{pmatrix}\n",
    "v_2 w_3 - v_3w_2 \\\\\n",
    "v_3 w_1 - v_1 w_3 \\\\\n",
    "v_1 w_2 - v_2 w_1\n",
    "\\end{pmatrix}\n",
    "$$"
   ]
  },
  {
   "cell_type": "markdown",
   "metadata": {},
   "source": [
    "### Triple products\n",
    "\n",
    "<br>\n",
    "\n",
    "* $\\pmb{a} (\\pmb{b} \\cdot \\pmb{c}) $ - vector times scalar\n",
    "\n",
    "<br>\n",
    "\n",
    "* scalar triple product  $\\pmb{a} (\\pmb{b} \\times \\pmb{c}) $\n",
    "\n",
    "$$\n",
    "\\begin{align}\n",
    "\\pmb{a} (\\pmb{b} \\times \\pmb{c}) &= (\\pmb{a} \\times \\pmb{b}) \\cdot \\pmb{c} \\\\\n",
    " &= \\pmb{c} \\cdot (\\pmb{a} \\times \\pmb{b}) = \\pmb{b} \\cdot (\\pmb{c} \\times \\pmb{a}) \\quad \\text{(with cyclical permutation)} \\\\\n",
    " &= - \\pmb{a} \\cdot (\\pmb{c} \\times \\pmb{b}) = -\\pmb{c} \\cdot (\\pmb{b} \\times \\pmb{a}) = - \\pmb{b} \\cdot (\\pmb{a} \\times \\pmb{c}) \\quad \\text{(with order changed)} \\\\\n",
    " &= 0 \\quad \\text{if } \\pmb{a}, \\pmb{b}, \\pmb{c} \\text{ coplanar}\n",
    "\\end{align}\n",
    "$$\n",
    "\n",
    "<br>\n",
    "\n",
    "* $\\pmb{a} \\times (\\pmb{b} \\times \\pmb{c}) $ - lies in plane formed by $\\pmb{b} \\times \\pmb{c}$; normal to $\\pmb{a}$\n",
    "\n",
    "$$\n",
    "\\begin{align}\n",
    "\\pmb{a} \\times (\\pmb{b} \\times \\pmb{c}) &\\neq (\\pmb{a} \\times \\pmb{b}) \\times \\pmb{c} \\\\\n",
    " &= (\\pmb{a} \\cdot \\pmb{c}) \\pmb{b} - (\\pmb{a} \\cdot \\pmb{b}) \\pmb{c}\n",
    "\\end{align}\n",
    "$$\n",
    "\n",
    "<br>\n",
    "\n",
    "<center><span style=\"color:blue\"><em>Exercise 8</em></span></center>"
   ]
  },
  {
   "cell_type": "markdown",
   "metadata": {},
   "source": [
    "<h2><center><span style=\"color:red\">Covered so far</span></center></h2>\n",
    "\n",
    "\n",
    "* Revision of main characteristics of a vector\n",
    "<br>\n",
    "\n",
    "* Linear independence of vectors\n",
    "<br>\n",
    "\n",
    "* Vector products: dot product, cross product\n",
    "<br>\n",
    "\n",
    "* Definition Cartesian orthonormal basis"
   ]
  },
  {
   "cell_type": "markdown",
   "metadata": {},
   "source": [
    "<h2><center>Please take a break</center></h2>\n",
    "<h3><center><span style=\"color:blue\">then try yourself</span></center></h3>\n",
    "\n",
    "* If the material covered so far was all familiar, please skip to <span style=\"color:blue\">Exercise 2</span> in the notebook\n",
    "<br>\n",
    "\n",
    "* If you would benefit from recapping vector products, please look at <span style=\"color:green\">Exercise 1</span> first"
   ]
  },
  {
   "cell_type": "code",
   "execution_count": null,
   "metadata": {},
   "outputs": [],
   "source": []
  }
 ],
 "metadata": {
  "celltoolbar": "Slideshow",
  "kernelspec": {
   "display_name": "Python 3",
   "language": "python",
   "name": "python3"
  },
  "language_info": {
   "codemirror_mode": {
    "name": "ipython",
    "version": 3
   },
   "file_extension": ".py",
   "mimetype": "text/x-python",
   "name": "python",
   "nbconvert_exporter": "python",
   "pygments_lexer": "ipython3",
   "version": "3.7.10"
  },
  "latex_envs": {
   "LaTeX_envs_menu_present": true,
   "autoclose": false,
   "autocomplete": true,
   "bibliofile": "biblio.bib",
   "cite_by": "apalike",
   "current_citInitial": 1,
   "eqLabelWithNumbers": true,
   "eqNumInitial": 1,
   "hotkeys": {
    "equation": "Ctrl-E",
    "itemize": "Ctrl-I"
   },
   "labels_anchors": false,
   "latex_user_defs": false,
   "report_style_numbering": false,
   "user_envs_cfg": false
  },
  "toc": {
   "base_numbering": 1,
   "nav_menu": {},
   "number_sections": true,
   "sideBar": true,
   "skip_h1_title": false,
   "title_cell": "Table of Contents",
   "title_sidebar": "Contents",
   "toc_cell": true,
   "toc_position": {},
   "toc_section_display": true,
   "toc_window_display": false
  }
 },
 "nbformat": 4,
 "nbformat_minor": 1
}
