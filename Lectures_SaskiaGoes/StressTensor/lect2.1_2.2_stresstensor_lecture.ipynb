{
 "cells": [
  {
   "cell_type": "code",
   "execution_count": 8,
   "metadata": {},
   "outputs": [
    {
     "data": {
      "text/html": [
       "<style>\n",
       "div.optional {\n",
       "    display: block;\n",
       "    background-color: #d7e2ff;\n",
       "    border-color: #d7e2ff;\n",
       "    border-left: 5px solid #d7e2ff;\n",
       "    padding: 0.5em;\n",
       "}\n",
       "div.advanced {\n",
       "    display: block;\n",
       "    background-color: #fff4d7;\n",
       "    border-color: #fff4d7;\n",
       "    border-left: 5px solid #fff4d7;\n",
       "    padding: 0.5em;\n",
       "}\n",
       "</style>\n"
      ],
      "text/plain": [
       "<IPython.core.display.HTML object>"
      ]
     },
     "metadata": {},
     "output_type": "display_data"
    }
   ],
   "source": [
    "%%html\n",
    "<style>\n",
    "div.optional {\n",
    "    display: block;\n",
    "    background-color: #d7e2ff;\n",
    "    border-color: #d7e2ff;\n",
    "    border-left: 5px solid #d7e2ff;\n",
    "    padding: 0.5em;\n",
    "}\n",
    "div.advanced {\n",
    "    display: block;\n",
    "    background-color: #fff4d7;\n",
    "    border-color: #fff4d7;\n",
    "    border-left: 5px solid #fff4d7;\n",
    "    padding: 0.5em;\n",
    "}\n",
    "</style>"
   ]
  },
  {
   "cell_type": "code",
   "execution_count": 9,
   "metadata": {},
   "outputs": [
    {
     "name": "stdout",
     "output_type": "stream",
     "text": [
      "3.7.10\n"
     ]
    }
   ],
   "source": [
    "from platform import python_version\n",
    "\n",
    "print(python_version())"
   ]
  },
  {
   "cell_type": "code",
   "execution_count": 10,
   "metadata": {},
   "outputs": [
    {
     "name": "stdout",
     "output_type": "stream",
     "text": [
      "module://ipympl.backend_nbagg\n"
     ]
    }
   ],
   "source": [
    "import matplotlib\n",
    "print(matplotlib.get_backend())"
   ]
  },
  {
   "cell_type": "code",
   "execution_count": 11,
   "metadata": {},
   "outputs": [
    {
     "name": "stdout",
     "output_type": "stream",
     "text": [
      "Defaulting to user installation because normal site-packages is not writeable\n",
      "Requirement already satisfied: ipympl in /home/jea4117/.local/lib/python3.7/site-packages (0.9.3)\n",
      "Requirement already satisfied: ipython<9 in /usr/local/lib/python3.7/dist-packages (from ipympl) (7.12.0)\n",
      "Requirement already satisfied: numpy in /home/jea4117/.local/lib/python3.7/site-packages (from ipympl) (1.21.5)\n",
      "Requirement already satisfied: ipywidgets<9,>=7.6.0 in /home/jea4117/.local/lib/python3.7/site-packages (from ipympl) (8.0.7)\n",
      "Requirement already satisfied: traitlets<6 in /home/jea4117/.local/lib/python3.7/site-packages (from ipympl) (5.9.0)\n",
      "Requirement already satisfied: pillow in /usr/local/lib/python3.7/dist-packages (from ipympl) (7.0.0)\n",
      "Requirement already satisfied: ipython-genutils in /usr/local/lib/python3.7/dist-packages (from ipympl) (0.2.0)\n",
      "Requirement already satisfied: matplotlib<4,>=3.4.0 in /home/jea4117/.local/lib/python3.7/site-packages (from ipympl) (3.5.1)\n",
      "Requirement already satisfied: setuptools>=18.5 in /home/jea4117/.local/lib/python3.7/site-packages (from ipython<9->ipympl) (59.5.0)\n",
      "Requirement already satisfied: decorator in /usr/lib/python3/dist-packages (from ipython<9->ipympl) (4.0.6)\n",
      "Requirement already satisfied: prompt-toolkit!=3.0.0,!=3.0.1,<3.1.0,>=2.0.0 in /usr/local/lib/python3.7/dist-packages (from ipython<9->ipympl) (3.0.3)\n",
      "Requirement already satisfied: pygments in /usr/local/lib/python3.7/dist-packages (from ipython<9->ipympl) (2.10.0)\n",
      "Requirement already satisfied: pexpect in /usr/local/lib/python3.7/dist-packages (from ipython<9->ipympl) (4.8.0)\n",
      "Requirement already satisfied: pickleshare in /usr/local/lib/python3.7/dist-packages (from ipython<9->ipympl) (0.7.5)\n",
      "Requirement already satisfied: backcall in /usr/local/lib/python3.7/dist-packages (from ipython<9->ipympl) (0.1.0)\n",
      "Requirement already satisfied: jedi>=0.10 in /usr/local/lib/python3.7/dist-packages (from ipython<9->ipympl) (0.16.0)\n",
      "Requirement already satisfied: ipykernel>=4.5.1 in /usr/local/lib/python3.7/dist-packages (from ipywidgets<9,>=7.6.0->ipympl) (5.1.4)\n",
      "Requirement already satisfied: widgetsnbextension~=4.0.7 in /home/jea4117/.local/lib/python3.7/site-packages (from ipywidgets<9,>=7.6.0->ipympl) (4.0.8)\n",
      "Requirement already satisfied: jupyterlab-widgets~=3.0.7 in /home/jea4117/.local/lib/python3.7/site-packages (from ipywidgets<9,>=7.6.0->ipympl) (3.0.8)\n",
      "Requirement already satisfied: jupyter-client in /home/jea4117/.local/lib/python3.7/site-packages (from ipykernel>=4.5.1->ipywidgets<9,>=7.6.0->ipympl) (7.4.9)\n",
      "Requirement already satisfied: tornado>=4.2 in /home/jea4117/.local/lib/python3.7/site-packages (from ipykernel>=4.5.1->ipywidgets<9,>=7.6.0->ipympl) (6.2)\n",
      "Requirement already satisfied: parso>=0.5.2 in /usr/local/lib/python3.7/dist-packages (from jedi>=0.10->ipython<9->ipympl) (0.6.2)\n",
      "Requirement already satisfied: packaging>=20.0 in /home/jea4117/.local/lib/python3.7/site-packages (from matplotlib<4,>=3.4.0->ipympl) (21.3)\n",
      "Requirement already satisfied: kiwisolver>=1.0.1 in /usr/local/lib/python3.7/dist-packages (from matplotlib<4,>=3.4.0->ipympl) (1.1.0)\n",
      "Requirement already satisfied: fonttools>=4.22.0 in /home/jea4117/.local/lib/python3.7/site-packages (from matplotlib<4,>=3.4.0->ipympl) (4.29.1)\n",
      "Requirement already satisfied: cycler>=0.10 in /usr/local/lib/python3.7/dist-packages (from matplotlib<4,>=3.4.0->ipympl) (0.10.0)\n",
      "Requirement already satisfied: pyparsing>=2.2.1 in /home/jea4117/.local/lib/python3.7/site-packages (from matplotlib<4,>=3.4.0->ipympl) (3.0.7)\n",
      "Requirement already satisfied: python-dateutil>=2.7 in /home/jea4117/.local/lib/python3.7/site-packages (from matplotlib<4,>=3.4.0->ipympl) (2.8.2)\n",
      "Requirement already satisfied: six in /home/jea4117/.local/lib/python3.7/site-packages (from cycler>=0.10->matplotlib<4,>=3.4.0->ipympl) (1.13.0)\n",
      "Requirement already satisfied: wcwidth in /usr/local/lib/python3.7/dist-packages (from prompt-toolkit!=3.0.0,!=3.0.1,<3.1.0,>=2.0.0->ipython<9->ipympl) (0.1.8)\n",
      "Requirement already satisfied: jupyter-core>=4.9.2 in /home/jea4117/.local/lib/python3.7/site-packages (from jupyter-client->ipykernel>=4.5.1->ipywidgets<9,>=7.6.0->ipympl) (4.12.0)\n",
      "Requirement already satisfied: nest-asyncio>=1.5.4 in /home/jea4117/.local/lib/python3.7/site-packages (from jupyter-client->ipykernel>=4.5.1->ipywidgets<9,>=7.6.0->ipympl) (1.5.6)\n",
      "Requirement already satisfied: entrypoints in /usr/local/lib/python3.7/dist-packages (from jupyter-client->ipykernel>=4.5.1->ipywidgets<9,>=7.6.0->ipympl) (0.3)\n",
      "Requirement already satisfied: pyzmq>=23.0 in /home/jea4117/.local/lib/python3.7/site-packages (from jupyter-client->ipykernel>=4.5.1->ipywidgets<9,>=7.6.0->ipympl) (24.0.1)\n",
      "Requirement already satisfied: ptyprocess>=0.5 in /usr/lib/python3/dist-packages (from pexpect->ipython<9->ipympl) (0.5)\n",
      "\u001b[33mWARNING: You are using pip version 21.1.1; however, version 23.2.1 is available.\n",
      "You should consider upgrading via the '/usr/bin/python3 -m pip install --upgrade pip' command.\u001b[0m\n"
     ]
    }
   ],
   "source": [
    "!pip install ipympl"
   ]
  },
  {
   "cell_type": "code",
   "execution_count": null,
   "metadata": {},
   "outputs": [],
   "source": []
  },
  {
   "cell_type": "code",
   "execution_count": 16,
   "metadata": {
    "scrolled": false
   },
   "outputs": [],
   "source": [
    "%matplotlib inline\n",
    "import numpy as np\n",
    "import scipy.linalg as sl\n",
    "# we'll start using sparse matrices here\n",
    "import scipy.sparse as sp\n",
    "# and linear algebra functions designed for sparse matrices\n",
    "import scipy.sparse.linalg as spla\n",
    "import matplotlib.pyplot as plt\n",
    "from pprint import pprint\n",
    "# the following allows us to plot triangles indicating convergence order\n",
    "#from mpltools import annotation\n",
    "# Sympy for symbols rendering\n",
    "import sympy as sy\n",
    "\n",
    "import os\n",
    "\n",
    "\n",
    "from IPython.display import display\n",
    "from ipywidgets import widgets as ipywidgets\n",
    "from matplotlib import cm\n",
    "from matplotlib import widgets as mpl_widgets\n",
    "\n",
    "# font sizes for plots\n",
    "#plt.rcParams['font.size'] = 12\n",
    "#plt.rcParams['font.family'] = 'sans-serif'\n",
    "#plt.rcParams['font.sans-serif'] = ['Arial', 'Dejavu Sans']"
   ]
  },
  {
   "cell_type": "markdown",
   "metadata": {
    "slideshow": {
     "slide_type": "slide"
    }
   },
   "source": [
    "# Modelling and Numerical Methods  <a class=\"tocSkip\">\n",
    "    \n",
    "## Lecture 2  <a class=\"tocSkip\">\n",
    "\n",
    "## Stress and Tensors Kinematics <a class=\"tocSkip\">\n",
    "    \n",
    "    \n",
    "\n"
   ]
  },
  {
   "cell_type": "markdown",
   "metadata": {
    "toc": true
   },
   "source": [
    "<h1>Table of Contents<span class=\"tocSkip\"></span></h1>\n",
    "<div class=\"toc\"><ul class=\"toc-item\"><li><span><a href=\"#Differentiation-(or-taking-a-derivative)---the-continuous-definition\" data-toc-modified-id=\"Differentiation-(or-taking-a-derivative)---the-continuous-definition-1\"><span class=\"toc-item-num\">1&nbsp;&nbsp;</span>Differentiation (or taking a derivative) - the continuous definition</a></span></li><li><span><a href=\"#Finite-differences\" data-toc-modified-id=\"Finite-differences-2\"><span class=\"toc-item-num\">2&nbsp;&nbsp;</span>Finite differences</a></span><ul class=\"toc-item\"><li><span><a href=\"#The-forward-difference\" data-toc-modified-id=\"The-forward-difference-2.1\"><span class=\"toc-item-num\">2.1&nbsp;&nbsp;</span>The forward difference</a></span></li><li><span><a href=\"#Taylor-series-to-estimate-accuracy\" data-toc-modified-id=\"Taylor-series-to-estimate-accuracy-2.2\"><span class=\"toc-item-num\">2.2&nbsp;&nbsp;</span>Taylor series to estimate accuracy</a></span><ul class=\"toc-item\"><li><span><a href=\"#Taylor-series-example-[from-previous-lecture]\" data-toc-modified-id=\"Taylor-series-example-[from-previous-lecture]-2.2.1\"><span class=\"toc-item-num\">2.2.1&nbsp;&nbsp;</span>Taylor series example [from previous lecture]</a></span></li><li><span><a href=\"#Order-of-convergence---higher-generally-better\" data-toc-modified-id=\"Order-of-convergence---higher-generally-better-2.2.2\"><span class=\"toc-item-num\">2.2.2&nbsp;&nbsp;</span>Order of convergence - higher generally better</a></span></li></ul></li><li><span><a href=\"#The-backward-difference\" data-toc-modified-id=\"The-backward-difference-2.3\"><span class=\"toc-item-num\">2.3&nbsp;&nbsp;</span>The backward difference</a></span></li><li><span><a href=\"#The-central-difference\" data-toc-modified-id=\"The-central-difference-2.4\"><span class=\"toc-item-num\">2.4&nbsp;&nbsp;</span>The central difference</a></span></li><li><span><a href=\"#Example:-Write-a-function-to-perform-numerical-differentiation\" data-toc-modified-id=\"Example:-Write-a-function-to-perform-numerical-differentiation-2.5\"><span class=\"toc-item-num\">2.5&nbsp;&nbsp;</span>Example: Write a function to perform numerical differentiation</a></span></li><li><span><a href=\"#Example:-Compute-the-derivative-of-$\\sin(x)$\" data-toc-modified-id=\"Example:-Compute-the-derivative-of-$\\sin(x)$-2.6\"><span class=\"toc-item-num\">2.6&nbsp;&nbsp;</span>Example: Compute the derivative of $\\sin(x)$</a></span></li><li><span><a href=\"#How-small-(or-large)-can-$\\Delta-x$-go?\" data-toc-modified-id=\"How-small-(or-large)-can-$\\Delta-x$-go?-2.7\"><span class=\"toc-item-num\">2.7&nbsp;&nbsp;</span>How small (or large) can $\\Delta x$ go?</a></span><ul class=\"toc-item\"><li><span><a href=\"#Observations\" data-toc-modified-id=\"Observations-2.7.1\"><span class=\"toc-item-num\">2.7.1&nbsp;&nbsp;</span>Observations</a></span></li></ul></li><li><span><a href=\"#Approximating-second-derivatives\" data-toc-modified-id=\"Approximating-second-derivatives-2.8\"><span class=\"toc-item-num\">2.8&nbsp;&nbsp;</span>Approximating second derivatives</a></span></li></ul></li><li><span><a href=\"#Introduction-to-BVPs\" data-toc-modified-id=\"Introduction-to-BVPs-3\"><span class=\"toc-item-num\">3&nbsp;&nbsp;</span>Introduction to BVPs</a></span><ul class=\"toc-item\"><li><span><a href=\"#Problem-non-dimensionalisation\" data-toc-modified-id=\"Problem-non-dimensionalisation-3.1\"><span class=\"toc-item-num\">3.1&nbsp;&nbsp;</span>Problem non-dimensionalisation</a></span></li><li><span><a href=\"#Model-problem---BVP:-steady-state-advection-diffusion\" data-toc-modified-id=\"Model-problem---BVP:-steady-state-advection-diffusion-3.2\"><span class=\"toc-item-num\">3.2&nbsp;&nbsp;</span>Model problem - BVP: steady-state advection-diffusion</a></span><ul class=\"toc-item\"><li><span><a href=\"#Observations\" data-toc-modified-id=\"Observations-3.2.1\"><span class=\"toc-item-num\">3.2.1&nbsp;&nbsp;</span>Observations</a></span></li></ul></li><li><span><a href=\"#Methods-for-solving-BVPs\" data-toc-modified-id=\"Methods-for-solving-BVPs-3.3\"><span class=\"toc-item-num\">3.3&nbsp;&nbsp;</span>Methods for solving BVPs</a></span></li><li><span><a href=\"#Defining-a-grid-(or-mesh)\" data-toc-modified-id=\"Defining-a-grid-(or-mesh)-3.4\"><span class=\"toc-item-num\">3.4&nbsp;&nbsp;</span>Defining a grid (or mesh)</a></span></li><li><span><a href=\"#Dealing-with-Dirichlet-boundary-conditions\" data-toc-modified-id=\"Dealing-with-Dirichlet-boundary-conditions-3.5\"><span class=\"toc-item-num\">3.5&nbsp;&nbsp;</span>Dealing with Dirichlet boundary conditions</a></span></li><li><span><a href=\"#Solving-the-diffusion-equation\" data-toc-modified-id=\"Solving-the-diffusion-equation-3.6\"><span class=\"toc-item-num\">3.6&nbsp;&nbsp;</span>Solving the diffusion equation</a></span><ul class=\"toc-item\"><li><span><a href=\"#Observations\" data-toc-modified-id=\"Observations-3.6.1\"><span class=\"toc-item-num\">3.6.1&nbsp;&nbsp;</span>Observations</a></span></li></ul></li></ul></li><li><span><a href=\"#The-time-independent-(steady)-advection-diffusion-problem\" data-toc-modified-id=\"The-time-independent-(steady)-advection-diffusion-problem-4\"><span class=\"toc-item-num\">4&nbsp;&nbsp;</span>The time-independent (steady) advection-diffusion problem</a></span><ul class=\"toc-item\"><li><span><a href=\"#Discretisation-choices-for-advection-and-diffusion\" data-toc-modified-id=\"Discretisation-choices-for-advection-and-diffusion-4.1\"><span class=\"toc-item-num\">4.1&nbsp;&nbsp;</span>Discretisation choices for advection and diffusion</a></span><ul class=\"toc-item\"><li><span><a href=\"#Observations\" data-toc-modified-id=\"Observations-4.1.1\"><span class=\"toc-item-num\">4.1.1&nbsp;&nbsp;</span>Observations</a></span></li><li><span><a href=\"#More-observations\" data-toc-modified-id=\"More-observations-4.1.2\"><span class=\"toc-item-num\">4.1.2&nbsp;&nbsp;</span>More observations</a></span></li></ul></li><li><span><a href=\"#Upwind-for-advection\" data-toc-modified-id=\"Upwind-for-advection-4.2\"><span class=\"toc-item-num\">4.2&nbsp;&nbsp;</span>Upwind for advection</a></span><ul class=\"toc-item\"><li><span><a href=\"#Observations\" data-toc-modified-id=\"Observations-4.2.1\"><span class=\"toc-item-num\">4.2.1&nbsp;&nbsp;</span>Observations</a></span></li></ul></li><li><span><a href=\"#Analysis-of-the-upwind-scheme-[$\\star$]\" data-toc-modified-id=\"Analysis-of-the-upwind-scheme-[$\\star$]-4.3\"><span class=\"toc-item-num\">4.3&nbsp;&nbsp;</span>Analysis of the upwind scheme [$\\star$]</a></span></li><li><span><a href=\"#Practicalities!\" data-toc-modified-id=\"Practicalities!-4.4\"><span class=\"toc-item-num\">4.4&nbsp;&nbsp;</span>Practicalities!</a></span></li></ul></li><li><span><a href=\"#The-time-dependent-(unsteady)-advection-diffusion-problem\" data-toc-modified-id=\"The-time-dependent-(unsteady)-advection-diffusion-problem-5\"><span class=\"toc-item-num\">5&nbsp;&nbsp;</span>The time-dependent (unsteady) advection-diffusion problem</a></span><ul class=\"toc-item\"><li><span><a href=\"#The-equation-in-higher-spatial-dimensions-[$\\star$]\" data-toc-modified-id=\"The-equation-in-higher-spatial-dimensions-[$\\star$]-5.1\"><span class=\"toc-item-num\">5.1&nbsp;&nbsp;</span>The equation in higher spatial dimensions [$\\star$]</a></span></li><li><span><a href=\"#Non-dimensionalisation\" data-toc-modified-id=\"Non-dimensionalisation-5.2\"><span class=\"toc-item-num\">5.2&nbsp;&nbsp;</span>Non-dimensionalisation</a></span></li><li><span><a href=\"#The-Method-of-Lines\" data-toc-modified-id=\"The-Method-of-Lines-5.3\"><span class=\"toc-item-num\">5.3&nbsp;&nbsp;</span>The Method of Lines</a></span><ul class=\"toc-item\"><li><span><a href=\"#Defining-a-spatial-grid\" data-toc-modified-id=\"Defining-a-spatial-grid-5.3.1\"><span class=\"toc-item-num\">5.3.1&nbsp;&nbsp;</span>Defining a spatial grid</a></span></li></ul></li><li><span><a href=\"#Discretising-in-space\" data-toc-modified-id=\"Discretising-in-space-5.4\"><span class=\"toc-item-num\">5.4&nbsp;&nbsp;</span>Discretising in space</a></span><ul class=\"toc-item\"><li><span><a href=\"#Including-Dirichlet-boundary-conditions\" data-toc-modified-id=\"Including-Dirichlet-boundary-conditions-5.4.1\"><span class=\"toc-item-num\">5.4.1&nbsp;&nbsp;</span>Including Dirichlet boundary conditions</a></span></li><li><span><a href=\"#The-initial-condition\" data-toc-modified-id=\"The-initial-condition-5.4.2\"><span class=\"toc-item-num\">5.4.2&nbsp;&nbsp;</span>The initial condition</a></span></li><li><span><a href=\"#The-(semi-)-discretised-system\" data-toc-modified-id=\"The-(semi-)-discretised-system-5.4.3\"><span class=\"toc-item-num\">5.4.3&nbsp;&nbsp;</span>The (semi-) discretised system</a></span></li></ul></li><li><span><a href=\"#The-semi-disrete-matrix-system\" data-toc-modified-id=\"The-semi-disrete-matrix-system-5.5\"><span class=\"toc-item-num\">5.5&nbsp;&nbsp;</span>The semi-disrete matrix system</a></span></li><li><span><a href=\"#Discretising-in-time\" data-toc-modified-id=\"Discretising-in-time-5.6\"><span class=\"toc-item-num\">5.6&nbsp;&nbsp;</span>Discretising in time</a></span><ul class=\"toc-item\"><li><span><a href=\"#Forward-Euler\" data-toc-modified-id=\"Forward-Euler-5.6.1\"><span class=\"toc-item-num\">5.6.1&nbsp;&nbsp;</span>Forward Euler</a></span></li><li><span><a href=\"#Observations\" data-toc-modified-id=\"Observations-5.6.2\"><span class=\"toc-item-num\">5.6.2&nbsp;&nbsp;</span>Observations</a></span></li></ul></li><li><span><a href=\"#Example---advection-diffusion-of-a-Gaussian\" data-toc-modified-id=\"Example---advection-diffusion-of-a-Gaussian-5.7\"><span class=\"toc-item-num\">5.7&nbsp;&nbsp;</span>Example - advection-diffusion of a Gaussian</a></span><ul class=\"toc-item\"><li><span><a href=\"#Observations\" data-toc-modified-id=\"Observations-5.7.1\"><span class=\"toc-item-num\">5.7.1&nbsp;&nbsp;</span>Observations</a></span></li></ul></li><li><span><a href=\"#Periodic-boundaries\" data-toc-modified-id=\"Periodic-boundaries-5.8\"><span class=\"toc-item-num\">5.8&nbsp;&nbsp;</span>Periodic boundaries</a></span><ul class=\"toc-item\"><li><span><a href=\"#Comments\" data-toc-modified-id=\"Comments-5.8.1\"><span class=\"toc-item-num\">5.8.1&nbsp;&nbsp;</span>Comments</a></span></li></ul></li></ul></li><li><span><a href=\"#Stability-considerations-(a-summary)\" data-toc-modified-id=\"Stability-considerations-(a-summary)-6\"><span class=\"toc-item-num\">6&nbsp;&nbsp;</span>Stability considerations (a summary)</a></span><ul class=\"toc-item\"><li><span><a href=\"#Cell-Peclet-number\" data-toc-modified-id=\"Cell-Peclet-number-6.1\"><span class=\"toc-item-num\">6.1&nbsp;&nbsp;</span>Cell Peclet number</a></span></li><li><span><a href=\"#The-Courant-number-and-the-CFL-condition\" data-toc-modified-id=\"The-Courant-number-and-the-CFL-condition-6.2\"><span class=\"toc-item-num\">6.2&nbsp;&nbsp;</span>The Courant number and the CFL condition</a></span></li><li><span><a href=\"#The-CFL-condition---a-physical-interpretation-[$\\star$]\" data-toc-modified-id=\"The-CFL-condition---a-physical-interpretation-[$\\star$]-6.3\"><span class=\"toc-item-num\">6.3&nbsp;&nbsp;</span>The CFL condition - a physical interpretation [$\\star$]</a></span></li><li><span><a href=\"#The-r-number/parameter-for-diffusion\" data-toc-modified-id=\"The-r-number/parameter-for-diffusion-6.4\"><span class=\"toc-item-num\">6.4&nbsp;&nbsp;</span>The r-number/parameter for diffusion</a></span></li><li><span><a href=\"#Other-time-stepping-options\" data-toc-modified-id=\"Other-time-stepping-options-6.5\"><span class=\"toc-item-num\">6.5&nbsp;&nbsp;</span>Other time stepping options</a></span></li></ul></li><li><span><a href=\"#Final-comments\" data-toc-modified-id=\"Final-comments-7\"><span class=\"toc-item-num\">7&nbsp;&nbsp;</span>Final comments</a></span></li></ul></div>"
   ]
  },
  {
   "cell_type": "markdown",
   "metadata": {
    "slideshow": {
     "slide_type": "slide"
    }
   },
   "source": [
    "# Learning objectives: <a class=\"tocSkip\">\n",
    "\n",
    "\n",
    "* Understand meaning of different components of 3D Cauchy stress tensor\n",
    "\n",
    "* Know how to determine state of stress on given plane\n",
    "\n",
    "* Be able to decompose a rank 2 tensor into symmetric and anti-symmetric components\n",
    "\n",
    "* Be able to transform rank 2 tensor to a new basis.\n",
    "\n",
    "* Be able to determine shear and normal stresses on a plane\n"
   ]
  },
  {
   "cell_type": "markdown",
   "metadata": {
    "slideshow": {
     "slide_type": "slide"
    }
   },
   "source": [
    "## Cauchy Stress\n",
    "\n",
    "\n",
    "Stress in a point, measured in medium as deformed by the stress experienced.\n",
    "<br>\n",
    "\n",
    "<img src=\"figures/Stress_1.png\" style=\"width: 800px\">\n",
    "<br>\n",
    "\n",
    "forces introduce a state of stress in a body\n",
    "\n",
    "*(Other stress measures, e.g., Piola-Kirchhoff tensor, used in Lagrangian formulations)*"
   ]
  },
  {
   "cell_type": "markdown",
   "metadata": {},
   "source": [
    "\n",
    "<img src=\"figures/Stress_2.png\" style=\"width: 400px\">\n",
    "\n",
    "\n",
    "* traction, stress vector $\\mathbf{t_1} = \\mathbf{t}(\\hat{\\mathbf{n}}_1) = \\lim_{\\Delta A \\to 0} \\frac{ \\Delta \\mathbf{f}}{\\Delta A_1}$\n",
    "\n",
    "\n",
    "$$ \\mathbf{t_1} = (\\sigma_{11}, \\sigma_{12}, \\sigma_{13}) $$\n",
    "\n",
    "<br>\n",
    "\n",
    "* Need nine components to fully describe the stress\n",
    "<br>\n",
    "\n",
    "\n",
    "<center>\n",
    "$\\sigma_{11}, \\sigma_{12}, \\sigma_{13}$ for $\\Delta A_1$\n",
    "<br>\n",
    "$\\sigma_{21}, \\sigma_{22}, \\sigma_{23}$ for $\\Delta A_2$\n",
    "<br>\n",
    "$\\sigma_{31}, \\sigma_{32}, \\sigma_{33}$ for $\\Delta A_3$\n",
    "<br>\n",
    "<br>\n",
    "first index = orientation of plane\n",
    "<br>\n",
    "second index = orientation of force\n",
    "<br>\n",
    "<br>\n",
    "<em>Are nine components sufficient?</em>\n",
    "</center>"
   ]
  },
  {
   "cell_type": "markdown",
   "metadata": {
    "slideshow": {
     "slide_type": "subslide"
    }
   },
   "source": [
    "## Plane area as a vector\n",
    "\n",
    "The area of plane $S$ can be defined in terms of vectors assuming $S_0$ and $\\theta$ are known.\n",
    "\n",
    "<img src=\"figures/Plane_area_vector.png\" style=\"width: 200px\">\n",
    "\n",
    "\n",
    "$$ \\mathbf{S} = S \\hat{\\mathbf{n}}$$\n",
    "\n",
    "\n",
    "$$ S_0 = \\mathbf{S} \\cdot \\hat{\\mathbf{n}} = S \\hat{\\mathbf{n}} \\cdot \\hat{\\mathbf{n}}_0 = S \\cos{\\theta} $$\n",
    "\n",
    "\n",
    "$$ \\Rightarrow S = S_0 / \\cos{\\theta}$$"
   ]
  },
  {
   "cell_type": "markdown",
   "metadata": {
    "slideshow": {
     "slide_type": "subslide"
    }
   },
   "source": [
    "*Are nine components sufficient?*\n",
    "\n",
    "<br>\n",
    "Demonstrate with equilibrium for a tetrahedron\n",
    "\n",
    "<img src=\"figures/Stress_components_1.png\" style=\"width: 300px\">\n",
    "\n",
    "Given: stress on $A_1, A_2, A_3$\n",
    "\n",
    "Find: $\\mathbf{t}(\\hat{\\mathbf{n}})$\n",
    "\n",
    "<img src=\"figures/Stress_components_2.png\" style=\"width: 300px\">\n",
    "\n",
    "<center>\n",
    "1. $\\hat{\\mathbf{n}} = - \\hat{\\mathbf{x}}_1$, $\\Delta A_1 = \\Delta A \\cos{\\theta_1}$\n",
    "<br>\n",
    "<br>\n",
    "2. $\\hat{\\mathbf{n}} = - \\hat{\\mathbf{x}}_2$, $\\Delta A_2 = \\Delta A \\cos{\\theta_2}$\n",
    "<br>\n",
    "<br>\n",
    "3. $\\hat{\\mathbf{n}} = - \\hat{\\mathbf{x}}_3$, $\\Delta A_3 = \\Delta A \\cos{\\theta_3}$\n",
    "<br>\n",
    "<br>\n",
    "4. $\\hat{\\mathbf{n}} = (n_1, n_2, n_3)$, $n_i = \\cos{\\theta_i}$, $\\Delta A_4 = \\Delta A$\n",
    "</center>\n",
    "\n",
    "<br>\n",
    "\n",
    "$$ \\sum f_1 = t_1 \\Delta A - \\sigma_{11} \\Delta A \\cos{\\theta_1} - \\sigma_{21} \\Delta A \\cos{\\theta_2} - \\sigma_{31} \\Delta A \\cos{\\theta_3} = 0 $$"
   ]
  },
  {
   "cell_type": "markdown",
   "metadata": {
    "slideshow": {
     "slide_type": "subslide"
    }
   },
   "source": [
    "$$ \\sum f_1 = t_1 \\Delta A - \\sigma_{11} \\Delta A \\cos{\\theta_1} - \\sigma_{21} \\Delta A \\cos{\\theta_2} - \\sigma_{31} \\Delta A \\cos{\\theta_3} = 0 $$\n",
    "\n",
    "\n",
    "<img src=\"figures/Stress_components_3.png\" style=\"width: 300px\">\n",
    "\n",
    "this gives: \n",
    "\n",
    "$$ t_1 = \\sigma_{11} n_1 + \\sigma_{21} n_2 + \\sigma_{31} n_3 $$\n",
    "<br>\n",
    "\n",
    "similarly:\n",
    "\n",
    "$$ t_2 = \\sigma_{12} n_1 + \\sigma_{22} n_2 + \\sigma_{32} n_3 $$\n",
    "$$ t_3 = \\sigma_{13} n_1 + \\sigma_{23} n_2 + \\sigma_{33} n_3 $$\n",
    "<br>\n",
    "<br>\n",
    "\n",
    "$$\\Rightarrow t_i = \\sigma_{ji} n_j \\qquad \\text{(Einstein convention)}$$\n",
    "<br>\n",
    "<br>\n",
    "\n",
    "\n",
    "<center>\n",
    "<em>\n",
    "How many stress components required in 2D?    \n",
    "</em>\n",
    "</center>"
   ]
  },
  {
   "cell_type": "markdown",
   "metadata": {
    "slideshow": {
     "slide_type": "subslide"
    }
   },
   "source": [
    "## 3-D Stress State\n",
    "\n",
    "\n",
    "\n",
    "<img src=\"figures/Stress_3D.png\" style=\"width: 600px\">\n",
    "\n",
    "<center>\n",
    "first index = orientation of plane\n",
    "<br>\n",
    "second index = orientation of force\n",
    "<br>\n",
    "<br>\n",
    "<em>Positive if force in direction of normal (as shown)</em>\n",
    "</center>"
   ]
  },
  {
   "cell_type": "markdown",
   "metadata": {
    "slideshow": {
     "slide_type": "subslide"
    }
   },
   "source": [
    "## Partial Differential Equations\n",
    "\n",
    "\n",
    "\n",
    "$$ \\underbrace{t_i = \\sigma_{ji} n_j}_{\\text{Note: unusual index order}} \\qquad \\qquad \\mathbf{t} = \\boldsymbol{\\sigma}^{T} \\cdot \\hat{\\mathbf{n}} \\qquad \\qquad \\text{Transpose: } \\sigma_{ji} = \\sigma_{ij}^T$$\n",
    "<br>\n",
    "<br>\n",
    "$$ \\text{in matrix notation: }  \\mathbf{t} = \n",
    "\\begin{bmatrix} \n",
    "\\sigma_{11} & \\sigma_{12} & \\sigma_{13} \\\\\n",
    "\\sigma_{21} & \\sigma_{22} & \\sigma_{23} \\\\\n",
    "\\sigma_{31} & \\sigma_{32} & \\sigma_{33}\n",
    "\\end{bmatrix}\n",
    "\\cdot \\hat{\\mathbf{n}}\n",
    "$$\n",
    "<br>\n",
    "<br>\n",
    "<center>\n",
    "    $\\mathbf{t}$ and $\\hat{\\mathbf{n}}$ - tensors of rank 1 (vectors) in 3-D\n",
    "    <br>\n",
    "    $\\underline{\\underline{\\boldsymbol{\\sigma}}}$ - tensor of rank 2 in 3-D\n",
    "</center>\n",
    "<br>\n",
    "<br>\n",
    "<center>\n",
    "    compression - negative $\\qquad \\qquad$ $\\sigma_{ji}$ where $i = j$ - normal stresses\n",
    "    <br>\n",
    "    tension - positive $\\qquad \\qquad$ $\\sigma_{ji}$ where $i \\neq j$ - shear stresses\n",
    "</center>\n",
    "<br>\n",
    "<br>\n",
    "<center>\n",
    "    <strong>rank 2 tensors</strong> can be written as <strong>square matrices</strong> and have algebraic properties similar to some of those of matrices.\n",
    "</center>\n",
    "\n"
   ]
  },
  {
   "cell_type": "markdown",
   "metadata": {},
   "source": [
    "## Stress components\n",
    "\n",
    "\n",
    "\n",
    "<img src=\"figures/Stress_3D.png\" style=\"width: 400px\">\n",
    "\n",
    "\n",
    "$$ \\text{traction on a plane: }  \\mathbf{t} = \n",
    "\\begin{bmatrix} \n",
    "\\sigma_{11} & \\sigma_{12} & \\sigma_{13} \\\\\n",
    "\\sigma_{21} & \\sigma_{22} & \\sigma_{23} \\\\\n",
    "\\sigma_{31} & \\sigma_{32} & \\sigma_{33}\n",
    "\\end{bmatrix}\n",
    "\\cdot \\hat{\\mathbf{n}}\n",
    "$$\n",
    "<br>\n",
    "<br>\n",
    "<center>\n",
    "    <span style=\"color:blue\">what is (1) </span> $\\hat{\\mathbf{e}}_1 \\cdot \\mathbf{t} = \\hat{\\mathbf{e}}_1 \\cdot \\boldsymbol{\\sigma}^T \\cdot \\hat{\\mathbf{n}}$  <span style=\"color:blue\">?</span>\n",
    "    <br>\n",
    "    <br>\n",
    "    <span style=\"color:blue\">what is (2) </span> $\\hat{\\mathbf{e}}_1 \\cdot \\boldsymbol{\\sigma}^T \\cdot \\hat{\\mathbf{e}}_1$ <span style=\"color:blue\">?</span>$\\qquad$<span style=\"color:blue\">what is (3) </span> $\\hat{\\mathbf{e}}_1 \\cdot \\boldsymbol{\\sigma}^T \\cdot \\hat{\\mathbf{e}}_2$ <span style=\"color:blue\">?</span>\n",
    "</center>\n"
   ]
  },
  {
   "cell_type": "markdown",
   "metadata": {},
   "source": [
    "## Tensor symmetry\n",
    "\n",
    "\n",
    "*A tensor can be symmetric in one or more indices*\n",
    "\n",
    "\n",
    "For rank 2:\n",
    "\n",
    "\n",
    "$$ S_{ij} = S_{ji} \\Rightarrow \\mathbf{S} = \\mathbf{S}^T \\qquad \\text{symmetric} $$\n",
    "\n",
    "\n",
    "$$ S_{ij} = -S_{ji} \\Rightarrow \\mathbf{S} = -\\mathbf{S}^T \\qquad \\text{antisymmetric} $$\n",
    "\n",
    "\n",
    "\n",
    "Higher rank:\n",
    "\n",
    "\n",
    "$$ \\text{e.g., } S_{ijk} = S_{jik} \\text{ for all } i,j,k \\Rightarrow \\text{ symmetric in } i,j $$\n",
    "\n",
    "<br>\n",
    "\n",
    "antisymmetric $\\mathbf{T}$ of rank 2\n",
    "\n",
    "\n",
    "<center>\n",
    "    <em><span style=\"color:blue\">Write out general antisymmetric $\\mathbf{T}$ rank2, $n=3 \\rightarrow $ how many independent components? </span></em>\n",
    "</center>\n",
    "\n",
    "<br>\n",
    "\n",
    "symmetric $\\mathbf{T}$ of rank 2\n",
    "<center>\n",
    "    has $\\frac{n(n+1)}{2}$ independent components\n",
    "</center>\n",
    "\n",
    "<br>\n",
    "\n",
    "Any $\\mathbf{T}$ of rank 2 can be decomposed in symm. and antisymm. part:\n",
    "\n",
    "$$ T_{ij} = \\frac{1}{2} \\left(T_{ij} + T_{ji} \\right) + \\frac{1}{2} \\left(T_{ij} - T_{ji} \\right) $$"
   ]
  },
  {
   "cell_type": "markdown",
   "metadata": {},
   "source": [
    "## Tensor symmetry\n",
    "\n",
    "\n",
    "*A tensor can be symmetric in one or more indices*\n",
    "\n",
    "\n",
    "For rank 2:\n",
    "\n",
    "\n",
    "$$ S_{ij} = S_{ji} \\Rightarrow \\mathbf{S} = \\mathbf{S}^T \\qquad \\text{symmetric} $$\n",
    "\n",
    "\n",
    "$$ S_{ij} = -S_{ji} \\Rightarrow \\mathbf{S} = -\\mathbf{S}^T \\qquad \\text{antisymmetric} $$\n",
    "\n",
    "\n",
    "\n",
    "Higher rank:\n",
    "\n",
    "\n",
    "$$ \\text{e.g., } S_{ijk} = S_{jik} \\text{ for all } i,j,k \\Rightarrow \\text{ symmetric in } i,j $$\n",
    "\n",
    "<br>\n",
    "\n",
    "antisymmetric $\\mathbf{T}$ of rank 2\n",
    "\n",
    "\n",
    "<center>\n",
    "    <em><span style=\"color:blue\">$ \\rightarrow T_{ij} = 0$ for $i = j$, $\\text{trace}(\\mathbf{T}) = 0$ </span></em>\n",
    "    <br>\n",
    "    <em><span style=\"color:blue\">has $\\frac{n(n-1)}{2}$ independent components</span></em>\n",
    "</center>\n",
    "\n",
    "<br>\n",
    "\n",
    "symmetric $\\mathbf{T}$ of rank 2\n",
    "<center>\n",
    "    has $\\frac{n(n+1)}{2}$ independent components\n",
    "</center>\n",
    "\n",
    "<br>\n",
    "\n",
    "Any $\\mathbf{T}$ of rank 2 can be decomposed in symm. and antisymm. part:\n",
    "\n",
    "$$ T_{ij} = \\frac{1}{2} \\left(T_{ij} + T_{ji} \\right) + \\frac{1}{2} \\left(T_{ij} - T_{ji} \\right) $$"
   ]
  },
  {
   "cell_type": "markdown",
   "metadata": {
    "slideshow": {
     "slide_type": "subslide"
    }
   },
   "source": [
    "## Symmetry of the stress tensor\n",
    "\n",
    "\n",
    "\n",
    "<img src=\"figures/Stress_couples.png\" style=\"width: 600px\">\n",
    "<br>\n",
    "<center>\n",
    "    <strong>assuming static equilibrium</strong>\n",
    "    <br><br>\n",
    "    <em><span style=\"color:blue\">balance of moments in x 3 direction</span></em>\n",
    "</center>\n"
   ]
  },
  {
   "cell_type": "markdown",
   "metadata": {
    "slideshow": {
     "slide_type": "slide"
    }
   },
   "source": [
    "*A balance of moments in x 3 direction:*\n",
    "\n",
    "$$ m_3 = \\overbrace{\\left( \\sigma_{12} + \\left( \\sigma_{12} + \\Delta x_1 \\frac{\\partial \\sigma_{12}}{\\partial x_1}\\right) \\right)}^{\\text{stress couple 1}} \\overbrace{\\Delta x_2 \\Delta x_3}^{\\text{area 1}} \\cdot \\overbrace{\\frac{\\Delta x_1}{2}}^{\\text{arm 1}} - \\underbrace{\\left( \\sigma_{21} + \\left( \\sigma_{21} + \\Delta x_1 \\frac{\\partial \\sigma_{21}}{\\partial x_2}\\right) \\right)}_{\\text{stress couple 2}} \\underbrace{\\Delta x_1 \\Delta x_3}_{\\text{area 2}} \\cdot \\underbrace{\\frac{\\Delta x_2}{2}}_{\\text{arm 2}} = 0 $$\n",
    "\n",
    "<br>\n",
    "\n",
    "$$ \\Rightarrow \\left( 2 \\sigma_{12} + \\Delta x_1 \\frac{\\partial \\sigma_{12}}{\\partial x_1}\\right) - \\left( 2 \\sigma_{21} + \\Delta x_2 \\frac{\\partial \\sigma_{21}}{\\partial x_2}\\right) = 0 $$\n",
    "\n",
    "<br>\n",
    "\n",
    "$$ \\lim_{\\Delta x_1, \\Delta x_1 \\to 0} \\Rightarrow \\sigma_{12} = \\sigma_{21} $$\n",
    "\n",
    "<center>\n",
    "    Balancing $m_1$ and $m_2$: $\\sigma_{23} = \\sigma{32}$ and $\\sigma_{13} = \\sigma{31}$\n",
    "    <br>\n",
    "    <br>\n",
    "    thus, the stress tensor is <strong>symmetric</strong>\n",
    "</center>\n",
    "\n",
    "\n",
    "$$ \\mathbf{t} = \\boldsymbol{\\sigma}^T \\cdot \\hat{\\mathbf{n}} \\Rightarrow \\mathbf{t} = \\boldsymbol{\\sigma} \\cdot \\hat{\\mathbf{n}} $$"
   ]
  },
  {
   "cell_type": "markdown",
   "metadata": {
    "slideshow": {
     "slide_type": "subslide"
    }
   },
   "source": [
    "<h2><center><span style=\"color:blue\">Take a break</span></center></h2>\n",
    "\n",
    "Then <span style=\"color:blue\">try Exercises 1 \\& 2</span> in the notebook <em>(chapter2.ipynb)</em>\n",
    "<br>\n"
   ]
  },
  {
   "cell_type": "markdown",
   "metadata": {
    "slideshow": {
     "slide_type": "slide"
    }
   },
   "source": [
    "# Learning objectives: <a class=\"tocSkip\">\n",
    "\n",
    "\n",
    "* <span style=\"color:gray\">Understand meaning of different components of 3D Cauchy stress tensor</span>\n",
    "\n",
    "* <span style=\"color:gray\">Know how to determine state of stress on given plane</span>\n",
    "\n",
    "* <span style=\"color:gray\">Be able to decompose a rank 2 tensor into symmetric and anti-symmetric components</span>\n",
    "\n",
    "* <span style=\"color:blue\">Be able to transform rank 2 tensor to a new basis.</span>\n",
    "\n",
    "* <span style=\"color:blue\">Be able to determine shear and normal stresses on a plane</span>"
   ]
  },
  {
   "cell_type": "markdown",
   "metadata": {},
   "source": [
    "physical parameters should not depend on coordinate frame\n",
    "<br>\n",
    "\n",
    "$\\rightarrow$ **tensors follow linear transformation laws**\n",
    "\n",
    "<br>\n",
    "\n",
    "<img src=\"figures/Vector_transformation1.png\" style=\"width: 200px\">\n",
    "\n",
    "for vectors on orthonormal basis:\n",
    "$$\n",
    "\\mathbf{v}' = \\mathbf{a} \\mathbf{v}\n",
    "$$\n",
    "\n",
    "$$ \\Rightarrow  \\mathbf{v}' = \\begin{bmatrix}\n",
    "     \\alpha_{11} & \\alpha_{12}  \\\\    \n",
    "     \\alpha_{21} & \\alpha_{22}\n",
    "\\end{bmatrix} \\mathbf{v} $$\n",
    "\n",
    "coefficients $\\alpha_{ij}$ depend on angle $\\phi$ between $x_1$ and $x_1'$ (or $x_2$ and $x_2'$) \n",
    "\n",
    "$$ \\Rightarrow  \\mathbf{v}' = \\begin{bmatrix}\n",
    "     \\cos(\\phi) & \\sin(\\phi)  \\\\    \n",
    "     -\\sin(\\phi) & \\cos(\\phi)\n",
    "\\end{bmatrix} \\mathbf{v} \n",
    "=\n",
    "\\begin{bmatrix}\n",
    "     \\cos(\\phi) & \\cos(90 - \\phi)  \\\\    \n",
    "     \\cos(90 + \\phi) & \\cos(\\phi)\n",
    "\\end{bmatrix} \\mathbf{v} \n",
    "$$\n",
    "\n",
    "<br>\n",
    "\n",
    "$$ \\alpha_{ij} = \\hat{\\mathbf{e}}_i' \\cdot \\hat{\\mathbf{e}}_j$$\n",
    "\n",
    "<br>\n",
    "\n",
    "$$\\text{Inverse transform: } v_j = \\alpha_{ji} v_i'  \\quad  \\alpha_{ji} = \\hat{e}_j \\cdot \\hat{e}_i'$$"
   ]
  },
  {
   "cell_type": "markdown",
   "metadata": {
    "slideshow": {
     "slide_type": "slide"
    }
   },
   "source": [
    "*In a new coordinate system:*\n",
    "\n",
    "\n",
    "Traction $\\mathbf{t}' = \\mathbf{A} \\mathbf{t} \\Rightarrow \\mathbf{t} = \\mathbf{A}^T \\mathbf{t}' $\n",
    "\n",
    "normal $\\mathbf{n}' = \\mathbf{A} \\mathbf{n} \\Rightarrow \\mathbf{n} = \\mathbf{A}^T \\mathbf{n}' $\n",
    "\n",
    "\n",
    "$\\Rightarrow$ *transformation for stress tensor*\n",
    "\n",
    "<center>\n",
    "$ \\mathbf{t}' = $ <span style=\"color:blue\">$\\mathbf{A}$</span>$\\boldsymbol{\\sigma}^T\\quad\\mathbf{n} $\n",
    "    <br>\n",
    "$ \\mathbf{t}' = $ <span style=\"color:blue\">$\\mathbf{A}$</span>$\\boldsymbol{\\sigma}'^T$<span style=\"color:red\">$\\mathbf{A}^T$</span>$\\mathbf{n} $\n",
    "    <br>\n",
    "$ \\mathbf{t}' = \\ \\ \\boldsymbol{\\sigma}^T\\quad\\mathbf{n} $\n",
    "    <br>\n",
    "</center>\n",
    "\n",
    "<br>\n",
    "<center>\n",
    "$ \\Rightarrow \\boldsymbol{\\sigma}'^T = $<span style=\"color:blue\">$\\mathbf{A}$</span> $\\boldsymbol{\\sigma}^T$<span style=\"color:red\">$\\mathbf{A}^T$</span>\n",
    "</center>\n",
    "\n",
    "<br>\n",
    "<center>\n",
    "$ \\Rightarrow \\sigma_{ij}'^T = $<span style=\"color:blue\">$\\alpha_{ik}$</span> $\\sigma_{kl}^T$<span style=\"color:red\">$\\alpha_{jl}$</span>$ = $<span style=\"color:blue\">$\\alpha_{ik}$</span><span style=\"color:red\">$\\alpha_{jl}$</span>$\\sigma_{kl}^T \\quad$    index notation\n",
    "</center>\n",
    "\n",
    "<br>\n",
    "<center>\n",
    "$ \\Rightarrow $  each dependence on direction transforms as a vector, requiring two transformations\n",
    "</center>\n",
    "<br>\n",
    "<br>\n",
    "\n",
    "\n",
    "* transformation matrices are orthogonal\n",
    "\n",
    "$\\alpha_{ij}^{-1} = \\alpha_{ij} \\quad (\\mathbf{A}^{-1} = \\mathbf{A}^{T})$\n",
    "\n",
    "\n",
    "* remember $\\alpha_{ij} = \\hat{\\mathbf{e}}_i' \\cdot \\hat{\\mathbf{e}}_j$\n",
    "\n",
    "$\\alpha_{ij}^{-1} = \\hat{\\mathbf{e}}_i' \\cdot \\hat{\\mathbf{e}}_j = \\alpha_{ij} = \\alpha_{ij}^T$"
   ]
  },
  {
   "cell_type": "markdown",
   "metadata": {},
   "source": [
    "An $n-$*dimensional* tensor of rank $r$ consists of $n^r$ components\n",
    "\n",
    "\n",
    "This tensor $T_{i1,i2,\\ldots,in}$ is defined relative to a basis of the real, linear n-dimensional space $S_n$\n",
    "\n",
    "\n",
    "and under a coordinate transformation $\\mathbf{T}$ transforms as:\n",
    "\n",
    "\n",
    "$$ T'_{ij\\ldots n} = \\alpha_{ip} \\alpha_{jq} \\ldots \\alpha_{nt} T_{pq \\ldots...t} \\quad \\text{(i.e., one transformation per rank)} $$\n",
    "\n",
    "\n",
    "For *orthonormal* bases the matrices $\\alpha_{ik}$ are *orthogonal* transformations, i.e. $\\alpha_{ik}^{−1} = \\alpha_{ki}$. (i.e., $\\mathbf{A} = \\mathbf{A}^T$) ; columns and rows are orthogonal and have length = 1, i.e., perpendicular unit vectors are transformed to perpendicular unit vectors)\n",
    "\n",
    "\n",
    "If the basis is Cartesian, $\\alpha_{ik}$ are real."
   ]
  },
  {
   "cell_type": "markdown",
   "metadata": {
    "slideshow": {
     "slide_type": "slide"
    }
   },
   "source": [
    "## Transforming the 2-D stress tensor\n",
    "\n",
    "### (determining normal and shear stress on a plane)\n",
    "\n",
    "<img src=\"figures/Stress_tensor_2D_transform.png\" style=\"width: 300px\">\n",
    "\n",
    "\n",
    "Normal to the plane: $$\\hat{\\mathbf{n}} = (\\sin{\\phi}, \\cos{\\phi})$$\n",
    "\n",
    "\n",
    "Normal stress on plane: $$\\sigma_{nn} = \\hat{\\mathbf{n}} \\underline{\\underline{\\sigma}}^T \\hat{\\mathbf{n}}$$\n",
    "\n",
    "\n",
    "This gives: \n",
    "\n",
    "$$ \\sigma_{nn} = (\\sin{\\phi}, \\cos{\\phi}) \\begin{bmatrix}\n",
    "\\sigma_{11} & \\sigma_{21} \\\\\n",
    "\\sigma_{12} & \\sigma_{22}\n",
    "\\end{bmatrix} \\begin{pmatrix}\n",
    "\\sin{\\phi} \\\\\n",
    "\\cos{\\phi}\n",
    "\\end{pmatrix}$$\n",
    "\n",
    "\n",
    "Similarly,\n",
    "\n",
    "\n",
    "$$ \\sigma_{ns} = \\hat{\\mathbf{s}} \\cdot \\underline{\\underline{\\sigma}}^T \\cdot \\hat{\\mathbf{n}} \\qquad \\qquad \\hat{\\mathbf{s}} = (\\cos{\\phi}, -\\sin{\\phi}) $$"
   ]
  },
  {
   "cell_type": "markdown",
   "metadata": {
    "slideshow": {
     "slide_type": "subslide"
    }
   },
   "source": [
    "Multiplying out:\n",
    "\n",
    "\n",
    "σ nn = σ 11 sin 2 φ + σ 21 cos φ sin φ + σ 12 cos φ sin φ + σ 22 cos 2 φ"
   ]
  },
  {
   "cell_type": "markdown",
   "metadata": {},
   "source": [
    "## Transforming the 2-D stress tensor\n",
    "\n",
    "### (determining normal and shear stress on a plane)\n",
    "\n",
    "<img src=\"figures/Stress_tensor_2D_transform_2.png\" style=\"width: 600px\">"
   ]
  },
  {
   "cell_type": "markdown",
   "metadata": {},
   "source": [
    "## Write out transformation\n",
    "\n",
    "\n",
    "<table border=\"0\" style=\"width:80%\" style=\"background-color:#FFFFFF\">\n",
    " \t<tr>\n",
    "  \t\t<td><img src=\"figures/Stress_tensor_2D_transform_3.png\" style=\"width: 300px\"></td>\n",
    "   \t\t<td>$$ \\alpha_{ij} = \\hat{\\mathbf{e}}_i' \\cdot \\hat{\\mathbf{e}}_j$$<br>$$ \\alpha_{s1} = \\hat{\\mathbf{e}}_s \\cdot \\hat{\\mathbf{e}}_1 = \\cos{\\phi} $$<br>$$ \\alpha_{s2} = \\hat{\\mathbf{e}}_s \\cdot \\hat{\\mathbf{e}}_2 = -\\sin{\\phi} $$<br>$$ \\alpha_{n2} = \\hat{\\mathbf{e}}_n \\cdot \\hat{\\mathbf{e}}_2 = \\cos{\\phi} $$<br>$$ \\alpha_{n1} = \\hat{\\mathbf{e}}_n \\cdot \\hat{\\mathbf{e}}_1 = \\sin{\\phi} $$</td>\n",
    " \t</tr>\n",
    "</table>\n",
    "\n",
    "$$ \\sigma_{qp}' = \\alpha_{pi} \\alpha_{qj} \\sigma_{ji} $$\n",
    "<br>\n",
    "\n",
    "<center>\n",
    "    In tensor notation:\n",
    "</center>    \n",
    "\n",
    "$$ \\boldsymbol{\\sigma}'^T = \\mathbf{A} \\cdot \\boldsymbol{\\sigma}^T \\cdot \\mathbf{A}^T $$\n",
    "\n",
    "<center>\n",
    "    In matrix notation:\n",
    "</center>  \n",
    "\n",
    "\n",
    "$$\n",
    "\\begin{bmatrix}\n",
    "\\sigma_{ss} & \\sigma_{ns} \\\\\n",
    "\\sigma_{sn} & \\sigma_{nn}\n",
    "\\end{bmatrix}\n",
    "=\n",
    "\\begin{bmatrix}\n",
    " & & & & \\\\\n",
    " & & & &\n",
    "\\end{bmatrix}\n",
    "\\begin{bmatrix}\n",
    "\\sigma_{11} & \\sigma_{21} \\\\\n",
    "\\sigma_{12} & \\sigma_{22}\n",
    "\\end{bmatrix}\n",
    "\\begin{bmatrix}\n",
    " & & & & \\\\\n",
    " & & & &\n",
    "\\end{bmatrix}\n",
    "$$\n",
    "<br>\n",
    "\n",
    "<center><span style=\"color:blue\">Write out matrices $\\mathbf{A}$ and $\\mathbf{A}^T$</span></center>\n",
    "<center><em><span style=\"color:green\">Check that the expressions for $\\sigma_{nn}, \\sigma_{ns}$ of previous slide obtained</span></em></center>\n"
   ]
  },
  {
   "cell_type": "markdown",
   "metadata": {},
   "source": [
    "## Write out transformation\n",
    "\n",
    "\n",
    "<table border=\"0\" style=\"width:80%\" style=\"background-color:#FFFFFF\">\n",
    " \t<tr>\n",
    "  \t\t<td><img src=\"figures/Stress_tensor_2D_transform_3.png\" style=\"width: 200px\"></td>\n",
    "   \t\t<td>$$ \\alpha_{ij} = \\hat{\\mathbf{e}}_i' \\cdot \\hat{\\mathbf{e}}_j$$<br>$$ \\alpha_{s1} = \\hat{\\mathbf{e}}_s \\cdot \\hat{\\mathbf{e}}_1 = \\cos{\\phi} $$<br>$$ \\alpha_{s2} = \\hat{\\mathbf{e}}_s \\cdot \\hat{\\mathbf{e}}_2 = -\\sin{\\phi} $$<br>$$ \\alpha_{n2} = \\hat{\\mathbf{e}}_n \\cdot \\hat{\\mathbf{e}}_2 = \\cos{\\phi} $$<br>$$ \\alpha_{n1} = \\hat{\\mathbf{e}}_n \\cdot \\hat{\\mathbf{e}}_1 = \\sin{\\phi} $$</td>\n",
    " \t</tr>\n",
    "</table>\n",
    "\n",
    "$$ \\sigma_{qp}' = \\alpha_{pi} \\alpha_{qj} \\sigma_{ji} $$\n",
    "<br>\n",
    "\n",
    "<center>\n",
    "    In tensor notation:\n",
    "</center>    \n",
    "\n",
    "$$ \\boldsymbol{\\sigma}'^T = \\mathbf{A} \\cdot \\boldsymbol{\\sigma}^T \\cdot \\mathbf{A}^T $$\n",
    "\n",
    "<center>\n",
    "    In matrix notation:\n",
    "</center>  \n",
    "\n",
    "\n",
    "$$\n",
    "\\begin{bmatrix}\n",
    "\\sigma_{ss} & \\sigma_{ns} \\\\\n",
    "\\sigma_{sn} & \\sigma_{nn}\n",
    "\\end{bmatrix}\n",
    "=\n",
    "\\begin{bmatrix}\n",
    "\\alpha_{s1} & \\alpha_{s2} \\\\\n",
    "\\alpha_{n1} & \\alpha_{n2}\n",
    "\\end{bmatrix}\n",
    "\\begin{bmatrix}\n",
    "\\sigma_{11} & \\sigma_{21} \\\\\n",
    "\\sigma_{12} & \\sigma_{22}\n",
    "\\end{bmatrix}\n",
    "\\begin{bmatrix}\n",
    "\\alpha_{s1} & \\alpha_{n1} \\\\\n",
    "\\alpha_{s2} & \\alpha_{n2}\n",
    "\\end{bmatrix}\n",
    "$$\n",
    "\n",
    "\n",
    "\n",
    "$$\n",
    "\\begin{bmatrix}\n",
    "\\sigma_{ss} & \\sigma_{ns} \\\\\n",
    "\\sigma_{sn} & \\sigma_{nn}\n",
    "\\end{bmatrix}\n",
    "=\n",
    "\\begin{bmatrix}\n",
    "\\cos{\\phi} & -\\sin{\\phi} \\\\\n",
    "\\sin{\\phi} & \\cos{\\phi}\n",
    "\\end{bmatrix}\n",
    "\\begin{bmatrix}\n",
    "\\sigma_{11} & \\sigma_{21} \\\\\n",
    "\\sigma_{12} & \\sigma_{22}\n",
    "\\end{bmatrix}\n",
    "\\begin{bmatrix}\n",
    "\\cos{\\phi} & \\sin{\\phi} \\\\\n",
    "-\\sin{\\phi} & \\cos{\\phi}\n",
    "\\end{bmatrix}\n",
    "$$"
   ]
  },
  {
   "cell_type": "markdown",
   "metadata": {},
   "source": [
    "For $\\hat{\\mathbf{x}}_1 = (1,0), \\hat{\\mathbf{x}}_2 = (0,1), \\hat{\\mathbf{x}}_1' = (\\cos{\\phi}, -\\sin{\\phi}),\\hat{\\mathbf{x}}_2' = (\\sin{\\phi}, \\cos{\\phi})$\n",
    "\n",
    "\n",
    "\n",
    "\n",
    "<table border=\"0\" style=\"width:80%\" style=\"background-color:#FFFFFF\">\n",
    " \t<tr>\n",
    "        <td><center>first <strong>row</strong> of $\\mathbf{A}$ consists of $\\hat{\\mathbf{x}}_1'$, second of $\\hat{\\mathbf{x}}_2'$<br><br>$$ \\mathbf{A} = \\begin{bmatrix}\\mathbf{x}_1'\\mathbf{x}_1&\\mathbf{x}_1'\\mathbf{x}_2\\\\ \\mathbf{x}_2'\\mathbf{x}_1&\\mathbf{x}_2'\\mathbf{x}_2\\end{bmatrix} = \\begin{bmatrix}\\cos{\\phi}&-\\sin{\\phi}\\\\ \\sin{\\phi}&\\cos{\\phi}\\end{bmatrix}$$<br><em>You may recognise $\\mathbf{A}$ as a matrix that describes an <strong>anticlockwise</strong> rigid-body rotation over an angle $\\phi$</em><br>$\\mathbf{A}^T$ describes <strong>clockwise</strong> rotation over angle $\\phi$<br><br>First <strong>column</strong> of $\\mathbf{A}^T$ consists of $\\hat{\\mathbf{x}}_1'$, second of $\\hat{\\mathbf{x}}_2'$<br><br>$$ \\mathbf{A} = \\begin{bmatrix}\\mathbf{x}_1\\mathbf{x}_1'&\\mathbf{x}_1\\mathbf{x}_2'\\\\ \\mathbf{x}_2\\mathbf{x}_1'&\\mathbf{x}_2\\mathbf{x}_2'\\end{bmatrix} = \\begin{bmatrix}\\cos{\\phi}&-\\sin{\\phi}\\\\ \\sin{\\phi}&\\cos{\\phi}\\end{bmatrix}$$</center></td>\n",
    "  \t\t<td><img src=\"figures/Stress_tensor_2D_transform_3.png\" style=\"width: 200px\"></td>\n",
    " \t</tr>\n",
    "</table>"
   ]
  },
  {
   "cell_type": "markdown",
   "metadata": {},
   "source": [
    "## Diagonalizing/Principal Stresses\n",
    "\n",
    "\n",
    "Real-valued, symmetric rank 2 tensors (square, symmetric matrices) can be diagonalized, i.e. a coordinate frame can be found, such that only the diagonal elements (normal stresses) remain.\n",
    "\n",
    "For stress tensor, these elements, $\\sigma_1, \\sigma_2, \\sigma_3$ are called the principal stresses\n",
    "\n",
    "\n",
    "$$\n",
    "\\begin{bmatrix}\n",
    "\\sigma_1 & 0 & 0 \\\\\n",
    "0 & \\sigma_2 & 0 \\\\\n",
    "0 & 0 & \\sigma_3\n",
    "\\end{bmatrix}\n",
    "$$\n",
    "\n",
    "\n",
    "Such transformation can be cast as:\n",
    "\n",
    "$$\\mathbf{T} \\cdot \\mathbf{x} = \\lambda \\mathbf{x}$$\n",
    "\n",
    "where $\\mathbf{x}_i$ are eigenvectors or characteristic vectors\n",
    "\n",
    "and $\\lambda_i$ are the eigenvalues, characteristic or principal values\n",
    "\n",
    "\n",
    "\n",
    "$$ \\Rightarrow (\\mathbf{T} - \\lambda \\mathbf{I}) \\cdot \\mathbf{x} = 0$$\n",
    "\n",
    "\n",
    "Non-trivial solution only if $\\det{(\\mathbf{T} - \\lambda \\mathbf{I})} = 0$"
   ]
  },
  {
   "cell_type": "markdown",
   "metadata": {},
   "source": [
    "## Stress/Tensor Invariants\n",
    "\n",
    "\n",
    "\n",
    "Invariants are properties of a tensor that do not change if the coordinate system is changed.\n",
    "A rank-2 tensor has three invariants:\n",
    "\n",
    "\n",
    "$$\n",
    "\\begin{align}\n",
    "I_1 = \\text{tr}{\\mathbf{(T)}} &= T_{11} + T_{22} + T_{33}\\\\\n",
    "\\\\\n",
    "I_2 = \\text{minor}{\\mathbf{(T)}} &= \n",
    "\\begin{vmatrix}\n",
    "T_{11} & T_{21} \\\\\n",
    "T_{21} & T_{22} \n",
    "\\end{vmatrix}\n",
    "+\n",
    "\\begin{vmatrix}\n",
    "T_{11} & T_{31} \\\\\n",
    "T_{31} & T_{33} \n",
    "\\end{vmatrix}\n",
    "+\n",
    "\\begin{vmatrix}\n",
    "T_{22} & T_{32} \\\\\n",
    "T_{32} & T_{33} \n",
    "\\end{vmatrix}\n",
    "= T_{11}T_{22} + T_{22}T_{33} + T_{11}T_{33} - T_{21}^2 - T_{32}^2 - T_{31}^2 \\\\\n",
    "\\\\\n",
    "I_3 = \\det{(\\mathbf{T})} &=\n",
    "\\begin{vmatrix}\n",
    "T_{11} & T_{21} & T_{31} \\\\\n",
    "T_{21} & T_{22} & T_{32} \\\\ \n",
    "T_{31} & T_{32} & T_{33}\n",
    "\\end{vmatrix}\n",
    "= T_{11}T_{22}T_{33} + 2 T_{21}T_{32}T_{31} - T_{11}T_{32}^2 - T_{22}T_{31}^2 - T_{33}T_{21}^2\n",
    "\\end{align}\n",
    "$$\n",
    "<br>\n",
    "\n",
    "<center><em>These invariants are important in e.g. diagonalising</em></center>"
   ]
  },
  {
   "cell_type": "markdown",
   "metadata": {},
   "source": [
    "## Hydrostatic and Deviatoric stress\n",
    "\n",
    "\n",
    "$$ \\sigma_{ij} = -p \\delta_{ij} + \\sigma_{ij}' \\qquad  \\boldsymbol{\\sigma} = \n",
    "\\begin{bmatrix}\n",
    "\\sigma_{11} & \\sigma_{12} & \\sigma_{13} \\\\\n",
    "\\sigma_{12} & \\sigma_{22} & \\sigma_{23} \\\\\n",
    "\\sigma_{13} & \\sigma_{23} & \\sigma_{33}\n",
    "\\end{bmatrix}\n",
    "$$\n",
    "\n",
    "<br>\n",
    "\n",
    "$$\n",
    "\\begin{align}\n",
    "\\text{tr}(\\boldsymbol{\\sigma}) &= \\text{trace of stress tensor} \\\\\n",
    " &= \\text{sum of normal stresses} = \\sigma_{11} + \\sigma_{22} + \\sigma_{33} \\text{is an invariant of the stress tensor, i.e. has same value in any coordinate system,} \\\\\n",
    "\\frac{\\text{tr}(\\boldsymbol{\\sigma})}{3} &= -\\text{pressure  } p = \\text{average normal stress  } = \\textbf{hydrostatic stress}\n",
    "\\end{align}\n",
    "\\Rightarrow \\textbf{leads to volume change}\n",
    "$$\n",
    "\n",
    "<br>\n",
    "\n",
    "$$\n",
    "\\boldsymbol{\\sigma}_{ij}' \\text{is } \\textbf{deviatoric stress } = \\sigma_{ij} + p \\delta_{ij} \\\\\n",
    "\\Rightarrow \\textbf{leads to shape change}\n",
    "$$\n",
    "\n",
    "<br>\n",
    "\n",
    "<center><span style=\"color:blue\">$\\text{tr}(\\boldsymbol{\\sigma}') = \\text{?}$</span></center>\n",
    "\n",
    "<br>\n",
    "\n",
    "Note that in geologic applications $\\boldsymbol{\\sigma}' \\neq \\sigma_{ij} + \\rho g z \\delta_{ij}$"
   ]
  },
  {
   "cell_type": "markdown",
   "metadata": {},
   "source": [
    "## Learning Objectives\n",
    "### Stress and tensors\n",
    "\n",
    "\n",
    "* Understand meaning of different components of 3D Cauchy stress tensor\n",
    "* Know how to determine state of stress on given plane\n",
    "* Be able to decompose a rank 2 tensor into symmetric and anti-symmetric components\n",
    "* Be able to transform rank 2 tensor to a new basis.\n",
    "* Be able to determine shear and normal stresses on a plane\n",
    "\n"
   ]
  },
  {
   "cell_type": "markdown",
   "metadata": {},
   "source": [
    "<h3><center><span style=\"color:blue\">Take a break</span></center></h3>\n",
    "\n",
    "<center>Then try <span style=\"color:blue\">Exercise 3</span> and <span style=\"color:blue\">5</span> in the <em>chapter2.ipynb</em> notebook</center>\n",
    "<br>\n",
    "\n",
    "<center>Try to finish in the afternoon workshop in</center>\n",
    "<br>\n",
    "<center><em>chapter2.ipynb</em></center>\n",
    "\n",
    "<br>\n",
    "\n",
    "<center><strong><span style=\"color:blue\">Exercise 1, 2, 3, 4, 6</span></strong></center>\n",
    "\n",
    "\n",
    "<center>Advanced practise <strong><span style=\"color:orange\">Exercise 2</span></strong></center>"
   ]
  },
  {
   "cell_type": "code",
   "execution_count": null,
   "metadata": {},
   "outputs": [],
   "source": []
  }
 ],
 "metadata": {
  "celltoolbar": "Slideshow",
  "kernelspec": {
   "display_name": "Python 3",
   "language": "python",
   "name": "python3"
  },
  "language_info": {
   "codemirror_mode": {
    "name": "ipython",
    "version": 3
   },
   "file_extension": ".py",
   "mimetype": "text/x-python",
   "name": "python",
   "nbconvert_exporter": "python",
   "pygments_lexer": "ipython3",
   "version": "3.7.10"
  },
  "latex_envs": {
   "LaTeX_envs_menu_present": true,
   "autoclose": false,
   "autocomplete": true,
   "bibliofile": "biblio.bib",
   "cite_by": "apalike",
   "current_citInitial": 1,
   "eqLabelWithNumbers": true,
   "eqNumInitial": 1,
   "hotkeys": {
    "equation": "Ctrl-E",
    "itemize": "Ctrl-I"
   },
   "labels_anchors": false,
   "latex_user_defs": false,
   "report_style_numbering": false,
   "user_envs_cfg": false
  },
  "toc": {
   "base_numbering": 1,
   "nav_menu": {},
   "number_sections": true,
   "sideBar": true,
   "skip_h1_title": false,
   "title_cell": "Table of Contents",
   "title_sidebar": "Contents",
   "toc_cell": true,
   "toc_position": {},
   "toc_section_display": true,
   "toc_window_display": false
  }
 },
 "nbformat": 4,
 "nbformat_minor": 1
}
