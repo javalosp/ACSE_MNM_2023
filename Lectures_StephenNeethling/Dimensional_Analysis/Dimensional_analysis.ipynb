{
 "cells": [
  {
   "cell_type": "code",
   "execution_count": 1,
   "metadata": {},
   "outputs": [
    {
     "name": "stdout",
     "output_type": "stream",
     "text": [
      "Populating the interactive namespace from numpy and matplotlib\n"
     ]
    }
   ],
   "source": [
    "%pylab inline"
   ]
  },
  {
   "cell_type": "code",
   "execution_count": 14,
   "metadata": {},
   "outputs": [
    {
     "name": "stdout",
     "output_type": "stream",
     "text": [
      "[[ 1.  0.  1.]\n",
      " [-3.  1. -1.]\n",
      " [ 0. -1. -1.]]\n",
      "[[ 1.  0.  0.]\n",
      " [-3.  1.  1.]\n",
      " [ 0.  0. -2.]]\n",
      "[-1. -3.  1.]\n",
      "[0. 0. 1.]\n"
     ]
    }
   ],
   "source": [
    "A1 = array([[1.,0.,1.],[-3.,1.,-1.],[0.,-1.,-1.]])\n",
    "\n",
    "invA1=linalg.inv(A1)\n",
    "\n",
    "A2 = array([[1.,0.,0.],[-3,1.,1.],[0. ,0.,-2.0]])\n",
    "\n",
    "x2 = array([0.0,0.0,1.0])\n",
    "\n",
    "AinvA = matmul(invA1,A2)\n",
    "\n",
    "x1 = -matmul(AinvA,x2)\n",
    "\n",
    "print(A1)\n",
    "print(A2)\n",
    "print(x1)\n",
    "print(x2)"
   ]
  },
  {
   "cell_type": "code",
   "execution_count": null,
   "metadata": {},
   "outputs": [],
   "source": []
  },
  {
   "cell_type": "code",
   "execution_count": null,
   "metadata": {},
   "outputs": [],
   "source": []
  }
 ],
 "metadata": {
  "kernelspec": {
   "display_name": "Python 3 (ipykernel)",
   "language": "python",
   "name": "python3"
  },
  "language_info": {
   "codemirror_mode": {
    "name": "ipython",
    "version": 3
   },
   "file_extension": ".py",
   "mimetype": "text/x-python",
   "name": "python",
   "nbconvert_exporter": "python",
   "pygments_lexer": "ipython3",
   "version": "3.9.7"
  }
 },
 "nbformat": 4,
 "nbformat_minor": 4
}
